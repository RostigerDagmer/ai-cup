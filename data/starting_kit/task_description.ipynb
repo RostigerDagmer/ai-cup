{
 "cells": [
  {
   "cell_type": "markdown",
   "source": [
    "# Task 1:  Day-ahead energy forecasting\n",
    "\n",
    "## General Setting\n",
    "\n",
    "Electricity, till date, cannot be stored in large amounts, therefore supply and demand need to always be balanced by the energy providers. The accurate short term forecast of energy demand is critical for the operations and control of productive capacity, with significant consequences. However, as with any forecast, there is typically some uncertainty involved. This uncertainty is especially heightened in the case of energy forecasting today, where alternate sources of energy such as solar panels are ubiquitous. Also, with the transition to e-mobility additional non-traditional consumer patterns contribute to the forecasting uncertainty. Therefore, understanding electricity consumption behaviour either for individual households or for regional groups of households becomes key for the future electricity market.\n",
    "\n",
    "## Task\n",
    "\n",
    "This data science challenge task entails estimating energy use forecasts for upto a week, for groups of households in the UK energy market, selected based on geographical similarity. The challenge has two sub-tasks-\n",
    "1. the first sub-task, only one value for the single day ahead is required to be estimated. In other words the aggregated use for one day (1 value per day).\n",
    "2. In the second sub-task, the demand for each hour in the day-ahead is to be estimated (24 values per day).\n",
    "\n",
    "You are provided with historical half-hourly energy readings for the 61 anonymised groups between 1 January 2017 and 04 September 2019. A week is sliced off from each 45-day window and reserved for testing the models. You are required to estimate these missing periods in the two frequencies.\n",
    "\n",
    "Every group consists of a different number of dwellings, for which energy consumption profile has been summed up for two reasons: data privacy and forecasting accuracy.\n",
    "\n",
    "All data is provided in csv format and described below. We also provide code snippets for loading the data and creating submission files.\n"
   ],
   "metadata": {
    "collapsed": false,
    "pycharm": {
     "name": "#%% md\n"
    }
   }
  },
  {
   "cell_type": "markdown",
   "source": [
    "The data is divided into two phases for evaluation purposes. The development set can be used in phase 2, and the final test will be made available in phase 3.\n",
    "\n",
    "The Development set contains test dates from 08/02/2017 until 21/03/2019. (Train set: 01/01/2017 - 31/03/2019)\n",
    "The test set contains dates from 24/04/209 until 04/09/2019.            (Train set: 01/04/2019 - 28/08/2019)\n",
    "\n",
    "Each phase will require submissions for both sub tasks for the respective dates."
   ],
   "metadata": {
    "collapsed": false,
    "pycharm": {
     "name": "#%% md\n"
    }
   }
  },
  {
   "cell_type": "markdown",
   "source": [
    "##  Data \n",
    "\n",
    "`train.csv`: contains the data values in KWh at a half-hourly frequency for the 61 different groups.\n",
    "\n",
    "<b>Column Description</b>:\n",
    "\n",
    "`pseudo_id`: Anonymised IDs for dwelling groups (string).\n",
    "\n",
    "$a_{ij}$: Energy consumption for household $i$ between timestep $j$ and $j+1$ (float64). </br>\n",
    "\n",
    "For e.g.: </br>\n",
    "\n",
    "`2017-01-01 00:00:00` indicates electricity consumption in KWh between 2017-01-01 00:00:00 and 2017-01-01 00:30:00. "
   ],
   "metadata": {
    "collapsed": false,
    "pycharm": {
     "name": "#%% md\n"
    }
   }
  },
  {
   "cell_type": "code",
   "execution_count": 3,
   "outputs": [],
   "source": [
    "# Imports\n",
    "import numpy as np\n",
    "import pandas as pd\n",
    "from datetime import datetime\n",
    "from dataset import Dataset"
   ],
   "metadata": {
    "collapsed": false,
    "pycharm": {
     "name": "#%%\n"
    }
   }
  },
  {
   "cell_type": "markdown",
   "source": [
    "### Data snapshot"
   ],
   "metadata": {
    "collapsed": false,
    "pycharm": {
     "name": "#%% md\n"
    }
   }
  },
  {
   "cell_type": "code",
   "execution_count": 4,
   "outputs": [],
   "source": [
    "# Load csv in pandas, using 'pseudo_id' as index\n",
    "train_df = pd.read_csv('train.csv', index_col = 'pseudo_id')"
   ],
   "metadata": {
    "collapsed": false,
    "pycharm": {
     "name": "#%%\n"
    }
   }
  },
  {
   "cell_type": "code",
   "execution_count": 5,
   "outputs": [
    {
     "data": {
      "text/plain": "                                     2017-01-01 00:00:00  2017-01-01 00:30:00  \\\npseudo_id                                                                       \n0x16cb02173ebf3059efdc97fd1819f14a2               45.023              39.9850   \n0x1c9d08cd16fce04790ef900695861e786                2.931               1.6410   \n0x1612e4cbe3b1b85c3dbcaeaa504ee8424               11.014              12.6525   \n0x20158d36236a640cf0524dba149459169               55.813              49.0400   \n0xc305005dcb1ed6128d816954c5ab9e7e                26.925              28.1180   \n\n                                     2017-01-01 01:00:00  2017-01-01 01:30:00  \\\npseudo_id                                                                       \n0x16cb02173ebf3059efdc97fd1819f14a2              36.5695              34.7480   \n0x1c9d08cd16fce04790ef900695861e786               2.2600               2.2730   \n0x1612e4cbe3b1b85c3dbcaeaa504ee8424              10.8240              13.7485   \n0x20158d36236a640cf0524dba149459169              49.0950              41.1330   \n0xc305005dcb1ed6128d816954c5ab9e7e               25.6000              28.0910   \n\n                                     2017-01-01 02:00:00  2017-01-01 02:30:00  \\\npseudo_id                                                                       \n0x16cb02173ebf3059efdc97fd1819f14a2               35.972               38.439   \n0x1c9d08cd16fce04790ef900695861e786                2.651                3.137   \n0x1612e4cbe3b1b85c3dbcaeaa504ee8424               12.383               12.342   \n0x20158d36236a640cf0524dba149459169               45.660               48.477   \n0xc305005dcb1ed6128d816954c5ab9e7e                26.530               23.858   \n\n                                     2017-01-01 03:00:00  2017-01-01 03:30:00  \\\npseudo_id                                                                       \n0x16cb02173ebf3059efdc97fd1819f14a2               36.591              36.3155   \n0x1c9d08cd16fce04790ef900695861e786                2.532               3.1420   \n0x1612e4cbe3b1b85c3dbcaeaa504ee8424               13.413              11.4840   \n0x20158d36236a640cf0524dba149459169               50.539              45.7370   \n0xc305005dcb1ed6128d816954c5ab9e7e                26.556              27.7140   \n\n                                     2017-01-01 04:00:00  2017-01-01 04:30:00  \\\npseudo_id                                                                       \n0x16cb02173ebf3059efdc97fd1819f14a2              32.6605               0.1420   \n0x1c9d08cd16fce04790ef900695861e786               2.5280               0.0000   \n0x1612e4cbe3b1b85c3dbcaeaa504ee8424              11.5105               0.0455   \n0x20158d36236a640cf0524dba149459169              42.6800               0.0000   \n0xc305005dcb1ed6128d816954c5ab9e7e               23.1740               0.0000   \n\n                                     ...  2019-08-28 19:00:00  \\\npseudo_id                            ...                        \n0x16cb02173ebf3059efdc97fd1819f14a2  ...              24.2880   \n0x1c9d08cd16fce04790ef900695861e786  ...               2.5700   \n0x1612e4cbe3b1b85c3dbcaeaa504ee8424  ...               6.3565   \n0x20158d36236a640cf0524dba149459169  ...              32.6460   \n0xc305005dcb1ed6128d816954c5ab9e7e   ...              13.3980   \n\n                                     2019-08-28 19:30:00  2019-08-28 20:00:00  \\\npseudo_id                                                                       \n0x16cb02173ebf3059efdc97fd1819f14a2               23.994              26.1995   \n0x1c9d08cd16fce04790ef900695861e786                1.446               1.5230   \n0x1612e4cbe3b1b85c3dbcaeaa504ee8424                5.766               5.4955   \n0x20158d36236a640cf0524dba149459169               30.439              30.2470   \n0xc305005dcb1ed6128d816954c5ab9e7e                13.280              13.7340   \n\n                                     2019-08-28 20:30:00  2019-08-28 21:00:00  \\\npseudo_id                                                                       \n0x16cb02173ebf3059efdc97fd1819f14a2              25.0270              23.0665   \n0x1c9d08cd16fce04790ef900695861e786               1.5630               2.5880   \n0x1612e4cbe3b1b85c3dbcaeaa504ee8424               5.0885               6.8140   \n0x20158d36236a640cf0524dba149459169              31.2660              34.3390   \n0xc305005dcb1ed6128d816954c5ab9e7e               13.6060              14.7000   \n\n                                     2019-08-28 21:30:00  2019-08-28 22:00:00  \\\npseudo_id                                                                       \n0x16cb02173ebf3059efdc97fd1819f14a2               26.093              23.4295   \n0x1c9d08cd16fce04790ef900695861e786                2.190               1.4860   \n0x1612e4cbe3b1b85c3dbcaeaa504ee8424                7.492               5.7705   \n0x20158d36236a640cf0524dba149459169               33.076              33.1080   \n0xc305005dcb1ed6128d816954c5ab9e7e                16.290              15.1240   \n\n                                     2019-08-28 22:30:00  2019-08-28 23:00:00  \\\npseudo_id                                                                       \n0x16cb02173ebf3059efdc97fd1819f14a2              25.4715               26.246   \n0x1c9d08cd16fce04790ef900695861e786               2.5270                2.288   \n0x1612e4cbe3b1b85c3dbcaeaa504ee8424               6.8240                6.072   \n0x20158d36236a640cf0524dba149459169              33.7260               30.009   \n0xc305005dcb1ed6128d816954c5ab9e7e               15.3650               14.360   \n\n                                     2019-08-28 23:30:00  \npseudo_id                                                 \n0x16cb02173ebf3059efdc97fd1819f14a2              22.6020  \n0x1c9d08cd16fce04790ef900695861e786               1.7940  \n0x1612e4cbe3b1b85c3dbcaeaa504ee8424               6.7205  \n0x20158d36236a640cf0524dba149459169              34.8400  \n0xc305005dcb1ed6128d816954c5ab9e7e               13.9350  \n\n[5 rows x 39504 columns]",
      "text/html": "<div>\n<style scoped>\n    .dataframe tbody tr th:only-of-type {\n        vertical-align: middle;\n    }\n\n    .dataframe tbody tr th {\n        vertical-align: top;\n    }\n\n    .dataframe thead th {\n        text-align: right;\n    }\n</style>\n<table border=\"1\" class=\"dataframe\">\n  <thead>\n    <tr style=\"text-align: right;\">\n      <th></th>\n      <th>2017-01-01 00:00:00</th>\n      <th>2017-01-01 00:30:00</th>\n      <th>2017-01-01 01:00:00</th>\n      <th>2017-01-01 01:30:00</th>\n      <th>2017-01-01 02:00:00</th>\n      <th>2017-01-01 02:30:00</th>\n      <th>2017-01-01 03:00:00</th>\n      <th>2017-01-01 03:30:00</th>\n      <th>2017-01-01 04:00:00</th>\n      <th>2017-01-01 04:30:00</th>\n      <th>...</th>\n      <th>2019-08-28 19:00:00</th>\n      <th>2019-08-28 19:30:00</th>\n      <th>2019-08-28 20:00:00</th>\n      <th>2019-08-28 20:30:00</th>\n      <th>2019-08-28 21:00:00</th>\n      <th>2019-08-28 21:30:00</th>\n      <th>2019-08-28 22:00:00</th>\n      <th>2019-08-28 22:30:00</th>\n      <th>2019-08-28 23:00:00</th>\n      <th>2019-08-28 23:30:00</th>\n    </tr>\n    <tr>\n      <th>pseudo_id</th>\n      <th></th>\n      <th></th>\n      <th></th>\n      <th></th>\n      <th></th>\n      <th></th>\n      <th></th>\n      <th></th>\n      <th></th>\n      <th></th>\n      <th></th>\n      <th></th>\n      <th></th>\n      <th></th>\n      <th></th>\n      <th></th>\n      <th></th>\n      <th></th>\n      <th></th>\n      <th></th>\n      <th></th>\n    </tr>\n  </thead>\n  <tbody>\n    <tr>\n      <th>0x16cb02173ebf3059efdc97fd1819f14a2</th>\n      <td>45.023</td>\n      <td>39.9850</td>\n      <td>36.5695</td>\n      <td>34.7480</td>\n      <td>35.972</td>\n      <td>38.439</td>\n      <td>36.591</td>\n      <td>36.3155</td>\n      <td>32.6605</td>\n      <td>0.1420</td>\n      <td>...</td>\n      <td>24.2880</td>\n      <td>23.994</td>\n      <td>26.1995</td>\n      <td>25.0270</td>\n      <td>23.0665</td>\n      <td>26.093</td>\n      <td>23.4295</td>\n      <td>25.4715</td>\n      <td>26.246</td>\n      <td>22.6020</td>\n    </tr>\n    <tr>\n      <th>0x1c9d08cd16fce04790ef900695861e786</th>\n      <td>2.931</td>\n      <td>1.6410</td>\n      <td>2.2600</td>\n      <td>2.2730</td>\n      <td>2.651</td>\n      <td>3.137</td>\n      <td>2.532</td>\n      <td>3.1420</td>\n      <td>2.5280</td>\n      <td>0.0000</td>\n      <td>...</td>\n      <td>2.5700</td>\n      <td>1.446</td>\n      <td>1.5230</td>\n      <td>1.5630</td>\n      <td>2.5880</td>\n      <td>2.190</td>\n      <td>1.4860</td>\n      <td>2.5270</td>\n      <td>2.288</td>\n      <td>1.7940</td>\n    </tr>\n    <tr>\n      <th>0x1612e4cbe3b1b85c3dbcaeaa504ee8424</th>\n      <td>11.014</td>\n      <td>12.6525</td>\n      <td>10.8240</td>\n      <td>13.7485</td>\n      <td>12.383</td>\n      <td>12.342</td>\n      <td>13.413</td>\n      <td>11.4840</td>\n      <td>11.5105</td>\n      <td>0.0455</td>\n      <td>...</td>\n      <td>6.3565</td>\n      <td>5.766</td>\n      <td>5.4955</td>\n      <td>5.0885</td>\n      <td>6.8140</td>\n      <td>7.492</td>\n      <td>5.7705</td>\n      <td>6.8240</td>\n      <td>6.072</td>\n      <td>6.7205</td>\n    </tr>\n    <tr>\n      <th>0x20158d36236a640cf0524dba149459169</th>\n      <td>55.813</td>\n      <td>49.0400</td>\n      <td>49.0950</td>\n      <td>41.1330</td>\n      <td>45.660</td>\n      <td>48.477</td>\n      <td>50.539</td>\n      <td>45.7370</td>\n      <td>42.6800</td>\n      <td>0.0000</td>\n      <td>...</td>\n      <td>32.6460</td>\n      <td>30.439</td>\n      <td>30.2470</td>\n      <td>31.2660</td>\n      <td>34.3390</td>\n      <td>33.076</td>\n      <td>33.1080</td>\n      <td>33.7260</td>\n      <td>30.009</td>\n      <td>34.8400</td>\n    </tr>\n    <tr>\n      <th>0xc305005dcb1ed6128d816954c5ab9e7e</th>\n      <td>26.925</td>\n      <td>28.1180</td>\n      <td>25.6000</td>\n      <td>28.0910</td>\n      <td>26.530</td>\n      <td>23.858</td>\n      <td>26.556</td>\n      <td>27.7140</td>\n      <td>23.1740</td>\n      <td>0.0000</td>\n      <td>...</td>\n      <td>13.3980</td>\n      <td>13.280</td>\n      <td>13.7340</td>\n      <td>13.6060</td>\n      <td>14.7000</td>\n      <td>16.290</td>\n      <td>15.1240</td>\n      <td>15.3650</td>\n      <td>14.360</td>\n      <td>13.9350</td>\n    </tr>\n  </tbody>\n</table>\n<p>5 rows × 39504 columns</p>\n</div>"
     },
     "execution_count": 5,
     "metadata": {},
     "output_type": "execute_result"
    }
   ],
   "source": [
    "# Print first few lines in train_df\n",
    "train_df.head()"
   ],
   "metadata": {
    "collapsed": false,
    "pycharm": {
     "name": "#%%\n"
    }
   }
  },
  {
   "cell_type": "markdown",
   "source": [
    "Note that the data points are given at a frequency resolution of 30 minutes. However, the task requires predictions either as daily or hourly aggregates. A week is missing after each consecutive 38 days (in total a cycle of 45 days), for instance after `2017-02-07` timestams are missing until `2017-02-14`. That means values for those dates are missing and are to be predicted."
   ],
   "metadata": {
    "collapsed": false,
    "pycharm": {
     "name": "#%% md\n"
    }
   }
  },
  {
   "cell_type": "markdown",
   "source": [
    "### Fit a Dummy Regressor\n",
    "\n",
    "Example for Subtask 1: Day-ahead daily forecast"
   ],
   "metadata": {
    "collapsed": false,
    "pycharm": {
     "name": "#%% md\n"
    }
   }
  },
  {
   "cell_type": "code",
   "execution_count": 6,
   "outputs": [
    {
     "data": {
      "text/plain": "                    0        1         2         3         4        5  \\\n2017-01-01  1673.8655  143.162  586.9155  2094.588  1260.608  432.268   \n2017-01-02  1463.3230  130.557  532.9330  1845.933  1024.438  361.388   \n2017-01-03  1132.2910   99.234  407.0630  1475.750   725.995  279.199   \n2017-01-04  1183.8085   91.932  325.4720  1553.638   702.530  306.612   \n2017-01-05  1125.2870   76.781  328.4645  1572.033   672.427  277.665   \n\n                  6          7          8        9  ...       52       53  \\\n2017-01-01  211.028  1191.6520  1456.7335  503.095  ...  313.948  196.943   \n2017-01-02  158.281  1022.2485  1319.9650  356.898  ...  190.435  153.460   \n2017-01-03  125.445   765.0000   991.8735  257.116  ...  110.994   88.819   \n2017-01-04  119.487   741.4780  1011.5705  278.864  ...   55.876   78.585   \n2017-01-05  116.686   677.7000  1038.2905  284.385  ...   57.125   79.498   \n\n                54       55      56      57        58       59       60  \\\n2017-01-01  36.989  153.074  19.533  80.263  175.5120  40.8825  112.112   \n2017-01-02  42.530  104.633  20.703  69.607  140.6670  31.2955   92.511   \n2017-01-03  33.476   79.647  14.527  38.887  108.7145  29.8745   64.486   \n2017-01-04  30.363   75.137  16.648  53.533  117.0440  33.0020   54.094   \n2017-01-05  30.640   76.458  17.598  48.185  119.8990  37.0340   48.022   \n\n                 date  \n2017-01-01 2017-01-01  \n2017-01-02 2017-01-02  \n2017-01-03 2017-01-03  \n2017-01-04 2017-01-04  \n2017-01-05 2017-01-05  \n\n[5 rows x 62 columns]",
      "text/html": "<div>\n<style scoped>\n    .dataframe tbody tr th:only-of-type {\n        vertical-align: middle;\n    }\n\n    .dataframe tbody tr th {\n        vertical-align: top;\n    }\n\n    .dataframe thead th {\n        text-align: right;\n    }\n</style>\n<table border=\"1\" class=\"dataframe\">\n  <thead>\n    <tr style=\"text-align: right;\">\n      <th></th>\n      <th>0</th>\n      <th>1</th>\n      <th>2</th>\n      <th>3</th>\n      <th>4</th>\n      <th>5</th>\n      <th>6</th>\n      <th>7</th>\n      <th>8</th>\n      <th>9</th>\n      <th>...</th>\n      <th>52</th>\n      <th>53</th>\n      <th>54</th>\n      <th>55</th>\n      <th>56</th>\n      <th>57</th>\n      <th>58</th>\n      <th>59</th>\n      <th>60</th>\n      <th>date</th>\n    </tr>\n  </thead>\n  <tbody>\n    <tr>\n      <th>2017-01-01</th>\n      <td>1673.8655</td>\n      <td>143.162</td>\n      <td>586.9155</td>\n      <td>2094.588</td>\n      <td>1260.608</td>\n      <td>432.268</td>\n      <td>211.028</td>\n      <td>1191.6520</td>\n      <td>1456.7335</td>\n      <td>503.095</td>\n      <td>...</td>\n      <td>313.948</td>\n      <td>196.943</td>\n      <td>36.989</td>\n      <td>153.074</td>\n      <td>19.533</td>\n      <td>80.263</td>\n      <td>175.5120</td>\n      <td>40.8825</td>\n      <td>112.112</td>\n      <td>2017-01-01</td>\n    </tr>\n    <tr>\n      <th>2017-01-02</th>\n      <td>1463.3230</td>\n      <td>130.557</td>\n      <td>532.9330</td>\n      <td>1845.933</td>\n      <td>1024.438</td>\n      <td>361.388</td>\n      <td>158.281</td>\n      <td>1022.2485</td>\n      <td>1319.9650</td>\n      <td>356.898</td>\n      <td>...</td>\n      <td>190.435</td>\n      <td>153.460</td>\n      <td>42.530</td>\n      <td>104.633</td>\n      <td>20.703</td>\n      <td>69.607</td>\n      <td>140.6670</td>\n      <td>31.2955</td>\n      <td>92.511</td>\n      <td>2017-01-02</td>\n    </tr>\n    <tr>\n      <th>2017-01-03</th>\n      <td>1132.2910</td>\n      <td>99.234</td>\n      <td>407.0630</td>\n      <td>1475.750</td>\n      <td>725.995</td>\n      <td>279.199</td>\n      <td>125.445</td>\n      <td>765.0000</td>\n      <td>991.8735</td>\n      <td>257.116</td>\n      <td>...</td>\n      <td>110.994</td>\n      <td>88.819</td>\n      <td>33.476</td>\n      <td>79.647</td>\n      <td>14.527</td>\n      <td>38.887</td>\n      <td>108.7145</td>\n      <td>29.8745</td>\n      <td>64.486</td>\n      <td>2017-01-03</td>\n    </tr>\n    <tr>\n      <th>2017-01-04</th>\n      <td>1183.8085</td>\n      <td>91.932</td>\n      <td>325.4720</td>\n      <td>1553.638</td>\n      <td>702.530</td>\n      <td>306.612</td>\n      <td>119.487</td>\n      <td>741.4780</td>\n      <td>1011.5705</td>\n      <td>278.864</td>\n      <td>...</td>\n      <td>55.876</td>\n      <td>78.585</td>\n      <td>30.363</td>\n      <td>75.137</td>\n      <td>16.648</td>\n      <td>53.533</td>\n      <td>117.0440</td>\n      <td>33.0020</td>\n      <td>54.094</td>\n      <td>2017-01-04</td>\n    </tr>\n    <tr>\n      <th>2017-01-05</th>\n      <td>1125.2870</td>\n      <td>76.781</td>\n      <td>328.4645</td>\n      <td>1572.033</td>\n      <td>672.427</td>\n      <td>277.665</td>\n      <td>116.686</td>\n      <td>677.7000</td>\n      <td>1038.2905</td>\n      <td>284.385</td>\n      <td>...</td>\n      <td>57.125</td>\n      <td>79.498</td>\n      <td>30.640</td>\n      <td>76.458</td>\n      <td>17.598</td>\n      <td>48.185</td>\n      <td>119.8990</td>\n      <td>37.0340</td>\n      <td>48.022</td>\n      <td>2017-01-05</td>\n    </tr>\n  </tbody>\n</table>\n<p>5 rows × 62 columns</p>\n</div>"
     },
     "execution_count": 6,
     "metadata": {},
     "output_type": "execute_result"
    }
   ],
   "source": [
    "# read csv\n",
    "df = pd.read_csv('train.csv')\n",
    "# drop index for feature preparation\n",
    "df_ = df.drop(columns='pseudo_id')\n",
    "# convert dates to pandas datetime\n",
    "df_.columns = [datetime.strptime(c, \"%Y-%m-%d %H:%M:%S\") for c in df_.columns]\n",
    "# Aggregate energy use values per day\n",
    "df_ = df_.T.groupby(df_.T.index.date).sum()\n",
    "# Set dates for development phase\n",
    "new_date_range = pd.date_range(start=\"2017-01-01\", end=\"2019-03-31\", freq=\"D\")\n",
    "# Add test dates in the data frame\n",
    "df_ = df_.reindex(new_date_range, fill_value = 100) # using dummy values in test set\n",
    "# df_ = df_.T\n",
    "\n",
    "df_['date'] = df_.index\n",
    "df_.head()"
   ],
   "metadata": {
    "collapsed": false,
    "pycharm": {
     "name": "#%%\n"
    }
   }
  },
  {
   "cell_type": "code",
   "execution_count": 7,
   "outputs": [],
   "source": [
    "from ts_split import GroupedTimeSeriesSplit\n",
    "from models import SeasonalPredictor\n",
    "# Prepare data into train/test split\n",
    "tscv = GroupedTimeSeriesSplit(train_window= 38, test_window=7, train_gap = 0)\n",
    "## Use your Scikit estimator\n",
    "# est = your_estimator()\n",
    "est = SeasonalPredictor()\n",
    "# perform prediction\n",
    "predictions = []\n",
    "date_col = 61\n",
    "for train_ind, test_ind in tscv.split(df_, y=df_, dates = df_.index):\n",
    "    X_train = df_.iloc[train_ind]\n",
    "    y_train = df_.iloc[train_ind].shift(1)\n",
    "    est = est.fit(X_train, y_train)\n",
    "    X_test = df_.iloc[test_ind].copy()\n",
    "    ## predict on the test dataframe\n",
    "    X_test = est.predict(X_test)\n",
    "    prediction_df = pd.DataFrame(X_test)\n",
    "    prediction_df[date_col] = prediction_df[date_col] + pd.to_timedelta(8, unit= 'd')\n",
    "    predictions.append(prediction_df)\n",
    "predictions = pd.concat(predictions)\n",
    "predictions.index = predictions[date_col]\n",
    "predictions.drop(columns = [date_col], inplace = True)\n",
    "predictions = predictions.T.iloc[:, :-3]\n",
    "# add original pseudo_ids\n",
    "#predictions = predictions.set_index(df.pseudo_id)\n",
    "\n",
    "predictions.insert(0, 'pseudo_id', df.pseudo_id)"
   ],
   "metadata": {
    "collapsed": false,
    "pycharm": {
     "name": "#%%\n"
    }
   }
  },
  {
   "cell_type": "code",
   "execution_count": 8,
   "outputs": [
    {
     "data": {
      "text/plain": "61                            pseudo_id 2017-02-08 00:00:00  \\\n0   0x16cb02173ebf3059efdc97fd1819f14a2            1519.776   \n1   0x1c9d08cd16fce04790ef900695861e786              89.082   \n2   0x1612e4cbe3b1b85c3dbcaeaa504ee8424            389.7045   \n3   0x20158d36236a640cf0524dba149459169            3238.623   \n4    0xc305005dcb1ed6128d816954c5ab9e7e              624.56   \n..                                  ...                 ...   \n56  0x12342fbadc0ca9418f2d540bb3cb8364a              20.653   \n57  0x16d1816bc5d185c47de080d4c6a64bc9a              51.941   \n58  0x14f480f24c435af1b8574c1c6bab38a1c            111.7475   \n59  0x1c7fc724d0a4f89ed1de8a0a4b302db22             79.7915   \n60  0x187454451b5ef5c6ad7377c21d9adbfe2              64.997   \n\n61 2017-02-09 00:00:00 2017-02-10 00:00:00 2017-02-11 00:00:00  \\\n0            1372.3825           1056.1095           1290.8265   \n1                82.68              75.174              81.824   \n2             290.5195             241.494            334.4945   \n3             2919.566            2355.022            2990.302   \n4              584.828             504.496             590.362   \n..                 ...                 ...                 ...   \n56              17.715              12.516              15.149   \n57              60.318              45.359              45.105   \n58            102.0545              86.983              83.047   \n59              73.215              55.783              65.838   \n60              61.089              49.181              62.984   \n\n61 2017-02-12 00:00:00 2017-02-13 00:00:00 2017-02-14 00:00:00  \\\n0            1737.6175           1935.3125           1807.4465   \n1              113.631             128.987             107.259   \n2             390.1805            490.0385            424.5275   \n3             4014.421            4458.047            4083.174   \n4               948.21            1071.587            1000.546   \n..                 ...                 ...                 ...   \n56               22.64              31.045              22.573   \n57              54.483              60.591              55.662   \n58             124.799             154.621             134.693   \n59              41.029             45.3185             37.4015   \n60              78.558               86.86              80.946   \n\n61 2017-03-25 00:00:00 2017-03-26 00:00:00  ... 2019-02-02 00:00:00  \\\n0            1578.1475            1744.169  ...            4282.343   \n1              105.664             110.331  ...             282.708   \n2              503.898            579.7995  ...            819.7645   \n3             2969.472            3246.188  ...            4732.771   \n4              873.621             931.245  ...              2334.2   \n..                 ...                 ...  ...                 ...   \n56              25.179              27.049  ...              61.599   \n57              48.201              52.731  ...             169.361   \n58             137.511              154.07  ...            446.0455   \n59             69.1915             80.2005  ...             117.579   \n60              78.102              90.113  ...             232.572   \n\n61 2019-02-03 00:00:00 2019-02-04 00:00:00 2019-03-15 00:00:00  \\\n0             2920.512           2406.4675           3588.6385   \n1              207.484              165.91             256.783   \n2             538.4465            370.7955             750.352   \n3             3397.678            2738.874            4191.467   \n4             1922.352            1534.155            2192.406   \n..                 ...                 ...                 ...   \n56               40.52              39.822              61.912   \n57             123.678             100.643             145.036   \n58             279.696            221.3995            324.4705   \n59              95.319              71.176              98.457   \n60             154.202             133.833             205.862   \n\n61 2019-03-16 00:00:00 2019-03-17 00:00:00 2019-03-18 00:00:00  \\\n0             2612.024            2502.003           2629.7525   \n1              193.636             185.978             168.902   \n2              431.749            401.8295             349.459   \n3             2963.118            2846.125            3065.533   \n4             1663.886            1588.094            1616.771   \n..                 ...                 ...                 ...   \n56              45.559              48.264              53.415   \n57             124.183             108.917             122.937   \n58             216.985            208.4295            233.2085   \n59             75.0605             65.3685             73.8055   \n60             139.647             138.048              129.39   \n\n61 2019-03-19 00:00:00 2019-03-20 00:00:00 2019-03-21 00:00:00  \n0            2483.6425            3274.512           3637.6735  \n1              162.666             224.949             268.944  \n2             375.7885            728.0365             831.205  \n3             2839.945            3819.749            4140.033  \n4              1495.21            2015.257            2178.948  \n..                 ...                 ...                 ...  \n56              58.642              67.357               68.06  \n57             109.285             123.424             147.961  \n58            208.3125              303.62            355.8485  \n59             68.3145              90.101              113.81  \n60             149.142             208.895             225.788  \n\n[61 rows x 127 columns]",
      "text/html": "<div>\n<style scoped>\n    .dataframe tbody tr th:only-of-type {\n        vertical-align: middle;\n    }\n\n    .dataframe tbody tr th {\n        vertical-align: top;\n    }\n\n    .dataframe thead th {\n        text-align: right;\n    }\n</style>\n<table border=\"1\" class=\"dataframe\">\n  <thead>\n    <tr style=\"text-align: right;\">\n      <th>61</th>\n      <th>pseudo_id</th>\n      <th>2017-02-08 00:00:00</th>\n      <th>2017-02-09 00:00:00</th>\n      <th>2017-02-10 00:00:00</th>\n      <th>2017-02-11 00:00:00</th>\n      <th>2017-02-12 00:00:00</th>\n      <th>2017-02-13 00:00:00</th>\n      <th>2017-02-14 00:00:00</th>\n      <th>2017-03-25 00:00:00</th>\n      <th>2017-03-26 00:00:00</th>\n      <th>...</th>\n      <th>2019-02-02 00:00:00</th>\n      <th>2019-02-03 00:00:00</th>\n      <th>2019-02-04 00:00:00</th>\n      <th>2019-03-15 00:00:00</th>\n      <th>2019-03-16 00:00:00</th>\n      <th>2019-03-17 00:00:00</th>\n      <th>2019-03-18 00:00:00</th>\n      <th>2019-03-19 00:00:00</th>\n      <th>2019-03-20 00:00:00</th>\n      <th>2019-03-21 00:00:00</th>\n    </tr>\n  </thead>\n  <tbody>\n    <tr>\n      <th>0</th>\n      <td>0x16cb02173ebf3059efdc97fd1819f14a2</td>\n      <td>1519.776</td>\n      <td>1372.3825</td>\n      <td>1056.1095</td>\n      <td>1290.8265</td>\n      <td>1737.6175</td>\n      <td>1935.3125</td>\n      <td>1807.4465</td>\n      <td>1578.1475</td>\n      <td>1744.169</td>\n      <td>...</td>\n      <td>4282.343</td>\n      <td>2920.512</td>\n      <td>2406.4675</td>\n      <td>3588.6385</td>\n      <td>2612.024</td>\n      <td>2502.003</td>\n      <td>2629.7525</td>\n      <td>2483.6425</td>\n      <td>3274.512</td>\n      <td>3637.6735</td>\n    </tr>\n    <tr>\n      <th>1</th>\n      <td>0x1c9d08cd16fce04790ef900695861e786</td>\n      <td>89.082</td>\n      <td>82.68</td>\n      <td>75.174</td>\n      <td>81.824</td>\n      <td>113.631</td>\n      <td>128.987</td>\n      <td>107.259</td>\n      <td>105.664</td>\n      <td>110.331</td>\n      <td>...</td>\n      <td>282.708</td>\n      <td>207.484</td>\n      <td>165.91</td>\n      <td>256.783</td>\n      <td>193.636</td>\n      <td>185.978</td>\n      <td>168.902</td>\n      <td>162.666</td>\n      <td>224.949</td>\n      <td>268.944</td>\n    </tr>\n    <tr>\n      <th>2</th>\n      <td>0x1612e4cbe3b1b85c3dbcaeaa504ee8424</td>\n      <td>389.7045</td>\n      <td>290.5195</td>\n      <td>241.494</td>\n      <td>334.4945</td>\n      <td>390.1805</td>\n      <td>490.0385</td>\n      <td>424.5275</td>\n      <td>503.898</td>\n      <td>579.7995</td>\n      <td>...</td>\n      <td>819.7645</td>\n      <td>538.4465</td>\n      <td>370.7955</td>\n      <td>750.352</td>\n      <td>431.749</td>\n      <td>401.8295</td>\n      <td>349.459</td>\n      <td>375.7885</td>\n      <td>728.0365</td>\n      <td>831.205</td>\n    </tr>\n    <tr>\n      <th>3</th>\n      <td>0x20158d36236a640cf0524dba149459169</td>\n      <td>3238.623</td>\n      <td>2919.566</td>\n      <td>2355.022</td>\n      <td>2990.302</td>\n      <td>4014.421</td>\n      <td>4458.047</td>\n      <td>4083.174</td>\n      <td>2969.472</td>\n      <td>3246.188</td>\n      <td>...</td>\n      <td>4732.771</td>\n      <td>3397.678</td>\n      <td>2738.874</td>\n      <td>4191.467</td>\n      <td>2963.118</td>\n      <td>2846.125</td>\n      <td>3065.533</td>\n      <td>2839.945</td>\n      <td>3819.749</td>\n      <td>4140.033</td>\n    </tr>\n    <tr>\n      <th>4</th>\n      <td>0xc305005dcb1ed6128d816954c5ab9e7e</td>\n      <td>624.56</td>\n      <td>584.828</td>\n      <td>504.496</td>\n      <td>590.362</td>\n      <td>948.21</td>\n      <td>1071.587</td>\n      <td>1000.546</td>\n      <td>873.621</td>\n      <td>931.245</td>\n      <td>...</td>\n      <td>2334.2</td>\n      <td>1922.352</td>\n      <td>1534.155</td>\n      <td>2192.406</td>\n      <td>1663.886</td>\n      <td>1588.094</td>\n      <td>1616.771</td>\n      <td>1495.21</td>\n      <td>2015.257</td>\n      <td>2178.948</td>\n    </tr>\n    <tr>\n      <th>...</th>\n      <td>...</td>\n      <td>...</td>\n      <td>...</td>\n      <td>...</td>\n      <td>...</td>\n      <td>...</td>\n      <td>...</td>\n      <td>...</td>\n      <td>...</td>\n      <td>...</td>\n      <td>...</td>\n      <td>...</td>\n      <td>...</td>\n      <td>...</td>\n      <td>...</td>\n      <td>...</td>\n      <td>...</td>\n      <td>...</td>\n      <td>...</td>\n      <td>...</td>\n      <td>...</td>\n    </tr>\n    <tr>\n      <th>56</th>\n      <td>0x12342fbadc0ca9418f2d540bb3cb8364a</td>\n      <td>20.653</td>\n      <td>17.715</td>\n      <td>12.516</td>\n      <td>15.149</td>\n      <td>22.64</td>\n      <td>31.045</td>\n      <td>22.573</td>\n      <td>25.179</td>\n      <td>27.049</td>\n      <td>...</td>\n      <td>61.599</td>\n      <td>40.52</td>\n      <td>39.822</td>\n      <td>61.912</td>\n      <td>45.559</td>\n      <td>48.264</td>\n      <td>53.415</td>\n      <td>58.642</td>\n      <td>67.357</td>\n      <td>68.06</td>\n    </tr>\n    <tr>\n      <th>57</th>\n      <td>0x16d1816bc5d185c47de080d4c6a64bc9a</td>\n      <td>51.941</td>\n      <td>60.318</td>\n      <td>45.359</td>\n      <td>45.105</td>\n      <td>54.483</td>\n      <td>60.591</td>\n      <td>55.662</td>\n      <td>48.201</td>\n      <td>52.731</td>\n      <td>...</td>\n      <td>169.361</td>\n      <td>123.678</td>\n      <td>100.643</td>\n      <td>145.036</td>\n      <td>124.183</td>\n      <td>108.917</td>\n      <td>122.937</td>\n      <td>109.285</td>\n      <td>123.424</td>\n      <td>147.961</td>\n    </tr>\n    <tr>\n      <th>58</th>\n      <td>0x14f480f24c435af1b8574c1c6bab38a1c</td>\n      <td>111.7475</td>\n      <td>102.0545</td>\n      <td>86.983</td>\n      <td>83.047</td>\n      <td>124.799</td>\n      <td>154.621</td>\n      <td>134.693</td>\n      <td>137.511</td>\n      <td>154.07</td>\n      <td>...</td>\n      <td>446.0455</td>\n      <td>279.696</td>\n      <td>221.3995</td>\n      <td>324.4705</td>\n      <td>216.985</td>\n      <td>208.4295</td>\n      <td>233.2085</td>\n      <td>208.3125</td>\n      <td>303.62</td>\n      <td>355.8485</td>\n    </tr>\n    <tr>\n      <th>59</th>\n      <td>0x1c7fc724d0a4f89ed1de8a0a4b302db22</td>\n      <td>79.7915</td>\n      <td>73.215</td>\n      <td>55.783</td>\n      <td>65.838</td>\n      <td>41.029</td>\n      <td>45.3185</td>\n      <td>37.4015</td>\n      <td>69.1915</td>\n      <td>80.2005</td>\n      <td>...</td>\n      <td>117.579</td>\n      <td>95.319</td>\n      <td>71.176</td>\n      <td>98.457</td>\n      <td>75.0605</td>\n      <td>65.3685</td>\n      <td>73.8055</td>\n      <td>68.3145</td>\n      <td>90.101</td>\n      <td>113.81</td>\n    </tr>\n    <tr>\n      <th>60</th>\n      <td>0x187454451b5ef5c6ad7377c21d9adbfe2</td>\n      <td>64.997</td>\n      <td>61.089</td>\n      <td>49.181</td>\n      <td>62.984</td>\n      <td>78.558</td>\n      <td>86.86</td>\n      <td>80.946</td>\n      <td>78.102</td>\n      <td>90.113</td>\n      <td>...</td>\n      <td>232.572</td>\n      <td>154.202</td>\n      <td>133.833</td>\n      <td>205.862</td>\n      <td>139.647</td>\n      <td>138.048</td>\n      <td>129.39</td>\n      <td>149.142</td>\n      <td>208.895</td>\n      <td>225.788</td>\n    </tr>\n  </tbody>\n</table>\n<p>61 rows × 127 columns</p>\n</div>"
     },
     "execution_count": 8,
     "metadata": {},
     "output_type": "execute_result"
    }
   ],
   "source": [
    "predictions"
   ],
   "metadata": {
    "collapsed": false,
    "pycharm": {
     "name": "#%%\n"
    }
   }
  },
  {
   "cell_type": "markdown",
   "source": [
    "### Train a Pytorch model"
   ],
   "metadata": {
    "collapsed": false,
    "pycharm": {
     "name": "#%% md\n"
    }
   }
  },
  {
   "cell_type": "markdown",
   "source": [
    "Load Custom Pytorch Dataset\n",
    "Please refer to `dataset.py` for the source code\n",
    "\n",
    "Features used:\n",
    "- N days lag\n",
    "- DateTime features, i.e month, season, day of the year, etc."
   ],
   "metadata": {
    "collapsed": false,
    "pycharm": {
     "name": "#%% md\n"
    }
   }
  },
  {
   "cell_type": "code",
   "execution_count": 9,
   "outputs": [],
   "source": [
    "# Create an instance of Dataset class, sampled at hourly frequency, using features with 7 day lag\n",
    "# Frequency: D -> Daily, H -> Hourly\n",
    "dataset = Dataset('train.csv', frequency= \"D\", window_size= 7)"
   ],
   "metadata": {
    "collapsed": false,
    "pycharm": {
     "name": "#%%\n"
    }
   }
  },
  {
   "cell_type": "code",
   "execution_count": 10,
   "outputs": [
    {
     "name": "stdout",
     "output_type": "stream",
     "text": [
      "torch.Size([815, 14])\n"
     ]
    }
   ],
   "source": [
    "# Visualise a sample\n",
    "print(dataset[1][0].shape)"
   ],
   "metadata": {
    "collapsed": false,
    "pycharm": {
     "name": "#%%\n"
    }
   }
  },
  {
   "cell_type": "code",
   "execution_count": 11,
   "outputs": [
    {
     "name": "stdout",
     "output_type": "stream",
     "text": [
      "MLP(\n",
      "  (fc): Linear(in_features=14, out_features=64, bias=True)\n",
      "  (fc1): Linear(in_features=64, out_features=32, bias=True)\n",
      "  (fc2): Linear(in_features=32, out_features=16, bias=True)\n",
      "  (fc3): Linear(in_features=16, out_features=1, bias=True)\n",
      "  (activation): ReLU()\n",
      ")\n",
      "epoch:   0 loss: 683908.31250000\n",
      "epoch:   1 loss: 634419.50000000\n",
      "epoch:   2 loss: 576422.87500000\n",
      "epoch:   3 loss: 518585.43750000\n",
      "epoch:   4 loss: 461839.71875000\n",
      "epoch:   5 loss: 406354.34375000\n",
      "epoch:   6 loss: 352179.62500000\n",
      "epoch:   7 loss: 299533.65625000\n",
      "epoch:   8 loss: 248835.51562500\n",
      "epoch:   9 loss: 200714.21875000\n",
      "Finished training and model saved!\n"
     ]
    }
   ],
   "source": [
    "from models import MLP, train_model #simple PyTorch MLP model, see models.py\n",
    "from torch.utils.data import DataLoader\n",
    "import torch\n",
    "import torch.nn as nn\n",
    "\n",
    "# Some hyperparameters\n",
    "params = {\n",
    "    'batch_size' : 256,\n",
    "    'lr' : 0.001,\n",
    "    'num_epochs' : 10\n",
    "\n",
    "    }\n",
    "\n",
    "input_dim = dataset[0][0].size(1)\n",
    "\n",
    "# Define dataloader\n",
    "data = DataLoader(dataset, batch_size=params['batch_size'], shuffle=False, sampler=None, batch_sampler=None, num_workers=0,\n",
    "                  collate_fn=None, pin_memory=True, drop_last=False)\n",
    "\n",
    "\n",
    "# Assign device for computation\n",
    "device = torch.device(\"cuda:0\" if torch.cuda.is_available() else \"cpu\")\n",
    "\n",
    "# init model\n",
    "model = MLP(input_dim)\n",
    "\n",
    "# Run training\n",
    "train_model(model, data, device, **params)"
   ],
   "metadata": {
    "collapsed": false,
    "pycharm": {
     "name": "#%%\n"
    }
   }
  },
  {
   "cell_type": "markdown",
   "source": [
    "## Submission of Results\n",
    "\n",
    "For each `pseudo_id` given in the train set, you are required to predict the energy consumption for each missing day in the follwing two formats:\n",
    "\n",
    "1. Subtask 1: Aggregated usage values for each day, i.e., 1 value per day, and\n",
    "2. Subtask 2: Hourly usage values for each day, i.e., 24 values per day.\n",
    "\n",
    "Both files are required in the submission file to calculate evaluation metrics."
   ],
   "metadata": {
    "collapsed": false,
    "pycharm": {
     "name": "#%% md\n"
    }
   }
  },
  {
   "cell_type": "code",
   "execution_count": 12,
   "outputs": [
    {
     "data": {
      "text/plain": "DatetimeIndex(['2017-02-08', '2017-02-09', '2017-02-10', '2017-02-11',\n               '2017-02-12', '2017-02-13', '2017-02-14', '2017-03-25',\n               '2017-03-26', '2017-03-27',\n               ...\n               '2019-02-02', '2019-02-03', '2019-02-04', '2019-03-15',\n               '2019-03-16', '2019-03-17', '2019-03-18', '2019-03-19',\n               '2019-03-20', '2019-03-21'],\n              dtype='datetime64[ns]', length=126, freq=None)"
     },
     "execution_count": 12,
     "metadata": {},
     "output_type": "execute_result"
    }
   ],
   "source": [
    "# print test indices\n",
    "dataset.get_test_idx()"
   ],
   "metadata": {
    "collapsed": false,
    "pycharm": {
     "name": "#%%\n"
    }
   }
  },
  {
   "cell_type": "markdown",
   "source": [
    "A prediction for each time step in respective frequencies is to be calculated and stored as csv."
   ],
   "metadata": {
    "collapsed": false,
    "pycharm": {
     "name": "#%% md\n"
    }
   }
  },
  {
   "cell_type": "markdown",
   "source": [
    "### Example Submission \n",
    "\n",
    "Subtask 1:\n",
    "\n",
    "\n",
    "<code> ```pseudo_id, 2017-02-08 00:00:00, 2017-02-09 00:00:00, 2017-02-10 00:00:00, ........, 2019-02-28 00:00:00\n",
    "0xd05, 23.4, 11.3, 23.2, ......., 32.4 \n",
    "0xd06, 21.4, 21.3, 13,2, ......., 42.4```</code>\n",
    "\n",
    "\n",
    "\n",
    "Subtask 2:\n",
    "\n",
    "\n",
    "<code>```pseudo_id, 2017-02-08 00:00:00 , 2017-02-08 01:00:00, 2017-02-08 02:00:00, ........, 2019-02-28 23:00:00\n",
    "0xd05, 3.4, 1.3, 2.2, ......., 3.4\n",
    "0xd06, 1.4, 1.3, 3.2, ......., 1.4```</code>"
   ],
   "metadata": {
    "collapsed": false,
    "pycharm": {
     "name": "#%% md\n"
    }
   }
  },
  {
   "cell_type": "code",
   "execution_count": 13,
   "outputs": [],
   "source": [
    "sample_submission_hourly = pd.read_csv('sample_submission_hourly.csv')\n",
    "sample_submission_daily = pd.read_csv('sample_submission_daily.csv')\n"
   ],
   "metadata": {
    "collapsed": false,
    "pycharm": {
     "name": "#%%\n"
    }
   }
  },
  {
   "cell_type": "code",
   "execution_count": 14,
   "outputs": [
    {
     "data": {
      "text/plain": "                              pseudo_id  2017-02-08 00:00:00  \\\n0   0x16cb02173ebf3059efdc97fd1819f14a2            13.987208   \n1   0x1c9d08cd16fce04790ef900695861e786             1.084910   \n2   0x1612e4cbe3b1b85c3dbcaeaa504ee8424             4.007826   \n3   0x20158d36236a640cf0524dba149459169            35.230236   \n4    0xc305005dcb1ed6128d816954c5ab9e7e             6.789202   \n..                                  ...                  ...   \n56  0x12342fbadc0ca9418f2d540bb3cb8364a             0.186472   \n57  0x16d1816bc5d185c47de080d4c6a64bc9a             0.614483   \n58  0x14f480f24c435af1b8574c1c6bab38a1c             1.125899   \n59  0x1c7fc724d0a4f89ed1de8a0a4b302db22             0.708573   \n60  0x187454451b5ef5c6ad7377c21d9adbfe2             0.677652   \n\n    2017-02-09 00:00:00  2017-02-10 00:00:00  2017-02-11 00:00:00  \\\n0             29.553732            47.619200           143.206933   \n1              2.081561             3.002167             8.366533   \n2              7.907780            13.610350            43.034500   \n3             67.194805            98.574933           264.427533   \n4             14.484000            22.991033            66.257067   \n..                  ...                  ...                  ...   \n56             0.395049             0.545700             1.245867   \n57             1.155976             1.773367             4.009533   \n58             2.497805             3.379600             9.475667   \n59             1.508341             1.753900             2.599433   \n60             1.359073             2.409667             6.531067   \n\n    2017-02-12 00:00:00  2017-02-13 00:00:00  2017-02-14 00:00:00  \\\n0             58.411633            43.562970            64.988182   \n1              3.490800             2.360909             3.558864   \n2             19.164833            15.053394            20.003545   \n3            113.122500            72.965606           100.897636   \n4             27.345000            20.335576            31.606682   \n..                  ...                  ...                  ...   \n56             0.558533             0.424848             0.712136   \n57             1.747833             1.528424             2.513273   \n58             3.852150             2.887364             4.847750   \n59             1.295650             1.320864             2.056591   \n60             2.455000             1.787212             2.146545   \n\n    2017-03-25 00:00:00  2017-03-26 00:00:00  ...  2019-02-02 00:00:00  \\\n0             26.708951            20.661111  ...            48.926269   \n1              1.423885             1.132635  ...             3.058385   \n2             11.056025             7.523532  ...             9.183250   \n3             36.520836            24.231635  ...            55.496154   \n4             13.573951            10.192111  ...            28.015628   \n..                  ...                  ...  ...                  ...   \n56             0.235967             0.203857  ...             0.821346   \n57             0.845934             0.783413  ...             2.142833   \n58             1.659303             1.392317  ...             4.793026   \n59             0.534238             0.472079  ...             1.810468   \n60             1.151885             0.737540  ...             2.831551   \n\n    2019-02-03 00:00:00  2019-02-04 00:00:00  2019-03-15 00:00:00  \\\n0             59.032178            24.770144           280.487625   \n1              4.284467             1.758928            19.664917   \n2             10.484478             3.892851            53.468083   \n3             70.756578            29.199443           331.659167   \n4             36.832333            14.771062           163.655250   \n..                  ...                  ...                  ...   \n56             1.058489             0.491835             6.144167   \n57             2.745089             1.192990            11.314083   \n58             6.137600             2.127325            24.964417   \n59             2.608211             0.619160             8.501042   \n60             3.746578             1.453763            17.317250   \n\n    2019-03-16 00:00:00  2019-03-17 00:00:00  2019-03-18 00:00:00  \\\n0             125.79070           161.283800            26.490250   \n1               8.53730            10.815800             1.505930   \n2              18.81305            19.575667             3.336262   \n3             149.62290           186.642200            30.403372   \n4              74.80040            89.186800            14.195151   \n..                  ...                  ...                  ...   \n56              2.48965             3.149533             0.581709   \n57              6.16480             8.082533             1.244198   \n58             11.06180            12.624133             2.421535   \n59              4.69080             3.800633             0.596297   \n60              6.95540             8.418600             1.384360   \n\n    2019-03-19 00:00:00  2019-03-20 00:00:00  2019-03-21 00:00:00  \n0            292.013091            90.337917           206.394079  \n1             18.284182             4.755024            11.853368  \n2             53.663591            21.389083            48.687237  \n3            347.752273           110.067190           255.272000  \n4            166.189636            51.751048           136.172263  \n..                  ...                  ...                  ...  \n56             5.158273             1.958167             4.398000  \n57            12.741000             3.843762             8.608105  \n58            24.984000             8.677738            21.057737  \n59             6.087864             2.326810             5.772895  \n60            16.394727             5.121929            11.354947  \n\n[61 rows x 127 columns]",
      "text/html": "<div>\n<style scoped>\n    .dataframe tbody tr th:only-of-type {\n        vertical-align: middle;\n    }\n\n    .dataframe tbody tr th {\n        vertical-align: top;\n    }\n\n    .dataframe thead th {\n        text-align: right;\n    }\n</style>\n<table border=\"1\" class=\"dataframe\">\n  <thead>\n    <tr style=\"text-align: right;\">\n      <th></th>\n      <th>pseudo_id</th>\n      <th>2017-02-08 00:00:00</th>\n      <th>2017-02-09 00:00:00</th>\n      <th>2017-02-10 00:00:00</th>\n      <th>2017-02-11 00:00:00</th>\n      <th>2017-02-12 00:00:00</th>\n      <th>2017-02-13 00:00:00</th>\n      <th>2017-02-14 00:00:00</th>\n      <th>2017-03-25 00:00:00</th>\n      <th>2017-03-26 00:00:00</th>\n      <th>...</th>\n      <th>2019-02-02 00:00:00</th>\n      <th>2019-02-03 00:00:00</th>\n      <th>2019-02-04 00:00:00</th>\n      <th>2019-03-15 00:00:00</th>\n      <th>2019-03-16 00:00:00</th>\n      <th>2019-03-17 00:00:00</th>\n      <th>2019-03-18 00:00:00</th>\n      <th>2019-03-19 00:00:00</th>\n      <th>2019-03-20 00:00:00</th>\n      <th>2019-03-21 00:00:00</th>\n    </tr>\n  </thead>\n  <tbody>\n    <tr>\n      <th>0</th>\n      <td>0x16cb02173ebf3059efdc97fd1819f14a2</td>\n      <td>13.987208</td>\n      <td>29.553732</td>\n      <td>47.619200</td>\n      <td>143.206933</td>\n      <td>58.411633</td>\n      <td>43.562970</td>\n      <td>64.988182</td>\n      <td>26.708951</td>\n      <td>20.661111</td>\n      <td>...</td>\n      <td>48.926269</td>\n      <td>59.032178</td>\n      <td>24.770144</td>\n      <td>280.487625</td>\n      <td>125.79070</td>\n      <td>161.283800</td>\n      <td>26.490250</td>\n      <td>292.013091</td>\n      <td>90.337917</td>\n      <td>206.394079</td>\n    </tr>\n    <tr>\n      <th>1</th>\n      <td>0x1c9d08cd16fce04790ef900695861e786</td>\n      <td>1.084910</td>\n      <td>2.081561</td>\n      <td>3.002167</td>\n      <td>8.366533</td>\n      <td>3.490800</td>\n      <td>2.360909</td>\n      <td>3.558864</td>\n      <td>1.423885</td>\n      <td>1.132635</td>\n      <td>...</td>\n      <td>3.058385</td>\n      <td>4.284467</td>\n      <td>1.758928</td>\n      <td>19.664917</td>\n      <td>8.53730</td>\n      <td>10.815800</td>\n      <td>1.505930</td>\n      <td>18.284182</td>\n      <td>4.755024</td>\n      <td>11.853368</td>\n    </tr>\n    <tr>\n      <th>2</th>\n      <td>0x1612e4cbe3b1b85c3dbcaeaa504ee8424</td>\n      <td>4.007826</td>\n      <td>7.907780</td>\n      <td>13.610350</td>\n      <td>43.034500</td>\n      <td>19.164833</td>\n      <td>15.053394</td>\n      <td>20.003545</td>\n      <td>11.056025</td>\n      <td>7.523532</td>\n      <td>...</td>\n      <td>9.183250</td>\n      <td>10.484478</td>\n      <td>3.892851</td>\n      <td>53.468083</td>\n      <td>18.81305</td>\n      <td>19.575667</td>\n      <td>3.336262</td>\n      <td>53.663591</td>\n      <td>21.389083</td>\n      <td>48.687237</td>\n    </tr>\n    <tr>\n      <th>3</th>\n      <td>0x20158d36236a640cf0524dba149459169</td>\n      <td>35.230236</td>\n      <td>67.194805</td>\n      <td>98.574933</td>\n      <td>264.427533</td>\n      <td>113.122500</td>\n      <td>72.965606</td>\n      <td>100.897636</td>\n      <td>36.520836</td>\n      <td>24.231635</td>\n      <td>...</td>\n      <td>55.496154</td>\n      <td>70.756578</td>\n      <td>29.199443</td>\n      <td>331.659167</td>\n      <td>149.62290</td>\n      <td>186.642200</td>\n      <td>30.403372</td>\n      <td>347.752273</td>\n      <td>110.067190</td>\n      <td>255.272000</td>\n    </tr>\n    <tr>\n      <th>4</th>\n      <td>0xc305005dcb1ed6128d816954c5ab9e7e</td>\n      <td>6.789202</td>\n      <td>14.484000</td>\n      <td>22.991033</td>\n      <td>66.257067</td>\n      <td>27.345000</td>\n      <td>20.335576</td>\n      <td>31.606682</td>\n      <td>13.573951</td>\n      <td>10.192111</td>\n      <td>...</td>\n      <td>28.015628</td>\n      <td>36.832333</td>\n      <td>14.771062</td>\n      <td>163.655250</td>\n      <td>74.80040</td>\n      <td>89.186800</td>\n      <td>14.195151</td>\n      <td>166.189636</td>\n      <td>51.751048</td>\n      <td>136.172263</td>\n    </tr>\n    <tr>\n      <th>...</th>\n      <td>...</td>\n      <td>...</td>\n      <td>...</td>\n      <td>...</td>\n      <td>...</td>\n      <td>...</td>\n      <td>...</td>\n      <td>...</td>\n      <td>...</td>\n      <td>...</td>\n      <td>...</td>\n      <td>...</td>\n      <td>...</td>\n      <td>...</td>\n      <td>...</td>\n      <td>...</td>\n      <td>...</td>\n      <td>...</td>\n      <td>...</td>\n      <td>...</td>\n      <td>...</td>\n    </tr>\n    <tr>\n      <th>56</th>\n      <td>0x12342fbadc0ca9418f2d540bb3cb8364a</td>\n      <td>0.186472</td>\n      <td>0.395049</td>\n      <td>0.545700</td>\n      <td>1.245867</td>\n      <td>0.558533</td>\n      <td>0.424848</td>\n      <td>0.712136</td>\n      <td>0.235967</td>\n      <td>0.203857</td>\n      <td>...</td>\n      <td>0.821346</td>\n      <td>1.058489</td>\n      <td>0.491835</td>\n      <td>6.144167</td>\n      <td>2.48965</td>\n      <td>3.149533</td>\n      <td>0.581709</td>\n      <td>5.158273</td>\n      <td>1.958167</td>\n      <td>4.398000</td>\n    </tr>\n    <tr>\n      <th>57</th>\n      <td>0x16d1816bc5d185c47de080d4c6a64bc9a</td>\n      <td>0.614483</td>\n      <td>1.155976</td>\n      <td>1.773367</td>\n      <td>4.009533</td>\n      <td>1.747833</td>\n      <td>1.528424</td>\n      <td>2.513273</td>\n      <td>0.845934</td>\n      <td>0.783413</td>\n      <td>...</td>\n      <td>2.142833</td>\n      <td>2.745089</td>\n      <td>1.192990</td>\n      <td>11.314083</td>\n      <td>6.16480</td>\n      <td>8.082533</td>\n      <td>1.244198</td>\n      <td>12.741000</td>\n      <td>3.843762</td>\n      <td>8.608105</td>\n    </tr>\n    <tr>\n      <th>58</th>\n      <td>0x14f480f24c435af1b8574c1c6bab38a1c</td>\n      <td>1.125899</td>\n      <td>2.497805</td>\n      <td>3.379600</td>\n      <td>9.475667</td>\n      <td>3.852150</td>\n      <td>2.887364</td>\n      <td>4.847750</td>\n      <td>1.659303</td>\n      <td>1.392317</td>\n      <td>...</td>\n      <td>4.793026</td>\n      <td>6.137600</td>\n      <td>2.127325</td>\n      <td>24.964417</td>\n      <td>11.06180</td>\n      <td>12.624133</td>\n      <td>2.421535</td>\n      <td>24.984000</td>\n      <td>8.677738</td>\n      <td>21.057737</td>\n    </tr>\n    <tr>\n      <th>59</th>\n      <td>0x1c7fc724d0a4f89ed1de8a0a4b302db22</td>\n      <td>0.708573</td>\n      <td>1.508341</td>\n      <td>1.753900</td>\n      <td>2.599433</td>\n      <td>1.295650</td>\n      <td>1.320864</td>\n      <td>2.056591</td>\n      <td>0.534238</td>\n      <td>0.472079</td>\n      <td>...</td>\n      <td>1.810468</td>\n      <td>2.608211</td>\n      <td>0.619160</td>\n      <td>8.501042</td>\n      <td>4.69080</td>\n      <td>3.800633</td>\n      <td>0.596297</td>\n      <td>6.087864</td>\n      <td>2.326810</td>\n      <td>5.772895</td>\n    </tr>\n    <tr>\n      <th>60</th>\n      <td>0x187454451b5ef5c6ad7377c21d9adbfe2</td>\n      <td>0.677652</td>\n      <td>1.359073</td>\n      <td>2.409667</td>\n      <td>6.531067</td>\n      <td>2.455000</td>\n      <td>1.787212</td>\n      <td>2.146545</td>\n      <td>1.151885</td>\n      <td>0.737540</td>\n      <td>...</td>\n      <td>2.831551</td>\n      <td>3.746578</td>\n      <td>1.453763</td>\n      <td>17.317250</td>\n      <td>6.95540</td>\n      <td>8.418600</td>\n      <td>1.384360</td>\n      <td>16.394727</td>\n      <td>5.121929</td>\n      <td>11.354947</td>\n    </tr>\n  </tbody>\n</table>\n<p>61 rows × 127 columns</p>\n</div>"
     },
     "execution_count": 14,
     "metadata": {},
     "output_type": "execute_result"
    }
   ],
   "source": [
    "sample_submission_daily"
   ],
   "metadata": {
    "collapsed": false,
    "pycharm": {
     "name": "#%%\n"
    }
   }
  },
  {
   "cell_type": "markdown",
   "source": [
    "## Evaluation\n",
    "\n",
    "\n",
    "The evaluation metric for this competition is Mean Absolute Percentage Error, computed as:\n",
    "\n",
    "$\\text{MAPE} = \\frac{1}{T*G} \\sum_{g} (\\sum_{t} |\\frac{a_{t,g}-f_{t,g}}{a_{t,g}}|)  \\times 100$ where,\n",
    "\n",
    "$T$: number of timesteps (days for sub-task 1 and hours for sub-task 2)</br>\n",
    "$G$: number of groups (days for sub-task 1 and hours for sub-task 2)</br>\n",
    "$a_{i,j}$: actual value for time point t of group g </br>\n",
    "$f_{i,j}$: forecasted value for time point t of group g</br>\n",
    "\n",
    "We will weight the MAPE for both sub-tasks equally. MAPE averaged over all the timesteps over all the days will be the final score."
   ],
   "metadata": {
    "collapsed": false,
    "pycharm": {
     "name": "#%% md\n"
    }
   }
  },
  {
   "cell_type": "markdown",
   "source": [
    " The lower the final score, the better the forecast"
   ],
   "metadata": {
    "collapsed": false,
    "pycharm": {
     "name": "#%% md\n"
    }
   }
  },
  {
   "cell_type": "code",
   "execution_count": 15,
   "outputs": [
    {
     "data": {
      "text/plain": "5177.15963325088"
     },
     "execution_count": 15,
     "metadata": {},
     "output_type": "execute_result"
    }
   ],
   "source": [
    "from utils import evaluate\n",
    "# Example MAPE computation\n",
    "# evaluate(y, y_hat)\n",
    "# shapes must match otherwise it'll throw assertion error\n",
    "evaluate(sample_submission_daily, predictions)\n",
    "# nevermind the large error, the sample ground truth is arbitrary"
   ],
   "metadata": {
    "collapsed": false,
    "pycharm": {
     "name": "#%%\n"
    }
   }
  },
  {
   "cell_type": "markdown",
   "source": [
    "### Prepare Submission\n",
    "Submission files from each task can finally be zipped together"
   ],
   "metadata": {
    "collapsed": false,
    "pycharm": {
     "name": "#%% md\n"
    }
   }
  },
  {
   "cell_type": "code",
   "execution_count": 16,
   "outputs": [
    {
     "name": "stdout",
     "output_type": "stream",
     "text": [
      "wrote submission-2022-05-27_13-02-55.215280.zip\n"
     ]
    }
   ],
   "source": [
    "from utils import create_submission\n",
    "create_submission(predictions, sample_submission_hourly)"
   ],
   "metadata": {
    "collapsed": false,
    "pycharm": {
     "name": "#%%\n"
    }
   }
  },
  {
   "cell_type": "markdown",
   "source": [
    "### Challenge Rules\n",
    "\n",
    "1. The submission file must be a single zip containing submissions for both tasks as csv.\n",
    "\n",
    "2. The csv files need to be in the following format:</i><b> N×[′pseudo_id′,timestamp_1(float),   timestamp_2(float),...,timestamp_24(float) ] </i></b>, where pseudo_id is the predicted group id.\n",
    "\n",
    "3. The submission files must match the test indices and must be with the same shape as the sample submissions.\n",
    "\n",
    "4. Participants are not permitted to use external data for system development. Any combination of feature engineering and modelling techniques given the data is permitted. Creating decision ensembles is encouraged.\n",
    "\n"
   ],
   "metadata": {
    "collapsed": false,
    "pycharm": {
     "name": "#%% md\n"
    }
   }
  },
  {
   "cell_type": "code",
   "execution_count": 17,
   "outputs": [
    {
     "data": {
      "text/plain": "5177.15963325088"
     },
     "execution_count": 17,
     "metadata": {},
     "output_type": "execute_result"
    }
   ],
   "source": [
    "from utils import evaluate\n",
    "# Example MAPE computation\n",
    "# evaluate(y, y_hat)\n",
    "# shapes must match otherwise it'll throw assertion error\n",
    "evaluate(sample_submission_daily, predictions)\n",
    "# nevermind the large error, its to be expected with dummy estimators"
   ],
   "metadata": {
    "collapsed": false,
    "pycharm": {
     "name": "#%%\n"
    }
   }
  },
  {
   "cell_type": "markdown",
   "source": [
    "### Prepare Submission\n",
    "Submission files from each task can finally be zipped together"
   ],
   "metadata": {
    "collapsed": false,
    "pycharm": {
     "name": "#%% md\n"
    }
   }
  },
  {
   "cell_type": "code",
   "execution_count": 18,
   "outputs": [
    {
     "name": "stdout",
     "output_type": "stream",
     "text": [
      "wrote submission-2022-05-27_13-02-55.388288.zip\n"
     ]
    }
   ],
   "source": [
    "from utils import create_submission\n",
    "create_submission(sample_submission_daily, sample_submission_hourly)"
   ],
   "metadata": {
    "collapsed": false,
    "pycharm": {
     "name": "#%%\n"
    }
   }
  },
  {
   "cell_type": "markdown",
   "source": [
    "### Challenge Rules\n",
    "\n",
    "1. The submission file must be a single zip containing submissions for both tasks as csv.\n",
    "\n",
    "2. The csv files need to be in the following format:</i><b> N×[′pseudo_id′,timestamp_1(float),   timestamp_2(float),...,timestamp_24(float) ] </i></b>, where pseudo_id is the predicted group id.\n",
    "\n",
    "3. The submission files must match the test indices and must be with the same shape as the sample submissions.\n",
    "\n",
    "4. Participants are not permitted to use external data for system development. Any combination of feature engineering and modelling techniques given the data is permitted. Creating decision ensembles is encouraged.\n",
    "\n"
   ],
   "metadata": {
    "collapsed": false,
    "pycharm": {
     "name": "#%% md\n"
    }
   }
  },
  {
   "cell_type": "code",
   "execution_count": 19,
   "id": "0af713de",
   "metadata": {
    "pycharm": {
     "name": "#%%\n"
    }
   },
   "outputs": [
    {
     "data": {
      "text/plain": "                                     2017-01-01 00:00:00  2017-01-01 00:30:00  \\\npseudo_id                                                                       \n0x16cb02173ebf3059efdc97fd1819f14a2               45.023              39.9850   \n0x1c9d08cd16fce04790ef900695861e786                2.931               1.6410   \n0x1612e4cbe3b1b85c3dbcaeaa504ee8424               11.014              12.6525   \n0x20158d36236a640cf0524dba149459169               55.813              49.0400   \n0xc305005dcb1ed6128d816954c5ab9e7e                26.925              28.1180   \n\n                                     2017-01-01 01:00:00  2017-01-01 01:30:00  \\\npseudo_id                                                                       \n0x16cb02173ebf3059efdc97fd1819f14a2              36.5695              34.7480   \n0x1c9d08cd16fce04790ef900695861e786               2.2600               2.2730   \n0x1612e4cbe3b1b85c3dbcaeaa504ee8424              10.8240              13.7485   \n0x20158d36236a640cf0524dba149459169              49.0950              41.1330   \n0xc305005dcb1ed6128d816954c5ab9e7e               25.6000              28.0910   \n\n                                     2017-01-01 02:00:00  2017-01-01 02:30:00  \\\npseudo_id                                                                       \n0x16cb02173ebf3059efdc97fd1819f14a2               35.972               38.439   \n0x1c9d08cd16fce04790ef900695861e786                2.651                3.137   \n0x1612e4cbe3b1b85c3dbcaeaa504ee8424               12.383               12.342   \n0x20158d36236a640cf0524dba149459169               45.660               48.477   \n0xc305005dcb1ed6128d816954c5ab9e7e                26.530               23.858   \n\n                                     2017-01-01 03:00:00  2017-01-01 03:30:00  \\\npseudo_id                                                                       \n0x16cb02173ebf3059efdc97fd1819f14a2               36.591              36.3155   \n0x1c9d08cd16fce04790ef900695861e786                2.532               3.1420   \n0x1612e4cbe3b1b85c3dbcaeaa504ee8424               13.413              11.4840   \n0x20158d36236a640cf0524dba149459169               50.539              45.7370   \n0xc305005dcb1ed6128d816954c5ab9e7e                26.556              27.7140   \n\n                                     2017-01-01 04:00:00  2017-01-01 04:30:00  \\\npseudo_id                                                                       \n0x16cb02173ebf3059efdc97fd1819f14a2              32.6605               0.1420   \n0x1c9d08cd16fce04790ef900695861e786               2.5280               0.0000   \n0x1612e4cbe3b1b85c3dbcaeaa504ee8424              11.5105               0.0455   \n0x20158d36236a640cf0524dba149459169              42.6800               0.0000   \n0xc305005dcb1ed6128d816954c5ab9e7e               23.1740               0.0000   \n\n                                     ...  2019-08-28 19:00:00  \\\npseudo_id                            ...                        \n0x16cb02173ebf3059efdc97fd1819f14a2  ...              24.2880   \n0x1c9d08cd16fce04790ef900695861e786  ...               2.5700   \n0x1612e4cbe3b1b85c3dbcaeaa504ee8424  ...               6.3565   \n0x20158d36236a640cf0524dba149459169  ...              32.6460   \n0xc305005dcb1ed6128d816954c5ab9e7e   ...              13.3980   \n\n                                     2019-08-28 19:30:00  2019-08-28 20:00:00  \\\npseudo_id                                                                       \n0x16cb02173ebf3059efdc97fd1819f14a2               23.994              26.1995   \n0x1c9d08cd16fce04790ef900695861e786                1.446               1.5230   \n0x1612e4cbe3b1b85c3dbcaeaa504ee8424                5.766               5.4955   \n0x20158d36236a640cf0524dba149459169               30.439              30.2470   \n0xc305005dcb1ed6128d816954c5ab9e7e                13.280              13.7340   \n\n                                     2019-08-28 20:30:00  2019-08-28 21:00:00  \\\npseudo_id                                                                       \n0x16cb02173ebf3059efdc97fd1819f14a2              25.0270              23.0665   \n0x1c9d08cd16fce04790ef900695861e786               1.5630               2.5880   \n0x1612e4cbe3b1b85c3dbcaeaa504ee8424               5.0885               6.8140   \n0x20158d36236a640cf0524dba149459169              31.2660              34.3390   \n0xc305005dcb1ed6128d816954c5ab9e7e               13.6060              14.7000   \n\n                                     2019-08-28 21:30:00  2019-08-28 22:00:00  \\\npseudo_id                                                                       \n0x16cb02173ebf3059efdc97fd1819f14a2               26.093              23.4295   \n0x1c9d08cd16fce04790ef900695861e786                2.190               1.4860   \n0x1612e4cbe3b1b85c3dbcaeaa504ee8424                7.492               5.7705   \n0x20158d36236a640cf0524dba149459169               33.076              33.1080   \n0xc305005dcb1ed6128d816954c5ab9e7e                16.290              15.1240   \n\n                                     2019-08-28 22:30:00  2019-08-28 23:00:00  \\\npseudo_id                                                                       \n0x16cb02173ebf3059efdc97fd1819f14a2              25.4715               26.246   \n0x1c9d08cd16fce04790ef900695861e786               2.5270                2.288   \n0x1612e4cbe3b1b85c3dbcaeaa504ee8424               6.8240                6.072   \n0x20158d36236a640cf0524dba149459169              33.7260               30.009   \n0xc305005dcb1ed6128d816954c5ab9e7e               15.3650               14.360   \n\n                                     2019-08-28 23:30:00  \npseudo_id                                                 \n0x16cb02173ebf3059efdc97fd1819f14a2              22.6020  \n0x1c9d08cd16fce04790ef900695861e786               1.7940  \n0x1612e4cbe3b1b85c3dbcaeaa504ee8424               6.7205  \n0x20158d36236a640cf0524dba149459169              34.8400  \n0xc305005dcb1ed6128d816954c5ab9e7e               13.9350  \n\n[5 rows x 39504 columns]",
      "text/html": "<div>\n<style scoped>\n    .dataframe tbody tr th:only-of-type {\n        vertical-align: middle;\n    }\n\n    .dataframe tbody tr th {\n        vertical-align: top;\n    }\n\n    .dataframe thead th {\n        text-align: right;\n    }\n</style>\n<table border=\"1\" class=\"dataframe\">\n  <thead>\n    <tr style=\"text-align: right;\">\n      <th></th>\n      <th>2017-01-01 00:00:00</th>\n      <th>2017-01-01 00:30:00</th>\n      <th>2017-01-01 01:00:00</th>\n      <th>2017-01-01 01:30:00</th>\n      <th>2017-01-01 02:00:00</th>\n      <th>2017-01-01 02:30:00</th>\n      <th>2017-01-01 03:00:00</th>\n      <th>2017-01-01 03:30:00</th>\n      <th>2017-01-01 04:00:00</th>\n      <th>2017-01-01 04:30:00</th>\n      <th>...</th>\n      <th>2019-08-28 19:00:00</th>\n      <th>2019-08-28 19:30:00</th>\n      <th>2019-08-28 20:00:00</th>\n      <th>2019-08-28 20:30:00</th>\n      <th>2019-08-28 21:00:00</th>\n      <th>2019-08-28 21:30:00</th>\n      <th>2019-08-28 22:00:00</th>\n      <th>2019-08-28 22:30:00</th>\n      <th>2019-08-28 23:00:00</th>\n      <th>2019-08-28 23:30:00</th>\n    </tr>\n    <tr>\n      <th>pseudo_id</th>\n      <th></th>\n      <th></th>\n      <th></th>\n      <th></th>\n      <th></th>\n      <th></th>\n      <th></th>\n      <th></th>\n      <th></th>\n      <th></th>\n      <th></th>\n      <th></th>\n      <th></th>\n      <th></th>\n      <th></th>\n      <th></th>\n      <th></th>\n      <th></th>\n      <th></th>\n      <th></th>\n      <th></th>\n    </tr>\n  </thead>\n  <tbody>\n    <tr>\n      <th>0x16cb02173ebf3059efdc97fd1819f14a2</th>\n      <td>45.023</td>\n      <td>39.9850</td>\n      <td>36.5695</td>\n      <td>34.7480</td>\n      <td>35.972</td>\n      <td>38.439</td>\n      <td>36.591</td>\n      <td>36.3155</td>\n      <td>32.6605</td>\n      <td>0.1420</td>\n      <td>...</td>\n      <td>24.2880</td>\n      <td>23.994</td>\n      <td>26.1995</td>\n      <td>25.0270</td>\n      <td>23.0665</td>\n      <td>26.093</td>\n      <td>23.4295</td>\n      <td>25.4715</td>\n      <td>26.246</td>\n      <td>22.6020</td>\n    </tr>\n    <tr>\n      <th>0x1c9d08cd16fce04790ef900695861e786</th>\n      <td>2.931</td>\n      <td>1.6410</td>\n      <td>2.2600</td>\n      <td>2.2730</td>\n      <td>2.651</td>\n      <td>3.137</td>\n      <td>2.532</td>\n      <td>3.1420</td>\n      <td>2.5280</td>\n      <td>0.0000</td>\n      <td>...</td>\n      <td>2.5700</td>\n      <td>1.446</td>\n      <td>1.5230</td>\n      <td>1.5630</td>\n      <td>2.5880</td>\n      <td>2.190</td>\n      <td>1.4860</td>\n      <td>2.5270</td>\n      <td>2.288</td>\n      <td>1.7940</td>\n    </tr>\n    <tr>\n      <th>0x1612e4cbe3b1b85c3dbcaeaa504ee8424</th>\n      <td>11.014</td>\n      <td>12.6525</td>\n      <td>10.8240</td>\n      <td>13.7485</td>\n      <td>12.383</td>\n      <td>12.342</td>\n      <td>13.413</td>\n      <td>11.4840</td>\n      <td>11.5105</td>\n      <td>0.0455</td>\n      <td>...</td>\n      <td>6.3565</td>\n      <td>5.766</td>\n      <td>5.4955</td>\n      <td>5.0885</td>\n      <td>6.8140</td>\n      <td>7.492</td>\n      <td>5.7705</td>\n      <td>6.8240</td>\n      <td>6.072</td>\n      <td>6.7205</td>\n    </tr>\n    <tr>\n      <th>0x20158d36236a640cf0524dba149459169</th>\n      <td>55.813</td>\n      <td>49.0400</td>\n      <td>49.0950</td>\n      <td>41.1330</td>\n      <td>45.660</td>\n      <td>48.477</td>\n      <td>50.539</td>\n      <td>45.7370</td>\n      <td>42.6800</td>\n      <td>0.0000</td>\n      <td>...</td>\n      <td>32.6460</td>\n      <td>30.439</td>\n      <td>30.2470</td>\n      <td>31.2660</td>\n      <td>34.3390</td>\n      <td>33.076</td>\n      <td>33.1080</td>\n      <td>33.7260</td>\n      <td>30.009</td>\n      <td>34.8400</td>\n    </tr>\n    <tr>\n      <th>0xc305005dcb1ed6128d816954c5ab9e7e</th>\n      <td>26.925</td>\n      <td>28.1180</td>\n      <td>25.6000</td>\n      <td>28.0910</td>\n      <td>26.530</td>\n      <td>23.858</td>\n      <td>26.556</td>\n      <td>27.7140</td>\n      <td>23.1740</td>\n      <td>0.0000</td>\n      <td>...</td>\n      <td>13.3980</td>\n      <td>13.280</td>\n      <td>13.7340</td>\n      <td>13.6060</td>\n      <td>14.7000</td>\n      <td>16.290</td>\n      <td>15.1240</td>\n      <td>15.3650</td>\n      <td>14.360</td>\n      <td>13.9350</td>\n    </tr>\n  </tbody>\n</table>\n<p>5 rows × 39504 columns</p>\n</div>"
     },
     "execution_count": 19,
     "metadata": {},
     "output_type": "execute_result"
    }
   ],
   "source": [
    "train_df."
   ]
  }
 ],
 "metadata": {
  "kernelspec": {
   "name": "python3",
   "language": "python",
   "display_name": "Python 3 (ipykernel)"
  },
  "language_info": {
   "codemirror_mode": {
    "name": "ipython",
    "version": 3
   },
   "file_extension": ".py",
   "mimetype": "text/x-python",
   "name": "python",
   "nbconvert_exporter": "python",
   "pygments_lexer": "ipython3",
   "version": "3.9.12"
  }
 },
 "nbformat": 4,
 "nbformat_minor": 5
}