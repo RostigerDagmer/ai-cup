{
 "cells": [
  {
   "cell_type": "markdown",
   "source": [
    "# Questions to the data\n",
    "1. Does the number of hauses in all houses groups remain stable or there were a construction side finished in the given time frame?\n",
    "2. What was the weather in the region?\n",
    "3. What was the price for gas/oil/elictricity?"
   ],
   "metadata": {
    "collapsed": false,
    "pycharm": {
     "name": "#%% md\n"
    }
   }
  },
  {
   "cell_type": "code",
   "execution_count": 25,
   "outputs": [],
   "source": [
    "import pandas as pd\n",
    "import numpy as np\n",
    "from datetime import datetime\n",
    "from typing import List, Tuple, Any\n",
    "\n",
    "import matplotlib.pyplot as plt\n",
    "\n",
    "from sklearn.model_selection import train_test_split\n",
    "from sklearn.linear_model import LinearRegression\n",
    "from sklearn.metrics import mean_squared_error\n",
    "import warnings\n",
    "warnings.filterwarnings(\"ignore\")"
   ],
   "metadata": {
    "collapsed": false,
    "pycharm": {
     "name": "#%%\n"
    }
   }
  },
  {
   "cell_type": "code",
   "execution_count": 2,
   "outputs": [],
   "source": [
    "data = pd.read_csv('../data/public_data/train.csv')"
   ],
   "metadata": {
    "collapsed": false,
    "pycharm": {
     "name": "#%%\n"
    }
   }
  },
  {
   "cell_type": "code",
   "execution_count": 3,
   "outputs": [
    {
     "data": {
      "text/plain": "                             pseudo_id  2017-01-01 00:00:00  \\\n0  0x16cb02173ebf3059efdc97fd1819f14a2               45.023   \n1  0x1c9d08cd16fce04790ef900695861e786                2.931   \n2  0x1612e4cbe3b1b85c3dbcaeaa504ee8424               11.014   \n3  0x20158d36236a640cf0524dba149459169               55.813   \n4   0xc305005dcb1ed6128d816954c5ab9e7e               26.925   \n\n   2017-01-01 00:30:00  2017-01-01 01:00:00  2017-01-01 01:30:00  \\\n0              39.9850              36.5695              34.7480   \n1               1.6410               2.2600               2.2730   \n2              12.6525              10.8240              13.7485   \n3              49.0400              49.0950              41.1330   \n4              28.1180              25.6000              28.0910   \n\n   2017-01-01 02:00:00  2017-01-01 02:30:00  2017-01-01 03:00:00  \\\n0               35.972               38.439               36.591   \n1                2.651                3.137                2.532   \n2               12.383               12.342               13.413   \n3               45.660               48.477               50.539   \n4               26.530               23.858               26.556   \n\n   2017-01-01 03:30:00  2017-01-01 04:00:00  ...  2019-08-28 19:00:00  \\\n0              36.3155              32.6605  ...              24.2880   \n1               3.1420               2.5280  ...               2.5700   \n2              11.4840              11.5105  ...               6.3565   \n3              45.7370              42.6800  ...              32.6460   \n4              27.7140              23.1740  ...              13.3980   \n\n   2019-08-28 19:30:00  2019-08-28 20:00:00  2019-08-28 20:30:00  \\\n0               23.994              26.1995              25.0270   \n1                1.446               1.5230               1.5630   \n2                5.766               5.4955               5.0885   \n3               30.439              30.2470              31.2660   \n4               13.280              13.7340              13.6060   \n\n   2019-08-28 21:00:00  2019-08-28 21:30:00  2019-08-28 22:00:00  \\\n0              23.0665               26.093              23.4295   \n1               2.5880                2.190               1.4860   \n2               6.8140                7.492               5.7705   \n3              34.3390               33.076              33.1080   \n4              14.7000               16.290              15.1240   \n\n   2019-08-28 22:30:00  2019-08-28 23:00:00  2019-08-28 23:30:00  \n0              25.4715               26.246              22.6020  \n1               2.5270                2.288               1.7940  \n2               6.8240                6.072               6.7205  \n3              33.7260               30.009              34.8400  \n4              15.3650               14.360              13.9350  \n\n[5 rows x 39505 columns]",
      "text/html": "<div>\n<style scoped>\n    .dataframe tbody tr th:only-of-type {\n        vertical-align: middle;\n    }\n\n    .dataframe tbody tr th {\n        vertical-align: top;\n    }\n\n    .dataframe thead th {\n        text-align: right;\n    }\n</style>\n<table border=\"1\" class=\"dataframe\">\n  <thead>\n    <tr style=\"text-align: right;\">\n      <th></th>\n      <th>pseudo_id</th>\n      <th>2017-01-01 00:00:00</th>\n      <th>2017-01-01 00:30:00</th>\n      <th>2017-01-01 01:00:00</th>\n      <th>2017-01-01 01:30:00</th>\n      <th>2017-01-01 02:00:00</th>\n      <th>2017-01-01 02:30:00</th>\n      <th>2017-01-01 03:00:00</th>\n      <th>2017-01-01 03:30:00</th>\n      <th>2017-01-01 04:00:00</th>\n      <th>...</th>\n      <th>2019-08-28 19:00:00</th>\n      <th>2019-08-28 19:30:00</th>\n      <th>2019-08-28 20:00:00</th>\n      <th>2019-08-28 20:30:00</th>\n      <th>2019-08-28 21:00:00</th>\n      <th>2019-08-28 21:30:00</th>\n      <th>2019-08-28 22:00:00</th>\n      <th>2019-08-28 22:30:00</th>\n      <th>2019-08-28 23:00:00</th>\n      <th>2019-08-28 23:30:00</th>\n    </tr>\n  </thead>\n  <tbody>\n    <tr>\n      <th>0</th>\n      <td>0x16cb02173ebf3059efdc97fd1819f14a2</td>\n      <td>45.023</td>\n      <td>39.9850</td>\n      <td>36.5695</td>\n      <td>34.7480</td>\n      <td>35.972</td>\n      <td>38.439</td>\n      <td>36.591</td>\n      <td>36.3155</td>\n      <td>32.6605</td>\n      <td>...</td>\n      <td>24.2880</td>\n      <td>23.994</td>\n      <td>26.1995</td>\n      <td>25.0270</td>\n      <td>23.0665</td>\n      <td>26.093</td>\n      <td>23.4295</td>\n      <td>25.4715</td>\n      <td>26.246</td>\n      <td>22.6020</td>\n    </tr>\n    <tr>\n      <th>1</th>\n      <td>0x1c9d08cd16fce04790ef900695861e786</td>\n      <td>2.931</td>\n      <td>1.6410</td>\n      <td>2.2600</td>\n      <td>2.2730</td>\n      <td>2.651</td>\n      <td>3.137</td>\n      <td>2.532</td>\n      <td>3.1420</td>\n      <td>2.5280</td>\n      <td>...</td>\n      <td>2.5700</td>\n      <td>1.446</td>\n      <td>1.5230</td>\n      <td>1.5630</td>\n      <td>2.5880</td>\n      <td>2.190</td>\n      <td>1.4860</td>\n      <td>2.5270</td>\n      <td>2.288</td>\n      <td>1.7940</td>\n    </tr>\n    <tr>\n      <th>2</th>\n      <td>0x1612e4cbe3b1b85c3dbcaeaa504ee8424</td>\n      <td>11.014</td>\n      <td>12.6525</td>\n      <td>10.8240</td>\n      <td>13.7485</td>\n      <td>12.383</td>\n      <td>12.342</td>\n      <td>13.413</td>\n      <td>11.4840</td>\n      <td>11.5105</td>\n      <td>...</td>\n      <td>6.3565</td>\n      <td>5.766</td>\n      <td>5.4955</td>\n      <td>5.0885</td>\n      <td>6.8140</td>\n      <td>7.492</td>\n      <td>5.7705</td>\n      <td>6.8240</td>\n      <td>6.072</td>\n      <td>6.7205</td>\n    </tr>\n    <tr>\n      <th>3</th>\n      <td>0x20158d36236a640cf0524dba149459169</td>\n      <td>55.813</td>\n      <td>49.0400</td>\n      <td>49.0950</td>\n      <td>41.1330</td>\n      <td>45.660</td>\n      <td>48.477</td>\n      <td>50.539</td>\n      <td>45.7370</td>\n      <td>42.6800</td>\n      <td>...</td>\n      <td>32.6460</td>\n      <td>30.439</td>\n      <td>30.2470</td>\n      <td>31.2660</td>\n      <td>34.3390</td>\n      <td>33.076</td>\n      <td>33.1080</td>\n      <td>33.7260</td>\n      <td>30.009</td>\n      <td>34.8400</td>\n    </tr>\n    <tr>\n      <th>4</th>\n      <td>0xc305005dcb1ed6128d816954c5ab9e7e</td>\n      <td>26.925</td>\n      <td>28.1180</td>\n      <td>25.6000</td>\n      <td>28.0910</td>\n      <td>26.530</td>\n      <td>23.858</td>\n      <td>26.556</td>\n      <td>27.7140</td>\n      <td>23.1740</td>\n      <td>...</td>\n      <td>13.3980</td>\n      <td>13.280</td>\n      <td>13.7340</td>\n      <td>13.6060</td>\n      <td>14.7000</td>\n      <td>16.290</td>\n      <td>15.1240</td>\n      <td>15.3650</td>\n      <td>14.360</td>\n      <td>13.9350</td>\n    </tr>\n  </tbody>\n</table>\n<p>5 rows × 39505 columns</p>\n</div>"
     },
     "execution_count": 3,
     "metadata": {},
     "output_type": "execute_result"
    }
   ],
   "source": [
    "data.head()"
   ],
   "metadata": {
    "collapsed": false,
    "pycharm": {
     "name": "#%%\n"
    }
   }
  },
  {
   "cell_type": "code",
   "execution_count": 4,
   "outputs": [
    {
     "data": {
      "text/plain": "   2017-01-01 00:00:00  2017-01-01 00:30:00  2017-01-01 01:00:00  \\\n0               45.023              39.9850              36.5695   \n1                2.931               1.6410               2.2600   \n2               11.014              12.6525              10.8240   \n3               55.813              49.0400              49.0950   \n4               26.925              28.1180              25.6000   \n\n   2017-01-01 01:30:00  2017-01-01 02:00:00  2017-01-01 02:30:00  \\\n0              34.7480               35.972               38.439   \n1               2.2730                2.651                3.137   \n2              13.7485               12.383               12.342   \n3              41.1330               45.660               48.477   \n4              28.0910               26.530               23.858   \n\n   2017-01-01 03:00:00  2017-01-01 03:30:00  2017-01-01 04:00:00  \\\n0               36.591              36.3155              32.6605   \n1                2.532               3.1420               2.5280   \n2               13.413              11.4840              11.5105   \n3               50.539              45.7370              42.6800   \n4               26.556              27.7140              23.1740   \n\n   2017-01-01 04:30:00  ...  2019-08-28 19:00:00  2019-08-28 19:30:00  \\\n0               0.1420  ...              24.2880               23.994   \n1               0.0000  ...               2.5700                1.446   \n2               0.0455  ...               6.3565                5.766   \n3               0.0000  ...              32.6460               30.439   \n4               0.0000  ...              13.3980               13.280   \n\n   2019-08-28 20:00:00  2019-08-28 20:30:00  2019-08-28 21:00:00  \\\n0              26.1995              25.0270              23.0665   \n1               1.5230               1.5630               2.5880   \n2               5.4955               5.0885               6.8140   \n3              30.2470              31.2660              34.3390   \n4              13.7340              13.6060              14.7000   \n\n   2019-08-28 21:30:00  2019-08-28 22:00:00  2019-08-28 22:30:00  \\\n0               26.093              23.4295              25.4715   \n1                2.190               1.4860               2.5270   \n2                7.492               5.7705               6.8240   \n3               33.076              33.1080              33.7260   \n4               16.290              15.1240              15.3650   \n\n   2019-08-28 23:00:00  2019-08-28 23:30:00  \n0               26.246              22.6020  \n1                2.288               1.7940  \n2                6.072               6.7205  \n3               30.009              34.8400  \n4               14.360              13.9350  \n\n[5 rows x 39504 columns]",
      "text/html": "<div>\n<style scoped>\n    .dataframe tbody tr th:only-of-type {\n        vertical-align: middle;\n    }\n\n    .dataframe tbody tr th {\n        vertical-align: top;\n    }\n\n    .dataframe thead th {\n        text-align: right;\n    }\n</style>\n<table border=\"1\" class=\"dataframe\">\n  <thead>\n    <tr style=\"text-align: right;\">\n      <th></th>\n      <th>2017-01-01 00:00:00</th>\n      <th>2017-01-01 00:30:00</th>\n      <th>2017-01-01 01:00:00</th>\n      <th>2017-01-01 01:30:00</th>\n      <th>2017-01-01 02:00:00</th>\n      <th>2017-01-01 02:30:00</th>\n      <th>2017-01-01 03:00:00</th>\n      <th>2017-01-01 03:30:00</th>\n      <th>2017-01-01 04:00:00</th>\n      <th>2017-01-01 04:30:00</th>\n      <th>...</th>\n      <th>2019-08-28 19:00:00</th>\n      <th>2019-08-28 19:30:00</th>\n      <th>2019-08-28 20:00:00</th>\n      <th>2019-08-28 20:30:00</th>\n      <th>2019-08-28 21:00:00</th>\n      <th>2019-08-28 21:30:00</th>\n      <th>2019-08-28 22:00:00</th>\n      <th>2019-08-28 22:30:00</th>\n      <th>2019-08-28 23:00:00</th>\n      <th>2019-08-28 23:30:00</th>\n    </tr>\n  </thead>\n  <tbody>\n    <tr>\n      <th>0</th>\n      <td>45.023</td>\n      <td>39.9850</td>\n      <td>36.5695</td>\n      <td>34.7480</td>\n      <td>35.972</td>\n      <td>38.439</td>\n      <td>36.591</td>\n      <td>36.3155</td>\n      <td>32.6605</td>\n      <td>0.1420</td>\n      <td>...</td>\n      <td>24.2880</td>\n      <td>23.994</td>\n      <td>26.1995</td>\n      <td>25.0270</td>\n      <td>23.0665</td>\n      <td>26.093</td>\n      <td>23.4295</td>\n      <td>25.4715</td>\n      <td>26.246</td>\n      <td>22.6020</td>\n    </tr>\n    <tr>\n      <th>1</th>\n      <td>2.931</td>\n      <td>1.6410</td>\n      <td>2.2600</td>\n      <td>2.2730</td>\n      <td>2.651</td>\n      <td>3.137</td>\n      <td>2.532</td>\n      <td>3.1420</td>\n      <td>2.5280</td>\n      <td>0.0000</td>\n      <td>...</td>\n      <td>2.5700</td>\n      <td>1.446</td>\n      <td>1.5230</td>\n      <td>1.5630</td>\n      <td>2.5880</td>\n      <td>2.190</td>\n      <td>1.4860</td>\n      <td>2.5270</td>\n      <td>2.288</td>\n      <td>1.7940</td>\n    </tr>\n    <tr>\n      <th>2</th>\n      <td>11.014</td>\n      <td>12.6525</td>\n      <td>10.8240</td>\n      <td>13.7485</td>\n      <td>12.383</td>\n      <td>12.342</td>\n      <td>13.413</td>\n      <td>11.4840</td>\n      <td>11.5105</td>\n      <td>0.0455</td>\n      <td>...</td>\n      <td>6.3565</td>\n      <td>5.766</td>\n      <td>5.4955</td>\n      <td>5.0885</td>\n      <td>6.8140</td>\n      <td>7.492</td>\n      <td>5.7705</td>\n      <td>6.8240</td>\n      <td>6.072</td>\n      <td>6.7205</td>\n    </tr>\n    <tr>\n      <th>3</th>\n      <td>55.813</td>\n      <td>49.0400</td>\n      <td>49.0950</td>\n      <td>41.1330</td>\n      <td>45.660</td>\n      <td>48.477</td>\n      <td>50.539</td>\n      <td>45.7370</td>\n      <td>42.6800</td>\n      <td>0.0000</td>\n      <td>...</td>\n      <td>32.6460</td>\n      <td>30.439</td>\n      <td>30.2470</td>\n      <td>31.2660</td>\n      <td>34.3390</td>\n      <td>33.076</td>\n      <td>33.1080</td>\n      <td>33.7260</td>\n      <td>30.009</td>\n      <td>34.8400</td>\n    </tr>\n    <tr>\n      <th>4</th>\n      <td>26.925</td>\n      <td>28.1180</td>\n      <td>25.6000</td>\n      <td>28.0910</td>\n      <td>26.530</td>\n      <td>23.858</td>\n      <td>26.556</td>\n      <td>27.7140</td>\n      <td>23.1740</td>\n      <td>0.0000</td>\n      <td>...</td>\n      <td>13.3980</td>\n      <td>13.280</td>\n      <td>13.7340</td>\n      <td>13.6060</td>\n      <td>14.7000</td>\n      <td>16.290</td>\n      <td>15.1240</td>\n      <td>15.3650</td>\n      <td>14.360</td>\n      <td>13.9350</td>\n    </tr>\n  </tbody>\n</table>\n<p>5 rows × 39504 columns</p>\n</div>"
     },
     "execution_count": 4,
     "metadata": {},
     "output_type": "execute_result"
    }
   ],
   "source": [
    "# drop index for feature preparation\n",
    "data_ = data.drop(columns='pseudo_id')\n",
    "# convert dates to pandas datetime\n",
    "data_.columns = [datetime.strptime(c, \"%Y-%m-%d %H:%M:%S\") for c in data_.columns]\n",
    "data_.head()"
   ],
   "metadata": {
    "collapsed": false,
    "pycharm": {
     "name": "#%%\n"
    }
   }
  },
  {
   "cell_type": "markdown",
   "source": [
    "# GROUP BY DAY"
   ],
   "metadata": {
    "collapsed": false,
    "pycharm": {
     "name": "#%% md\n"
    }
   }
  },
  {
   "cell_type": "code",
   "execution_count": 5,
   "outputs": [
    {
     "data": {
      "text/plain": "                   0        1         2         3         4        5   \\\n2017-01-01  1673.8655  143.162  586.9155  2094.588  1260.608  432.268   \n2017-01-02  1463.3230  130.557  532.9330  1845.933  1024.438  361.388   \n2017-01-03  1132.2910   99.234  407.0630  1475.750   725.995  279.199   \n2017-01-04  1183.8085   91.932  325.4720  1553.638   702.530  306.612   \n2017-01-05  1125.2870   76.781  328.4645  1572.033   672.427  277.665   \n\n                 6          7          8        9   ...      51       52  \\\n2017-01-01  211.028  1191.6520  1456.7335  503.095  ...  23.534  313.948   \n2017-01-02  158.281  1022.2485  1319.9650  356.898  ...  32.657  190.435   \n2017-01-03  125.445   765.0000   991.8735  257.116  ...  15.138  110.994   \n2017-01-04  119.487   741.4780  1011.5705  278.864  ...  19.211   55.876   \n2017-01-05  116.686   677.7000  1038.2905  284.385  ...  10.200   57.125   \n\n                 53      54       55      56      57        58       59  \\\n2017-01-01  196.943  36.989  153.074  19.533  80.263  175.5120  40.8825   \n2017-01-02  153.460  42.530  104.633  20.703  69.607  140.6670  31.2955   \n2017-01-03   88.819  33.476   79.647  14.527  38.887  108.7145  29.8745   \n2017-01-04   78.585  30.363   75.137  16.648  53.533  117.0440  33.0020   \n2017-01-05   79.498  30.640   76.458  17.598  48.185  119.8990  37.0340   \n\n                 60  \n2017-01-01  112.112  \n2017-01-02   92.511  \n2017-01-03   64.486  \n2017-01-04   54.094  \n2017-01-05   48.022  \n\n[5 rows x 61 columns]",
      "text/html": "<div>\n<style scoped>\n    .dataframe tbody tr th:only-of-type {\n        vertical-align: middle;\n    }\n\n    .dataframe tbody tr th {\n        vertical-align: top;\n    }\n\n    .dataframe thead th {\n        text-align: right;\n    }\n</style>\n<table border=\"1\" class=\"dataframe\">\n  <thead>\n    <tr style=\"text-align: right;\">\n      <th></th>\n      <th>0</th>\n      <th>1</th>\n      <th>2</th>\n      <th>3</th>\n      <th>4</th>\n      <th>5</th>\n      <th>6</th>\n      <th>7</th>\n      <th>8</th>\n      <th>9</th>\n      <th>...</th>\n      <th>51</th>\n      <th>52</th>\n      <th>53</th>\n      <th>54</th>\n      <th>55</th>\n      <th>56</th>\n      <th>57</th>\n      <th>58</th>\n      <th>59</th>\n      <th>60</th>\n    </tr>\n  </thead>\n  <tbody>\n    <tr>\n      <th>2017-01-01</th>\n      <td>1673.8655</td>\n      <td>143.162</td>\n      <td>586.9155</td>\n      <td>2094.588</td>\n      <td>1260.608</td>\n      <td>432.268</td>\n      <td>211.028</td>\n      <td>1191.6520</td>\n      <td>1456.7335</td>\n      <td>503.095</td>\n      <td>...</td>\n      <td>23.534</td>\n      <td>313.948</td>\n      <td>196.943</td>\n      <td>36.989</td>\n      <td>153.074</td>\n      <td>19.533</td>\n      <td>80.263</td>\n      <td>175.5120</td>\n      <td>40.8825</td>\n      <td>112.112</td>\n    </tr>\n    <tr>\n      <th>2017-01-02</th>\n      <td>1463.3230</td>\n      <td>130.557</td>\n      <td>532.9330</td>\n      <td>1845.933</td>\n      <td>1024.438</td>\n      <td>361.388</td>\n      <td>158.281</td>\n      <td>1022.2485</td>\n      <td>1319.9650</td>\n      <td>356.898</td>\n      <td>...</td>\n      <td>32.657</td>\n      <td>190.435</td>\n      <td>153.460</td>\n      <td>42.530</td>\n      <td>104.633</td>\n      <td>20.703</td>\n      <td>69.607</td>\n      <td>140.6670</td>\n      <td>31.2955</td>\n      <td>92.511</td>\n    </tr>\n    <tr>\n      <th>2017-01-03</th>\n      <td>1132.2910</td>\n      <td>99.234</td>\n      <td>407.0630</td>\n      <td>1475.750</td>\n      <td>725.995</td>\n      <td>279.199</td>\n      <td>125.445</td>\n      <td>765.0000</td>\n      <td>991.8735</td>\n      <td>257.116</td>\n      <td>...</td>\n      <td>15.138</td>\n      <td>110.994</td>\n      <td>88.819</td>\n      <td>33.476</td>\n      <td>79.647</td>\n      <td>14.527</td>\n      <td>38.887</td>\n      <td>108.7145</td>\n      <td>29.8745</td>\n      <td>64.486</td>\n    </tr>\n    <tr>\n      <th>2017-01-04</th>\n      <td>1183.8085</td>\n      <td>91.932</td>\n      <td>325.4720</td>\n      <td>1553.638</td>\n      <td>702.530</td>\n      <td>306.612</td>\n      <td>119.487</td>\n      <td>741.4780</td>\n      <td>1011.5705</td>\n      <td>278.864</td>\n      <td>...</td>\n      <td>19.211</td>\n      <td>55.876</td>\n      <td>78.585</td>\n      <td>30.363</td>\n      <td>75.137</td>\n      <td>16.648</td>\n      <td>53.533</td>\n      <td>117.0440</td>\n      <td>33.0020</td>\n      <td>54.094</td>\n    </tr>\n    <tr>\n      <th>2017-01-05</th>\n      <td>1125.2870</td>\n      <td>76.781</td>\n      <td>328.4645</td>\n      <td>1572.033</td>\n      <td>672.427</td>\n      <td>277.665</td>\n      <td>116.686</td>\n      <td>677.7000</td>\n      <td>1038.2905</td>\n      <td>284.385</td>\n      <td>...</td>\n      <td>10.200</td>\n      <td>57.125</td>\n      <td>79.498</td>\n      <td>30.640</td>\n      <td>76.458</td>\n      <td>17.598</td>\n      <td>48.185</td>\n      <td>119.8990</td>\n      <td>37.0340</td>\n      <td>48.022</td>\n    </tr>\n  </tbody>\n</table>\n<p>5 rows × 61 columns</p>\n</div>"
     },
     "execution_count": 5,
     "metadata": {},
     "output_type": "execute_result"
    }
   ],
   "source": [
    "# Aggregate energy use values per day\n",
    "data_ = data_.T.groupby(data_.T.index.date).sum()\n",
    "data_.head()"
   ],
   "metadata": {
    "collapsed": false,
    "pycharm": {
     "name": "#%%\n"
    }
   }
  },
  {
   "cell_type": "code",
   "execution_count": 6,
   "outputs": [
    {
     "data": {
      "text/plain": "                   1        2         3         4         5        6   \\\n2017-01-01  1673.8655  143.162  586.9155  2094.588  1260.608  432.268   \n2017-01-02  1463.3230  130.557  532.9330  1845.933  1024.438  361.388   \n2017-01-03  1132.2910   99.234  407.0630  1475.750   725.995  279.199   \n2017-01-04  1183.8085   91.932  325.4720  1553.638   702.530  306.612   \n2017-01-05  1125.2870   76.781  328.4645  1572.033   672.427  277.665   \n\n                 7          8          9        10  ...      52       53  \\\n2017-01-01  211.028  1191.6520  1456.7335  503.095  ...  23.534  313.948   \n2017-01-02  158.281  1022.2485  1319.9650  356.898  ...  32.657  190.435   \n2017-01-03  125.445   765.0000   991.8735  257.116  ...  15.138  110.994   \n2017-01-04  119.487   741.4780  1011.5705  278.864  ...  19.211   55.876   \n2017-01-05  116.686   677.7000  1038.2905  284.385  ...  10.200   57.125   \n\n                 54      55       56      57      58        59       60  \\\n2017-01-01  196.943  36.989  153.074  19.533  80.263  175.5120  40.8825   \n2017-01-02  153.460  42.530  104.633  20.703  69.607  140.6670  31.2955   \n2017-01-03   88.819  33.476   79.647  14.527  38.887  108.7145  29.8745   \n2017-01-04   78.585  30.363   75.137  16.648  53.533  117.0440  33.0020   \n2017-01-05   79.498  30.640   76.458  17.598  48.185  119.8990  37.0340   \n\n                 61  \n2017-01-01  112.112  \n2017-01-02   92.511  \n2017-01-03   64.486  \n2017-01-04   54.094  \n2017-01-05   48.022  \n\n[5 rows x 61 columns]",
      "text/html": "<div>\n<style scoped>\n    .dataframe tbody tr th:only-of-type {\n        vertical-align: middle;\n    }\n\n    .dataframe tbody tr th {\n        vertical-align: top;\n    }\n\n    .dataframe thead th {\n        text-align: right;\n    }\n</style>\n<table border=\"1\" class=\"dataframe\">\n  <thead>\n    <tr style=\"text-align: right;\">\n      <th></th>\n      <th>1</th>\n      <th>2</th>\n      <th>3</th>\n      <th>4</th>\n      <th>5</th>\n      <th>6</th>\n      <th>7</th>\n      <th>8</th>\n      <th>9</th>\n      <th>10</th>\n      <th>...</th>\n      <th>52</th>\n      <th>53</th>\n      <th>54</th>\n      <th>55</th>\n      <th>56</th>\n      <th>57</th>\n      <th>58</th>\n      <th>59</th>\n      <th>60</th>\n      <th>61</th>\n    </tr>\n  </thead>\n  <tbody>\n    <tr>\n      <th>2017-01-01</th>\n      <td>1673.8655</td>\n      <td>143.162</td>\n      <td>586.9155</td>\n      <td>2094.588</td>\n      <td>1260.608</td>\n      <td>432.268</td>\n      <td>211.028</td>\n      <td>1191.6520</td>\n      <td>1456.7335</td>\n      <td>503.095</td>\n      <td>...</td>\n      <td>23.534</td>\n      <td>313.948</td>\n      <td>196.943</td>\n      <td>36.989</td>\n      <td>153.074</td>\n      <td>19.533</td>\n      <td>80.263</td>\n      <td>175.5120</td>\n      <td>40.8825</td>\n      <td>112.112</td>\n    </tr>\n    <tr>\n      <th>2017-01-02</th>\n      <td>1463.3230</td>\n      <td>130.557</td>\n      <td>532.9330</td>\n      <td>1845.933</td>\n      <td>1024.438</td>\n      <td>361.388</td>\n      <td>158.281</td>\n      <td>1022.2485</td>\n      <td>1319.9650</td>\n      <td>356.898</td>\n      <td>...</td>\n      <td>32.657</td>\n      <td>190.435</td>\n      <td>153.460</td>\n      <td>42.530</td>\n      <td>104.633</td>\n      <td>20.703</td>\n      <td>69.607</td>\n      <td>140.6670</td>\n      <td>31.2955</td>\n      <td>92.511</td>\n    </tr>\n    <tr>\n      <th>2017-01-03</th>\n      <td>1132.2910</td>\n      <td>99.234</td>\n      <td>407.0630</td>\n      <td>1475.750</td>\n      <td>725.995</td>\n      <td>279.199</td>\n      <td>125.445</td>\n      <td>765.0000</td>\n      <td>991.8735</td>\n      <td>257.116</td>\n      <td>...</td>\n      <td>15.138</td>\n      <td>110.994</td>\n      <td>88.819</td>\n      <td>33.476</td>\n      <td>79.647</td>\n      <td>14.527</td>\n      <td>38.887</td>\n      <td>108.7145</td>\n      <td>29.8745</td>\n      <td>64.486</td>\n    </tr>\n    <tr>\n      <th>2017-01-04</th>\n      <td>1183.8085</td>\n      <td>91.932</td>\n      <td>325.4720</td>\n      <td>1553.638</td>\n      <td>702.530</td>\n      <td>306.612</td>\n      <td>119.487</td>\n      <td>741.4780</td>\n      <td>1011.5705</td>\n      <td>278.864</td>\n      <td>...</td>\n      <td>19.211</td>\n      <td>55.876</td>\n      <td>78.585</td>\n      <td>30.363</td>\n      <td>75.137</td>\n      <td>16.648</td>\n      <td>53.533</td>\n      <td>117.0440</td>\n      <td>33.0020</td>\n      <td>54.094</td>\n    </tr>\n    <tr>\n      <th>2017-01-05</th>\n      <td>1125.2870</td>\n      <td>76.781</td>\n      <td>328.4645</td>\n      <td>1572.033</td>\n      <td>672.427</td>\n      <td>277.665</td>\n      <td>116.686</td>\n      <td>677.7000</td>\n      <td>1038.2905</td>\n      <td>284.385</td>\n      <td>...</td>\n      <td>10.200</td>\n      <td>57.125</td>\n      <td>79.498</td>\n      <td>30.640</td>\n      <td>76.458</td>\n      <td>17.598</td>\n      <td>48.185</td>\n      <td>119.8990</td>\n      <td>37.0340</td>\n      <td>48.022</td>\n    </tr>\n  </tbody>\n</table>\n<p>5 rows × 61 columns</p>\n</div>"
     },
     "execution_count": 6,
     "metadata": {},
     "output_type": "execute_result"
    }
   ],
   "source": [
    "# features[\"hour\"] = data.index.hour\n",
    "data_.columns = [c+1 for c in range(len(data_.columns))]\n",
    "data_.head()"
   ],
   "metadata": {
    "collapsed": false,
    "pycharm": {
     "name": "#%%\n"
    }
   }
  },
  {
   "cell_type": "code",
   "execution_count": 7,
   "outputs": [
    {
     "name": "stdout",
     "output_type": "stream",
     "text": [
      "True\n"
     ]
    }
   ],
   "source": [
    "# check wether datetime in ascending order , it is important for time series\n",
    "print(data_.index.is_monotonic)"
   ],
   "metadata": {
    "collapsed": false,
    "pycharm": {
     "name": "#%%\n"
    }
   }
  },
  {
   "cell_type": "code",
   "execution_count": 8,
   "outputs": [],
   "source": [
    "# Set dates for development phase\n",
    "new_date_range = pd.date_range(start=\"2017-01-01\", end=\"2019-03-31\", freq=\"D\")\n",
    "# Add test dates in the data frame\n",
    "data_ = data_.reindex(new_date_range)\n",
    "# using dummy values in test set , fill_value = 100\n",
    "# df_ = df_.T\n",
    "\n",
    "#data_.head()"
   ],
   "metadata": {
    "collapsed": false,
    "pycharm": {
     "name": "#%%\n"
    }
   }
  },
  {
   "cell_type": "code",
   "execution_count": 9,
   "outputs": [
    {
     "data": {
      "text/plain": "DatetimeIndex(['2017-02-08', '2017-02-09', '2017-02-10', '2017-02-11',\n               '2017-02-12', '2017-02-13', '2017-02-14', '2017-03-25',\n               '2017-03-26', '2017-03-27',\n               ...\n               '2019-02-02', '2019-02-03', '2019-02-04', '2019-03-15',\n               '2019-03-16', '2019-03-17', '2019-03-18', '2019-03-19',\n               '2019-03-20', '2019-03-21'],\n              dtype='datetime64[ns]', length=126, freq=None)"
     },
     "execution_count": 9,
     "metadata": {},
     "output_type": "execute_result"
    }
   ],
   "source": [
    "# saving indexes for next steps\n",
    "idx_test_date = data_.index[data_[1].isna()]\n",
    "idx_test_date"
   ],
   "metadata": {
    "collapsed": false,
    "pycharm": {
     "name": "#%%\n"
    }
   }
  },
  {
   "cell_type": "code",
   "execution_count": 10,
   "outputs": [],
   "source": [
    "data_ = data_.fillna(method=\"backfill\")"
   ],
   "metadata": {
    "collapsed": false,
    "pycharm": {
     "name": "#%%\n"
    }
   }
  },
  {
   "cell_type": "code",
   "execution_count": 19,
   "outputs": [
    {
     "data": {
      "text/plain": "<Figure size 432x288 with 1 Axes>",
      "image/png": "[encoded data removed]"
     },
     "metadata": {
      "needs_background": "light"
     },
     "output_type": "display_data"
    }
   ],
   "source": [
    "#plt.rcParams.update({'figure.figsize':(9,3), 'figure.dpi':160})\n",
    "#data_[1].plot()\n",
    "#plt.title('Energy use forecasts for houshold group' + \" 1\")\n",
    "#plt.show()"
   ],
   "metadata": {
    "collapsed": false,
    "pycharm": {
     "name": "#%%\n"
    }
   }
  },
  {
   "cell_type": "code",
   "execution_count": 134,
   "outputs": [
    {
     "data": {
      "text/plain": "    Number of missed data  points  % of missed data points\n1                               0                      0.0\n2                               0                      0.0\n3                               0                      0.0\n4                               0                      0.0\n5                               0                      0.0\n..                            ...                      ...\n57                              0                      0.0\n58                              0                      0.0\n59                              0                      0.0\n60                              0                      0.0\n61                              0                      0.0\n\n[61 rows x 2 columns]",
      "text/html": "<div>\n<style scoped>\n    .dataframe tbody tr th:only-of-type {\n        vertical-align: middle;\n    }\n\n    .dataframe tbody tr th {\n        vertical-align: top;\n    }\n\n    .dataframe thead th {\n        text-align: right;\n    }\n</style>\n<table border=\"1\" class=\"dataframe\">\n  <thead>\n    <tr style=\"text-align: right;\">\n      <th></th>\n      <th>Number of missed data  points</th>\n      <th>% of missed data points</th>\n    </tr>\n  </thead>\n  <tbody>\n    <tr>\n      <th>1</th>\n      <td>0</td>\n      <td>0.0</td>\n    </tr>\n    <tr>\n      <th>2</th>\n      <td>0</td>\n      <td>0.0</td>\n    </tr>\n    <tr>\n      <th>3</th>\n      <td>0</td>\n      <td>0.0</td>\n    </tr>\n    <tr>\n      <th>4</th>\n      <td>0</td>\n      <td>0.0</td>\n    </tr>\n    <tr>\n      <th>5</th>\n      <td>0</td>\n      <td>0.0</td>\n    </tr>\n    <tr>\n      <th>...</th>\n      <td>...</td>\n      <td>...</td>\n    </tr>\n    <tr>\n      <th>57</th>\n      <td>0</td>\n      <td>0.0</td>\n    </tr>\n    <tr>\n      <th>58</th>\n      <td>0</td>\n      <td>0.0</td>\n    </tr>\n    <tr>\n      <th>59</th>\n      <td>0</td>\n      <td>0.0</td>\n    </tr>\n    <tr>\n      <th>60</th>\n      <td>0</td>\n      <td>0.0</td>\n    </tr>\n    <tr>\n      <th>61</th>\n      <td>0</td>\n      <td>0.0</td>\n    </tr>\n  </tbody>\n</table>\n<p>61 rows × 2 columns</p>\n</div>"
     },
     "execution_count": 134,
     "metadata": {},
     "output_type": "execute_result"
    }
   ],
   "source": [
    "data_\\\n",
    "    .isna()\\\n",
    "    .sum()\\\n",
    "    .to_frame()\\\n",
    "    .assign(perc = lambda row: 100 * row[0] / data_.shape[0])\\\n",
    "    .rename(columns={0: 'Number of missed data  points', 'perc': '% of missed data points'})"
   ],
   "metadata": {
    "collapsed": false,
    "pycharm": {
     "name": "#%%\n"
    }
   }
  },
  {
   "cell_type": "markdown",
   "source": [
    "# Adding features"
   ],
   "metadata": {
    "collapsed": false,
    "pycharm": {
     "name": "#%% md\n"
    }
   }
  },
  {
   "cell_type": "code",
   "execution_count": 11,
   "outputs": [],
   "source": [
    "df = data_.copy(deep=True)\n",
    "#df.drop(columns=['ord_mean_week','mean','std'],inplace=True)\n",
    "df[\"weekday\"] = data_.index.weekday\n",
    "df[\"dayofyear\"] = data_.index.dayofyear"
   ],
   "metadata": {
    "collapsed": false,
    "pycharm": {
     "name": "#%%\n"
    }
   }
  },
  {
   "cell_type": "code",
   "execution_count": 12,
   "outputs": [],
   "source": [
    "df[\"is_weekend\"] = data_.index.weekday.isin([5, 6]).astype(np.int32)\n",
    "#df[\"weekofyear\"] = data_.index.isocalendar\n",
    "df[\"month\"] = data_.index.month\n",
    "df[\"season\"] = (data_.index.month % 12 + 3) // 3"
   ],
   "metadata": {
    "collapsed": false,
    "pycharm": {
     "name": "#%%\n"
    }
   }
  },
  {
   "cell_type": "code",
   "execution_count": 66,
   "outputs": [
    {
     "data": {
      "text/plain": "                    1        2         3         4         5        6  \\\n2017-01-01  1673.8655  143.162  586.9155  2094.588  1260.608  432.268   \n2017-01-02  1463.3230  130.557  532.9330  1845.933  1024.438  361.388   \n2017-01-03  1132.2910   99.234  407.0630  1475.750   725.995  279.199   \n2017-01-04  1183.8085   91.932  325.4720  1553.638   702.530  306.612   \n2017-01-05  1125.2870   76.781  328.4645  1572.033   672.427  277.665   \n...               ...      ...       ...       ...       ...      ...   \n2019-03-27  3645.0890  261.033  888.2270  4306.199  2333.272  977.487   \n2019-03-28  2997.3715  218.526  547.1220  3472.952  1808.689  833.654   \n2019-03-29  2254.1045  170.737  353.0045  2631.766  1484.601  615.075   \n2019-03-30  2491.5945  147.279  328.3965  2924.391  1562.029  689.869   \n2019-03-31  2404.0340  175.028  322.1180  2831.293  1460.823  669.113   \n\n                  7          8          9       10  ...      57       58  \\\n2017-01-01  211.028  1191.6520  1456.7335  503.095  ...  19.533   80.263   \n2017-01-02  158.281  1022.2485  1319.9650  356.898  ...  20.703   69.607   \n2017-01-03  125.445   765.0000   991.8735  257.116  ...  14.527   38.887   \n2017-01-04  119.487   741.4780  1011.5705  278.864  ...  16.648   53.533   \n2017-01-05  116.686   677.7000  1038.2905  284.385  ...  17.598   48.185   \n...             ...        ...        ...      ...  ...     ...      ...   \n2019-03-27  396.773  2270.9935  3310.6490  876.527  ...  62.912  170.326   \n2019-03-28  326.882  1794.9220  2686.1380  686.604  ...  50.026  116.868   \n2019-03-29  222.557  1345.3830  2010.5790  540.393  ...  42.464   98.505   \n2019-03-30  244.147  1405.5355  2269.1055  609.478  ...  41.900  117.733   \n2019-03-31  224.668  1455.4420  2254.2270  603.645  ...  57.715  120.171   \n\n                  59        60       61  weekday  dayofyear  is_weekend  \\\n2017-01-01  175.5120   40.8825  112.112        6          1           1   \n2017-01-02  140.6670   31.2955   92.511        0          2           0   \n2017-01-03  108.7145   29.8745   64.486        1          3           0   \n2017-01-04  117.0440   33.0020   54.094        2          4           0   \n2017-01-05  119.8990   37.0340   48.022        3          5           0   \n...              ...       ...      ...      ...        ...         ...   \n2019-03-27  326.4415  104.3700  234.116        2         86           0   \n2019-03-28  239.2755   82.4725  158.289        3         87           0   \n2019-03-29  188.1385   57.4490  123.610        4         88           0   \n2019-03-30  216.9915   61.2640  117.921        5         89           1   \n2019-03-31  195.8575   65.7955  120.079        6         90           1   \n\n            month  season  \n2017-01-01      1       1  \n2017-01-02      1       1  \n2017-01-03      1       1  \n2017-01-04      1       1  \n2017-01-05      1       1  \n...           ...     ...  \n2019-03-27      3       2  \n2019-03-28      3       2  \n2019-03-29      3       2  \n2019-03-30      3       2  \n2019-03-31      3       2  \n\n[820 rows x 66 columns]",
      "text/html": "<div>\n<style scoped>\n    .dataframe tbody tr th:only-of-type {\n        vertical-align: middle;\n    }\n\n    .dataframe tbody tr th {\n        vertical-align: top;\n    }\n\n    .dataframe thead th {\n        text-align: right;\n    }\n</style>\n<table border=\"1\" class=\"dataframe\">\n  <thead>\n    <tr style=\"text-align: right;\">\n      <th></th>\n      <th>1</th>\n      <th>2</th>\n      <th>3</th>\n      <th>4</th>\n      <th>5</th>\n      <th>6</th>\n      <th>7</th>\n      <th>8</th>\n      <th>9</th>\n      <th>10</th>\n      <th>...</th>\n      <th>57</th>\n      <th>58</th>\n      <th>59</th>\n      <th>60</th>\n      <th>61</th>\n      <th>weekday</th>\n      <th>dayofyear</th>\n      <th>is_weekend</th>\n      <th>month</th>\n      <th>season</th>\n    </tr>\n  </thead>\n  <tbody>\n    <tr>\n      <th>2017-01-01</th>\n      <td>1673.8655</td>\n      <td>143.162</td>\n      <td>586.9155</td>\n      <td>2094.588</td>\n      <td>1260.608</td>\n      <td>432.268</td>\n      <td>211.028</td>\n      <td>1191.6520</td>\n      <td>1456.7335</td>\n      <td>503.095</td>\n      <td>...</td>\n      <td>19.533</td>\n      <td>80.263</td>\n      <td>175.5120</td>\n      <td>40.8825</td>\n      <td>112.112</td>\n      <td>6</td>\n      <td>1</td>\n      <td>1</td>\n      <td>1</td>\n      <td>1</td>\n    </tr>\n    <tr>\n      <th>2017-01-02</th>\n      <td>1463.3230</td>\n      <td>130.557</td>\n      <td>532.9330</td>\n      <td>1845.933</td>\n      <td>1024.438</td>\n      <td>361.388</td>\n      <td>158.281</td>\n      <td>1022.2485</td>\n      <td>1319.9650</td>\n      <td>356.898</td>\n      <td>...</td>\n      <td>20.703</td>\n      <td>69.607</td>\n      <td>140.6670</td>\n      <td>31.2955</td>\n      <td>92.511</td>\n      <td>0</td>\n      <td>2</td>\n      <td>0</td>\n      <td>1</td>\n      <td>1</td>\n    </tr>\n    <tr>\n      <th>2017-01-03</th>\n      <td>1132.2910</td>\n      <td>99.234</td>\n      <td>407.0630</td>\n      <td>1475.750</td>\n      <td>725.995</td>\n      <td>279.199</td>\n      <td>125.445</td>\n      <td>765.0000</td>\n      <td>991.8735</td>\n      <td>257.116</td>\n      <td>...</td>\n      <td>14.527</td>\n      <td>38.887</td>\n      <td>108.7145</td>\n      <td>29.8745</td>\n      <td>64.486</td>\n      <td>1</td>\n      <td>3</td>\n      <td>0</td>\n      <td>1</td>\n      <td>1</td>\n    </tr>\n    <tr>\n      <th>2017-01-04</th>\n      <td>1183.8085</td>\n      <td>91.932</td>\n      <td>325.4720</td>\n      <td>1553.638</td>\n      <td>702.530</td>\n      <td>306.612</td>\n      <td>119.487</td>\n      <td>741.4780</td>\n      <td>1011.5705</td>\n      <td>278.864</td>\n      <td>...</td>\n      <td>16.648</td>\n      <td>53.533</td>\n      <td>117.0440</td>\n      <td>33.0020</td>\n      <td>54.094</td>\n      <td>2</td>\n      <td>4</td>\n      <td>0</td>\n      <td>1</td>\n      <td>1</td>\n    </tr>\n    <tr>\n      <th>2017-01-05</th>\n      <td>1125.2870</td>\n      <td>76.781</td>\n      <td>328.4645</td>\n      <td>1572.033</td>\n      <td>672.427</td>\n      <td>277.665</td>\n      <td>116.686</td>\n      <td>677.7000</td>\n      <td>1038.2905</td>\n      <td>284.385</td>\n      <td>...</td>\n      <td>17.598</td>\n      <td>48.185</td>\n      <td>119.8990</td>\n      <td>37.0340</td>\n      <td>48.022</td>\n      <td>3</td>\n      <td>5</td>\n      <td>0</td>\n      <td>1</td>\n      <td>1</td>\n    </tr>\n    <tr>\n      <th>...</th>\n      <td>...</td>\n      <td>...</td>\n      <td>...</td>\n      <td>...</td>\n      <td>...</td>\n      <td>...</td>\n      <td>...</td>\n      <td>...</td>\n      <td>...</td>\n      <td>...</td>\n      <td>...</td>\n      <td>...</td>\n      <td>...</td>\n      <td>...</td>\n      <td>...</td>\n      <td>...</td>\n      <td>...</td>\n      <td>...</td>\n      <td>...</td>\n      <td>...</td>\n      <td>...</td>\n    </tr>\n    <tr>\n      <th>2019-03-27</th>\n      <td>3645.0890</td>\n      <td>261.033</td>\n      <td>888.2270</td>\n      <td>4306.199</td>\n      <td>2333.272</td>\n      <td>977.487</td>\n      <td>396.773</td>\n      <td>2270.9935</td>\n      <td>3310.6490</td>\n      <td>876.527</td>\n      <td>...</td>\n      <td>62.912</td>\n      <td>170.326</td>\n      <td>326.4415</td>\n      <td>104.3700</td>\n      <td>234.116</td>\n      <td>2</td>\n      <td>86</td>\n      <td>0</td>\n      <td>3</td>\n      <td>2</td>\n    </tr>\n    <tr>\n      <th>2019-03-28</th>\n      <td>2997.3715</td>\n      <td>218.526</td>\n      <td>547.1220</td>\n      <td>3472.952</td>\n      <td>1808.689</td>\n      <td>833.654</td>\n      <td>326.882</td>\n      <td>1794.9220</td>\n      <td>2686.1380</td>\n      <td>686.604</td>\n      <td>...</td>\n      <td>50.026</td>\n      <td>116.868</td>\n      <td>239.2755</td>\n      <td>82.4725</td>\n      <td>158.289</td>\n      <td>3</td>\n      <td>87</td>\n      <td>0</td>\n      <td>3</td>\n      <td>2</td>\n    </tr>\n    <tr>\n      <th>2019-03-29</th>\n      <td>2254.1045</td>\n      <td>170.737</td>\n      <td>353.0045</td>\n      <td>2631.766</td>\n      <td>1484.601</td>\n      <td>615.075</td>\n      <td>222.557</td>\n      <td>1345.3830</td>\n      <td>2010.5790</td>\n      <td>540.393</td>\n      <td>...</td>\n      <td>42.464</td>\n      <td>98.505</td>\n      <td>188.1385</td>\n      <td>57.4490</td>\n      <td>123.610</td>\n      <td>4</td>\n      <td>88</td>\n      <td>0</td>\n      <td>3</td>\n      <td>2</td>\n    </tr>\n    <tr>\n      <th>2019-03-30</th>\n      <td>2491.5945</td>\n      <td>147.279</td>\n      <td>328.3965</td>\n      <td>2924.391</td>\n      <td>1562.029</td>\n      <td>689.869</td>\n      <td>244.147</td>\n      <td>1405.5355</td>\n      <td>2269.1055</td>\n      <td>609.478</td>\n      <td>...</td>\n      <td>41.900</td>\n      <td>117.733</td>\n      <td>216.9915</td>\n      <td>61.2640</td>\n      <td>117.921</td>\n      <td>5</td>\n      <td>89</td>\n      <td>1</td>\n      <td>3</td>\n      <td>2</td>\n    </tr>\n    <tr>\n      <th>2019-03-31</th>\n      <td>2404.0340</td>\n      <td>175.028</td>\n      <td>322.1180</td>\n      <td>2831.293</td>\n      <td>1460.823</td>\n      <td>669.113</td>\n      <td>224.668</td>\n      <td>1455.4420</td>\n      <td>2254.2270</td>\n      <td>603.645</td>\n      <td>...</td>\n      <td>57.715</td>\n      <td>120.171</td>\n      <td>195.8575</td>\n      <td>65.7955</td>\n      <td>120.079</td>\n      <td>6</td>\n      <td>90</td>\n      <td>1</td>\n      <td>3</td>\n      <td>2</td>\n    </tr>\n  </tbody>\n</table>\n<p>820 rows × 66 columns</p>\n</div>"
     },
     "execution_count": 66,
     "metadata": {},
     "output_type": "execute_result"
    }
   ],
   "source": [
    "df"
   ],
   "metadata": {
    "collapsed": false,
    "pycharm": {
     "name": "#%%\n"
    }
   }
  },
  {
   "cell_type": "code",
   "execution_count": 13,
   "outputs": [],
   "source": [
    "def create_features(houshold_id,df=df) -> pd.DataFrame:\n",
    "    df_new = df[[houshold_id, \"weekday\", \"dayofyear\", \"is_weekend\", \"season\", \"month\"]]\n",
    "    df_new['std'] = df_new[houshold_id].rolling(7).std().fillna(method=\"backfill\")\n",
    "    df_new['mean'] = df_new[houshold_id].rolling(7).mean().fillna(method=\"backfill\")\n",
    "    df_new['lag_1'] = df[houshold_id].shift(1).fillna(method=\"backfill\")\n",
    "    df_new['lag_2'] = df[houshold_id].shift(2).fillna(method=\"backfill\")\n",
    "    df_new['lag_3'] = df_new[houshold_id].shift(3).fillna(method=\"backfill\")\n",
    "    df_new['lag_4'] = df_new[houshold_id].shift(4).fillna(method=\"backfill\")\n",
    "    df_new['lag_5'] = df_new[houshold_id].shift(5).fillna(method=\"backfill\")\n",
    "    df_new['lag_6'] = df_new[houshold_id].shift(6).fillna(method=\"backfill\")\n",
    "    df_new['lag_7'] = df_new[houshold_id].shift(7).fillna(method=\"backfill\")\n",
    "    return df_new"
   ],
   "metadata": {
    "collapsed": false,
    "pycharm": {
     "name": "#%%\n"
    }
   }
  },
  {
   "cell_type": "code",
   "execution_count": 28,
   "outputs": [
    {
     "name": "stderr",
     "output_type": "stream",
     "text": [
      "/var/folders/s9/8xxpssjj6k1g7crmj4658z5h0000gn/T/ipykernel_36440/3561779689.py:3: SettingWithCopyWarning: \n",
      "A value is trying to be set on a copy of a slice from a DataFrame.\n",
      "Try using .loc[row_indexer,col_indexer] = value instead\n",
      "\n",
      "See the caveats in the documentation: https://pandas.pydata.org/pandas-docs/stable/user_guide/indexing.html#returning-a-view-versus-a-copy\n",
      "  df_new['std'] = df_new[houshold_id].rolling(7).std().fillna(method=\"backfill\")\n",
      "/var/folders/s9/8xxpssjj6k1g7crmj4658z5h0000gn/T/ipykernel_36440/3561779689.py:4: SettingWithCopyWarning: \n",
      "A value is trying to be set on a copy of a slice from a DataFrame.\n",
      "Try using .loc[row_indexer,col_indexer] = value instead\n",
      "\n",
      "See the caveats in the documentation: https://pandas.pydata.org/pandas-docs/stable/user_guide/indexing.html#returning-a-view-versus-a-copy\n",
      "  df_new['mean'] = df_new[houshold_id].rolling(7).mean().fillna(method=\"backfill\")\n",
      "/var/folders/s9/8xxpssjj6k1g7crmj4658z5h0000gn/T/ipykernel_36440/3561779689.py:5: SettingWithCopyWarning: \n",
      "A value is trying to be set on a copy of a slice from a DataFrame.\n",
      "Try using .loc[row_indexer,col_indexer] = value instead\n",
      "\n",
      "See the caveats in the documentation: https://pandas.pydata.org/pandas-docs/stable/user_guide/indexing.html#returning-a-view-versus-a-copy\n",
      "  df_new['lag_1'] = df[houshold_id].shift(1).fillna(method=\"backfill\")\n",
      "/var/folders/s9/8xxpssjj6k1g7crmj4658z5h0000gn/T/ipykernel_36440/3561779689.py:6: SettingWithCopyWarning: \n",
      "A value is trying to be set on a copy of a slice from a DataFrame.\n",
      "Try using .loc[row_indexer,col_indexer] = value instead\n",
      "\n",
      "See the caveats in the documentation: https://pandas.pydata.org/pandas-docs/stable/user_guide/indexing.html#returning-a-view-versus-a-copy\n",
      "  df_new['lag_2'] = df[houshold_id].shift(2).fillna(method=\"backfill\")\n",
      "/var/folders/s9/8xxpssjj6k1g7crmj4658z5h0000gn/T/ipykernel_36440/3561779689.py:7: SettingWithCopyWarning: \n",
      "A value is trying to be set on a copy of a slice from a DataFrame.\n",
      "Try using .loc[row_indexer,col_indexer] = value instead\n",
      "\n",
      "See the caveats in the documentation: https://pandas.pydata.org/pandas-docs/stable/user_guide/indexing.html#returning-a-view-versus-a-copy\n",
      "  df_new['lag_3'] = df_new[houshold_id].shift(3).fillna(method=\"backfill\")\n",
      "/var/folders/s9/8xxpssjj6k1g7crmj4658z5h0000gn/T/ipykernel_36440/3561779689.py:8: SettingWithCopyWarning: \n",
      "A value is trying to be set on a copy of a slice from a DataFrame.\n",
      "Try using .loc[row_indexer,col_indexer] = value instead\n",
      "\n",
      "See the caveats in the documentation: https://pandas.pydata.org/pandas-docs/stable/user_guide/indexing.html#returning-a-view-versus-a-copy\n",
      "  df_new['lag_4'] = df_new[houshold_id].shift(4).fillna(method=\"backfill\")\n",
      "/var/folders/s9/8xxpssjj6k1g7crmj4658z5h0000gn/T/ipykernel_36440/3561779689.py:9: SettingWithCopyWarning: \n",
      "A value is trying to be set on a copy of a slice from a DataFrame.\n",
      "Try using .loc[row_indexer,col_indexer] = value instead\n",
      "\n",
      "See the caveats in the documentation: https://pandas.pydata.org/pandas-docs/stable/user_guide/indexing.html#returning-a-view-versus-a-copy\n",
      "  df_new['lag_5'] = df_new[houshold_id].shift(5).fillna(method=\"backfill\")\n",
      "/var/folders/s9/8xxpssjj6k1g7crmj4658z5h0000gn/T/ipykernel_36440/3561779689.py:10: SettingWithCopyWarning: \n",
      "A value is trying to be set on a copy of a slice from a DataFrame.\n",
      "Try using .loc[row_indexer,col_indexer] = value instead\n",
      "\n",
      "See the caveats in the documentation: https://pandas.pydata.org/pandas-docs/stable/user_guide/indexing.html#returning-a-view-versus-a-copy\n",
      "  df_new['lag_6'] = df_new[houshold_id].shift(6).fillna(method=\"backfill\")\n",
      "/var/folders/s9/8xxpssjj6k1g7crmj4658z5h0000gn/T/ipykernel_36440/3561779689.py:11: SettingWithCopyWarning: \n",
      "A value is trying to be set on a copy of a slice from a DataFrame.\n",
      "Try using .loc[row_indexer,col_indexer] = value instead\n",
      "\n",
      "See the caveats in the documentation: https://pandas.pydata.org/pandas-docs/stable/user_guide/indexing.html#returning-a-view-versus-a-copy\n",
      "  df_new['lag_7'] = df_new[houshold_id].shift(7).fillna(method=\"backfill\")\n"
     ]
    }
   ],
   "source": [
    "#result = create_features(1)"
   ],
   "metadata": {
    "collapsed": false,
    "pycharm": {
     "name": "#%%\n"
    }
   }
  },
  {
   "cell_type": "code",
   "execution_count": 14,
   "outputs": [],
   "source": [
    "def get_weeks(idx)-> List[List[pd._libs.tslibs.timestamps.Timestamp]]:\n",
    "    idx = list(idx)\n",
    "    count = 0\n",
    "    weeks_to_predict = []\n",
    "    week = []\n",
    "    for i in range(len(idx)):\n",
    "        if count > 6:\n",
    "            weeks_to_predict.append(week)\n",
    "            week = []\n",
    "            count = 0\n",
    "        week.append(idx[i])\n",
    "        count += 1\n",
    "    return weeks_to_predict"
   ],
   "metadata": {
    "collapsed": false,
    "pycharm": {
     "name": "#%%\n"
    }
   }
  },
  {
   "cell_type": "code",
   "execution_count": 15,
   "outputs": [],
   "source": [
    "weeks_test_date = get_weeks(idx_test_date)"
   ],
   "metadata": {
    "collapsed": false,
    "pycharm": {
     "name": "#%%\n"
    }
   }
  },
  {
   "cell_type": "code",
   "execution_count": 33,
   "outputs": [],
   "source": [
    "def data_split(result, weeks, n) -> Tuple[Any, Any]:\n",
    "    # n test week number\n",
    "    if n == 0:\n",
    "        result = result[result.index < weeks[n][0]]\n",
    "    elif n > 0:\n",
    "        \"\"\"\n",
    "        TODO:\n",
    "            - change split in a way that previous dates are accumulated with new predictions \n",
    "        \"\"\"\n",
    "        result = result[(result.index > weeks[n-1][6]) & (result.index < weeks[n][0])]\n",
    "    train_linear, test_linear = train_test_split(result, shuffle = False, test_size = 0.15)\n",
    "    return train_linear, test_linear"
   ],
   "metadata": {
    "collapsed": false,
    "pycharm": {
     "name": "#%%\n"
    }
   }
  },
  {
   "cell_type": "code",
   "execution_count": 34,
   "outputs": [],
   "source": [
    "result_splitted = []\n",
    "for i in range(len(weeks_test_date)):\n",
    "    train_linear, test_linear = data_split(result, weeks_test_date, i)\n",
    "    result_splitted.append([train_linear, test_linear])"
   ],
   "metadata": {
    "collapsed": false,
    "pycharm": {
     "name": "#%%\n"
    }
   }
  },
  {
   "cell_type": "code",
   "execution_count": 37,
   "outputs": [
    {
     "data": {
      "text/plain": "                    1  weekday  dayofyear  is_weekend  season  month  \\\n2017-02-02  1056.1095        3         33           0       1      2   \n2017-02-03  1290.8265        4         34           0       1      2   \n2017-02-04  1737.6175        5         35           1       1      2   \n2017-02-05  1935.3125        6         36           1       1      2   \n2017-02-06  1807.4465        0         37           0       1      2   \n2017-02-07  1468.2410        1         38           0       1      2   \n\n                   std         mean      lag_1      lag_2      lag_3  \\\n2017-02-02  404.785860  1609.481357  1372.3825  1519.7760  2080.0100   \n2017-02-03  411.479861  1601.290286  1056.1095  1372.3825  1519.7760   \n2017-02-04  412.199046  1603.267214  1290.8265  1056.1095  1372.3825   \n2017-02-05  366.345664  1570.290643  1737.6175  1290.8265  1056.1095   \n2017-02-06  313.865940  1531.353000  1935.3125  1737.6175  1290.8265   \n2017-02-07  314.785816  1523.990857  1807.4465  1935.3125  1737.6175   \n\n                lag_4      lag_5      lag_6      lag_7  \n2017-02-02  2166.1485  1723.7790  1348.1640  1296.3925  \n2017-02-03  2080.0100  2166.1485  1723.7790  1348.1640  \n2017-02-04  1519.7760  2080.0100  2166.1485  1723.7790  \n2017-02-05  1372.3825  1519.7760  2080.0100  2166.1485  \n2017-02-06  1056.1095  1372.3825  1519.7760  2080.0100  \n2017-02-07  1290.8265  1056.1095  1372.3825  1519.7760  ",
      "text/html": "<div>\n<style scoped>\n    .dataframe tbody tr th:only-of-type {\n        vertical-align: middle;\n    }\n\n    .dataframe tbody tr th {\n        vertical-align: top;\n    }\n\n    .dataframe thead th {\n        text-align: right;\n    }\n</style>\n<table border=\"1\" class=\"dataframe\">\n  <thead>\n    <tr style=\"text-align: right;\">\n      <th></th>\n      <th>1</th>\n      <th>weekday</th>\n      <th>dayofyear</th>\n      <th>is_weekend</th>\n      <th>season</th>\n      <th>month</th>\n      <th>std</th>\n      <th>mean</th>\n      <th>lag_1</th>\n      <th>lag_2</th>\n      <th>lag_3</th>\n      <th>lag_4</th>\n      <th>lag_5</th>\n      <th>lag_6</th>\n      <th>lag_7</th>\n    </tr>\n  </thead>\n  <tbody>\n    <tr>\n      <th>2017-02-02</th>\n      <td>1056.1095</td>\n      <td>3</td>\n      <td>33</td>\n      <td>0</td>\n      <td>1</td>\n      <td>2</td>\n      <td>404.785860</td>\n      <td>1609.481357</td>\n      <td>1372.3825</td>\n      <td>1519.7760</td>\n      <td>2080.0100</td>\n      <td>2166.1485</td>\n      <td>1723.7790</td>\n      <td>1348.1640</td>\n      <td>1296.3925</td>\n    </tr>\n    <tr>\n      <th>2017-02-03</th>\n      <td>1290.8265</td>\n      <td>4</td>\n      <td>34</td>\n      <td>0</td>\n      <td>1</td>\n      <td>2</td>\n      <td>411.479861</td>\n      <td>1601.290286</td>\n      <td>1056.1095</td>\n      <td>1372.3825</td>\n      <td>1519.7760</td>\n      <td>2080.0100</td>\n      <td>2166.1485</td>\n      <td>1723.7790</td>\n      <td>1348.1640</td>\n    </tr>\n    <tr>\n      <th>2017-02-04</th>\n      <td>1737.6175</td>\n      <td>5</td>\n      <td>35</td>\n      <td>1</td>\n      <td>1</td>\n      <td>2</td>\n      <td>412.199046</td>\n      <td>1603.267214</td>\n      <td>1290.8265</td>\n      <td>1056.1095</td>\n      <td>1372.3825</td>\n      <td>1519.7760</td>\n      <td>2080.0100</td>\n      <td>2166.1485</td>\n      <td>1723.7790</td>\n    </tr>\n    <tr>\n      <th>2017-02-05</th>\n      <td>1935.3125</td>\n      <td>6</td>\n      <td>36</td>\n      <td>1</td>\n      <td>1</td>\n      <td>2</td>\n      <td>366.345664</td>\n      <td>1570.290643</td>\n      <td>1737.6175</td>\n      <td>1290.8265</td>\n      <td>1056.1095</td>\n      <td>1372.3825</td>\n      <td>1519.7760</td>\n      <td>2080.0100</td>\n      <td>2166.1485</td>\n    </tr>\n    <tr>\n      <th>2017-02-06</th>\n      <td>1807.4465</td>\n      <td>0</td>\n      <td>37</td>\n      <td>0</td>\n      <td>1</td>\n      <td>2</td>\n      <td>313.865940</td>\n      <td>1531.353000</td>\n      <td>1935.3125</td>\n      <td>1737.6175</td>\n      <td>1290.8265</td>\n      <td>1056.1095</td>\n      <td>1372.3825</td>\n      <td>1519.7760</td>\n      <td>2080.0100</td>\n    </tr>\n    <tr>\n      <th>2017-02-07</th>\n      <td>1468.2410</td>\n      <td>1</td>\n      <td>38</td>\n      <td>0</td>\n      <td>1</td>\n      <td>2</td>\n      <td>314.785816</td>\n      <td>1523.990857</td>\n      <td>1807.4465</td>\n      <td>1935.3125</td>\n      <td>1737.6175</td>\n      <td>1290.8265</td>\n      <td>1056.1095</td>\n      <td>1372.3825</td>\n      <td>1519.7760</td>\n    </tr>\n  </tbody>\n</table>\n</div>"
     },
     "execution_count": 37,
     "metadata": {},
     "output_type": "execute_result"
    }
   ],
   "source": [
    "result_splitted[0][1]"
   ],
   "metadata": {
    "collapsed": false,
    "pycharm": {
     "name": "#%%\n"
    }
   }
  },
  {
   "cell_type": "code",
   "execution_count": 37,
   "outputs": [],
   "source": [
    "features_train_linear = result_splitted[0][0].drop([1], axis=1)\n",
    "features_valid_linear = result_splitted[0][1].drop([1], axis=1)\n",
    "target_train_linear = result_splitted[0][0][1]\n",
    "target_valid_linear = result_splitted[0][1][1]"
   ],
   "metadata": {
    "collapsed": false,
    "pycharm": {
     "name": "#%%\n"
    }
   }
  },
  {
   "cell_type": "code",
   "execution_count": 38,
   "outputs": [
    {
     "data": {
      "text/plain": "LinearRegression()",
      "text/html": "<style>#sk-container-id-1 {color: black;background-color: white;}#sk-container-id-1 pre{padding: 0;}#sk-container-id-1 div.sk-toggleable {background-color: white;}#sk-container-id-1 label.sk-toggleable__label {cursor: pointer;display: block;width: 100%;margin-bottom: 0;padding: 0.3em;box-sizing: border-box;text-align: center;}#sk-container-id-1 label.sk-toggleable__label-arrow:before {content: \"▸\";float: left;margin-right: 0.25em;color: #696969;}#sk-container-id-1 label.sk-toggleable__label-arrow:hover:before {color: black;}#sk-container-id-1 div.sk-estimator:hover label.sk-toggleable__label-arrow:before {color: black;}#sk-container-id-1 div.sk-toggleable__content {max-height: 0;max-width: 0;overflow: hidden;text-align: left;background-color: #f0f8ff;}#sk-container-id-1 div.sk-toggleable__content pre {margin: 0.2em;color: black;border-radius: 0.25em;background-color: #f0f8ff;}#sk-container-id-1 input.sk-toggleable__control:checked~div.sk-toggleable__content {max-height: 200px;max-width: 100%;overflow: auto;}#sk-container-id-1 input.sk-toggleable__control:checked~label.sk-toggleable__label-arrow:before {content: \"▾\";}#sk-container-id-1 div.sk-estimator input.sk-toggleable__control:checked~label.sk-toggleable__label {background-color: #d4ebff;}#sk-container-id-1 div.sk-label input.sk-toggleable__control:checked~label.sk-toggleable__label {background-color: #d4ebff;}#sk-container-id-1 input.sk-hidden--visually {border: 0;clip: rect(1px 1px 1px 1px);clip: rect(1px, 1px, 1px, 1px);height: 1px;margin: -1px;overflow: hidden;padding: 0;position: absolute;width: 1px;}#sk-container-id-1 div.sk-estimator {font-family: monospace;background-color: #f0f8ff;border: 1px dotted black;border-radius: 0.25em;box-sizing: border-box;margin-bottom: 0.5em;}#sk-container-id-1 div.sk-estimator:hover {background-color: #d4ebff;}#sk-container-id-1 div.sk-parallel-item::after {content: \"\";width: 100%;border-bottom: 1px solid gray;flex-grow: 1;}#sk-container-id-1 div.sk-label:hover label.sk-toggleable__label {background-color: #d4ebff;}#sk-container-id-1 div.sk-serial::before {content: \"\";position: absolute;border-left: 1px solid gray;box-sizing: border-box;top: 0;bottom: 0;left: 50%;z-index: 0;}#sk-container-id-1 div.sk-serial {display: flex;flex-direction: column;align-items: center;background-color: white;padding-right: 0.2em;padding-left: 0.2em;position: relative;}#sk-container-id-1 div.sk-item {position: relative;z-index: 1;}#sk-container-id-1 div.sk-parallel {display: flex;align-items: stretch;justify-content: center;background-color: white;position: relative;}#sk-container-id-1 div.sk-item::before, #sk-container-id-1 div.sk-parallel-item::before {content: \"\";position: absolute;border-left: 1px solid gray;box-sizing: border-box;top: 0;bottom: 0;left: 50%;z-index: -1;}#sk-container-id-1 div.sk-parallel-item {display: flex;flex-direction: column;z-index: 1;position: relative;background-color: white;}#sk-container-id-1 div.sk-parallel-item:first-child::after {align-self: flex-end;width: 50%;}#sk-container-id-1 div.sk-parallel-item:last-child::after {align-self: flex-start;width: 50%;}#sk-container-id-1 div.sk-parallel-item:only-child::after {width: 0;}#sk-container-id-1 div.sk-dashed-wrapped {border: 1px dashed gray;margin: 0 0.4em 0.5em 0.4em;box-sizing: border-box;padding-bottom: 0.4em;background-color: white;}#sk-container-id-1 div.sk-label label {font-family: monospace;font-weight: bold;display: inline-block;line-height: 1.2em;}#sk-container-id-1 div.sk-label-container {text-align: center;}#sk-container-id-1 div.sk-container {/* jupyter's `normalize.less` sets `[hidden] { display: none; }` but bootstrap.min.css set `[hidden] { display: none !important; }` so we also need the `!important` here to be able to override the default hidden behavior on the sphinx rendered scikit-learn.org. See: https://github.com/scikit-learn/scikit-learn/issues/21755 */display: inline-block !important;position: relative;}#sk-container-id-1 div.sk-text-repr-fallback {display: none;}</style><div id=\"sk-container-id-1\" class=\"sk-top-container\"><div class=\"sk-text-repr-fallback\"><pre>LinearRegression()</pre><b>In a Jupyter environment, please rerun this cell to show the HTML representation or trust the notebook. <br />On GitHub, the HTML representation is unable to render, please try loading this page with nbviewer.org.</b></div><div class=\"sk-container\" hidden><div class=\"sk-item\"><div class=\"sk-estimator sk-toggleable\"><input class=\"sk-toggleable__control sk-hidden--visually\" id=\"sk-estimator-id-1\" type=\"checkbox\" checked><label for=\"sk-estimator-id-1\" class=\"sk-toggleable__label sk-toggleable__label-arrow\">LinearRegression</label><div class=\"sk-toggleable__content\"><pre>LinearRegression()</pre></div></div></div></div></div>"
     },
     "execution_count": 38,
     "metadata": {},
     "output_type": "execute_result"
    }
   ],
   "source": [
    "model_linear = LinearRegression()\n",
    "model_linear.fit(features_train_linear,target_train_linear)"
   ],
   "metadata": {
    "collapsed": false,
    "pycharm": {
     "name": "#%%\n"
    }
   }
  },
  {
   "cell_type": "code",
   "execution_count": 39,
   "outputs": [],
   "source": [
    "predict = model_linear.predict(features_valid_linear)"
   ],
   "metadata": {
    "collapsed": false,
    "pycharm": {
     "name": "#%%\n"
    }
   }
  },
  {
   "cell_type": "code",
   "execution_count": 40,
   "outputs": [
    {
     "name": "stdout",
     "output_type": "stream",
     "text": [
      "RMSE тестовой выборки:  254.98388264044218\n"
     ]
    }
   ],
   "source": [
    "print(\"RMSE тестовой выборки: \", mean_squared_error(target_valid_linear,predict, squared=False))"
   ],
   "metadata": {
    "collapsed": false,
    "pycharm": {
     "name": "#%%\n"
    }
   }
  },
  {
   "cell_type": "code",
   "execution_count": 41,
   "outputs": [],
   "source": [
    "target_valid_linear= target_valid_linear.to_frame()"
   ],
   "metadata": {
    "collapsed": false,
    "pycharm": {
     "name": "#%%\n"
    }
   }
  },
  {
   "cell_type": "code",
   "execution_count": 42,
   "outputs": [],
   "source": [
    "target_valid_linear['predict'] = predict"
   ],
   "metadata": {
    "collapsed": false,
    "pycharm": {
     "name": "#%%\n"
    }
   }
  },
  {
   "cell_type": "code",
   "execution_count": 43,
   "outputs": [
    {
     "data": {
      "text/plain": "<Figure size 1080x360 with 1 Axes>",
      "image/png": "[encoded data removed]"
     },
     "metadata": {
      "needs_background": "light"
     },
     "output_type": "display_data"
    }
   ],
   "source": [
    "plt.rcParams.update({'figure.figsize':(9,3), 'figure.dpi':120})\n",
    "target_valid_linear.plot()\n",
    "plt.title('Linear Regression. Energy consumption daily basis Actual vs Forecast (6 days) houshold #1')\n",
    "plt.show()"
   ],
   "metadata": {
    "collapsed": false,
    "pycharm": {
     "name": "#%%\n"
    }
   }
  },
  {
   "cell_type": "code",
   "execution_count": 45,
   "outputs": [
    {
     "data": {
      "text/plain": "                    1      predict\n2017-02-02  1056.1095  1222.626666\n2017-02-03  1290.8265   831.952840\n2017-02-04  1737.6175  1479.236409\n2017-02-05  1935.3125  1746.210711\n2017-02-06  1807.4465  1652.165591\n2017-02-07  1468.2410  1309.573911",
      "text/html": "<div>\n<style scoped>\n    .dataframe tbody tr th:only-of-type {\n        vertical-align: middle;\n    }\n\n    .dataframe tbody tr th {\n        vertical-align: top;\n    }\n\n    .dataframe thead th {\n        text-align: right;\n    }\n</style>\n<table border=\"1\" class=\"dataframe\">\n  <thead>\n    <tr style=\"text-align: right;\">\n      <th></th>\n      <th>1</th>\n      <th>predict</th>\n    </tr>\n  </thead>\n  <tbody>\n    <tr>\n      <th>2017-02-02</th>\n      <td>1056.1095</td>\n      <td>1222.626666</td>\n    </tr>\n    <tr>\n      <th>2017-02-03</th>\n      <td>1290.8265</td>\n      <td>831.952840</td>\n    </tr>\n    <tr>\n      <th>2017-02-04</th>\n      <td>1737.6175</td>\n      <td>1479.236409</td>\n    </tr>\n    <tr>\n      <th>2017-02-05</th>\n      <td>1935.3125</td>\n      <td>1746.210711</td>\n    </tr>\n    <tr>\n      <th>2017-02-06</th>\n      <td>1807.4465</td>\n      <td>1652.165591</td>\n    </tr>\n    <tr>\n      <th>2017-02-07</th>\n      <td>1468.2410</td>\n      <td>1309.573911</td>\n    </tr>\n  </tbody>\n</table>\n</div>"
     },
     "execution_count": 45,
     "metadata": {},
     "output_type": "execute_result"
    }
   ],
   "source": [
    "target_valid_linear"
   ],
   "metadata": {
    "collapsed": false,
    "pycharm": {
     "name": "#%%\n"
    }
   }
  },
  {
   "cell_type": "code",
   "execution_count": 44,
   "outputs": [],
   "source": [
    "def get_test_predictions(result, week) -> pd.DataFrame:\n",
    "    test_week = result[week[0]:week[6]]\n",
    "    features_test_linear = test_week.drop([1], axis=1)\n",
    "    target_test_linear = test_week[1]\n",
    "    target_test_linear= target_test_linear.to_frame()\n",
    "    predict_test = model_linear.predict(features_test_linear)\n",
    "    target_test_linear['predict'] = predict_test\n",
    "\n",
    "    return target_test_linear"
   ],
   "metadata": {
    "collapsed": false,
    "pycharm": {
     "name": "#%%\n"
    }
   }
  },
  {
   "cell_type": "code",
   "execution_count": 45,
   "outputs": [
    {
     "data": {
      "text/plain": "                   1      predict\n2017-02-08  1371.646  1147.506122\n2017-02-09  1371.646  1295.524195\n2017-02-10  1371.646  1232.622930\n2017-02-11  1371.646  1518.513109\n2017-02-12  1371.646  1497.759138\n2017-02-13  1371.646  1583.406886\n2017-02-14  1371.646  1485.613948",
      "text/html": "<div>\n<style scoped>\n    .dataframe tbody tr th:only-of-type {\n        vertical-align: middle;\n    }\n\n    .dataframe tbody tr th {\n        vertical-align: top;\n    }\n\n    .dataframe thead th {\n        text-align: right;\n    }\n</style>\n<table border=\"1\" class=\"dataframe\">\n  <thead>\n    <tr style=\"text-align: right;\">\n      <th></th>\n      <th>1</th>\n      <th>predict</th>\n    </tr>\n  </thead>\n  <tbody>\n    <tr>\n      <th>2017-02-08</th>\n      <td>1371.646</td>\n      <td>1147.506122</td>\n    </tr>\n    <tr>\n      <th>2017-02-09</th>\n      <td>1371.646</td>\n      <td>1295.524195</td>\n    </tr>\n    <tr>\n      <th>2017-02-10</th>\n      <td>1371.646</td>\n      <td>1232.622930</td>\n    </tr>\n    <tr>\n      <th>2017-02-11</th>\n      <td>1371.646</td>\n      <td>1518.513109</td>\n    </tr>\n    <tr>\n      <th>2017-02-12</th>\n      <td>1371.646</td>\n      <td>1497.759138</td>\n    </tr>\n    <tr>\n      <th>2017-02-13</th>\n      <td>1371.646</td>\n      <td>1583.406886</td>\n    </tr>\n    <tr>\n      <th>2017-02-14</th>\n      <td>1371.646</td>\n      <td>1485.613948</td>\n    </tr>\n  </tbody>\n</table>\n</div>"
     },
     "execution_count": 45,
     "metadata": {},
     "output_type": "execute_result"
    }
   ],
   "source": [
    "week = weeks_test_date[0]\n",
    "predict_test = get_test_predictions(result,week)\n",
    "predict_test"
   ],
   "metadata": {
    "collapsed": false,
    "pycharm": {
     "name": "#%%\n"
    }
   }
  },
  {
   "cell_type": "code",
   "execution_count": 48,
   "outputs": [],
   "source": [
    "week = weeks_test_date[0]\n",
    "result_2 = result.copy(deep=True)\n",
    "\n",
    "result_2.loc[week[0]:week[6],1] = predict_test['predict']\n"
   ],
   "metadata": {
    "collapsed": false,
    "pycharm": {
     "name": "#%%\n"
    }
   }
  },
  {
   "cell_type": "code",
   "execution_count": 49,
   "outputs": [
    {
     "data": {
      "text/plain": "2017-02-08    1147.506122\n2017-02-09    1295.524195\n2017-02-10    1232.622930\n2017-02-11    1518.513109\n2017-02-12    1497.759138\n2017-02-13    1583.406886\n2017-02-14    1485.613948\nFreq: D, Name: 1, dtype: float64"
     },
     "execution_count": 49,
     "metadata": {},
     "output_type": "execute_result"
    }
   ],
   "source": [
    "result_2.loc[week[0]:week[6],1]"
   ],
   "metadata": {
    "collapsed": false,
    "pycharm": {
     "name": "#%%\n"
    }
   }
  },
  {
   "cell_type": "code",
   "execution_count": 17,
   "outputs": [],
   "source": [
    "def data_split_accumlated(result, weeks, n, houshold) -> Tuple[Any, Any]:\n",
    "    print(weeks[n])\n",
    "    result_splitted = result[result.index < weeks[n][0]]\n",
    "    result_splitted_features = result_splitted.drop([houshold], axis=1)\n",
    "    result_splitted_target = result_splitted[houshold]\n",
    "    print(\"target: \", result_splitted_target)\n",
    "    result_splitted_to_predict = result[(result.index >= weeks[n][0]) & (result.index <= weeks[n][6])]\n",
    "    result_splitted_to_predict_features = result_splitted_to_predict.drop([houshold], axis=1)\n",
    "    result_splitted_to_predict_target = result_splitted_to_predict[houshold]\n",
    "    result_splitted_to_predict_target = result_splitted_to_predict_target.to_frame()\n",
    "\n",
    "    return result_splitted_features, result_splitted_target, result_splitted_to_predict_features, result_splitted_to_predict_target"
   ],
   "metadata": {
    "collapsed": false,
    "pycharm": {
     "name": "#%%\n"
    }
   }
  },
  {
   "cell_type": "code",
   "execution_count": 21,
   "outputs": [
    {
     "name": "stdout",
     "output_type": "stream",
     "text": [
      "***** Houshold 1 dataset created ****** \n",
      "week 0 splitting started\n"
     ]
    },
    {
     "name": "stderr",
     "output_type": "stream",
     "text": [
      "/var/folders/s9/8xxpssjj6k1g7crmj4658z5h0000gn/T/ipykernel_47001/3561779689.py:3: SettingWithCopyWarning: \n",
      "A value is trying to be set on a copy of a slice from a DataFrame.\n",
      "Try using .loc[row_indexer,col_indexer] = value instead\n",
      "\n",
      "See the caveats in the documentation: https://pandas.pydata.org/pandas-docs/stable/user_guide/indexing.html#returning-a-view-versus-a-copy\n",
      "  df_new['std'] = df_new[houshold_id].rolling(7).std().fillna(method=\"backfill\")\n",
      "/var/folders/s9/8xxpssjj6k1g7crmj4658z5h0000gn/T/ipykernel_47001/3561779689.py:4: SettingWithCopyWarning: \n",
      "A value is trying to be set on a copy of a slice from a DataFrame.\n",
      "Try using .loc[row_indexer,col_indexer] = value instead\n",
      "\n",
      "See the caveats in the documentation: https://pandas.pydata.org/pandas-docs/stable/user_guide/indexing.html#returning-a-view-versus-a-copy\n",
      "  df_new['mean'] = df_new[houshold_id].rolling(7).mean().fillna(method=\"backfill\")\n",
      "/var/folders/s9/8xxpssjj6k1g7crmj4658z5h0000gn/T/ipykernel_47001/3561779689.py:5: SettingWithCopyWarning: \n",
      "A value is trying to be set on a copy of a slice from a DataFrame.\n",
      "Try using .loc[row_indexer,col_indexer] = value instead\n",
      "\n",
      "See the caveats in the documentation: https://pandas.pydata.org/pandas-docs/stable/user_guide/indexing.html#returning-a-view-versus-a-copy\n",
      "  df_new['lag_1'] = df[houshold_id].shift(1).fillna(method=\"backfill\")\n",
      "/var/folders/s9/8xxpssjj6k1g7crmj4658z5h0000gn/T/ipykernel_47001/3561779689.py:6: SettingWithCopyWarning: \n",
      "A value is trying to be set on a copy of a slice from a DataFrame.\n",
      "Try using .loc[row_indexer,col_indexer] = value instead\n",
      "\n",
      "See the caveats in the documentation: https://pandas.pydata.org/pandas-docs/stable/user_guide/indexing.html#returning-a-view-versus-a-copy\n",
      "  df_new['lag_2'] = df[houshold_id].shift(2).fillna(method=\"backfill\")\n",
      "/var/folders/s9/8xxpssjj6k1g7crmj4658z5h0000gn/T/ipykernel_47001/3561779689.py:7: SettingWithCopyWarning: \n",
      "A value is trying to be set on a copy of a slice from a DataFrame.\n",
      "Try using .loc[row_indexer,col_indexer] = value instead\n",
      "\n",
      "See the caveats in the documentation: https://pandas.pydata.org/pandas-docs/stable/user_guide/indexing.html#returning-a-view-versus-a-copy\n",
      "  df_new['lag_3'] = df_new[houshold_id].shift(3).fillna(method=\"backfill\")\n",
      "/var/folders/s9/8xxpssjj6k1g7crmj4658z5h0000gn/T/ipykernel_47001/3561779689.py:8: SettingWithCopyWarning: \n",
      "A value is trying to be set on a copy of a slice from a DataFrame.\n",
      "Try using .loc[row_indexer,col_indexer] = value instead\n",
      "\n",
      "See the caveats in the documentation: https://pandas.pydata.org/pandas-docs/stable/user_guide/indexing.html#returning-a-view-versus-a-copy\n",
      "  df_new['lag_4'] = df_new[houshold_id].shift(4).fillna(method=\"backfill\")\n",
      "/var/folders/s9/8xxpssjj6k1g7crmj4658z5h0000gn/T/ipykernel_47001/3561779689.py:9: SettingWithCopyWarning: \n",
      "A value is trying to be set on a copy of a slice from a DataFrame.\n",
      "Try using .loc[row_indexer,col_indexer] = value instead\n",
      "\n",
      "See the caveats in the documentation: https://pandas.pydata.org/pandas-docs/stable/user_guide/indexing.html#returning-a-view-versus-a-copy\n",
      "  df_new['lag_5'] = df_new[houshold_id].shift(5).fillna(method=\"backfill\")\n",
      "/var/folders/s9/8xxpssjj6k1g7crmj4658z5h0000gn/T/ipykernel_47001/3561779689.py:10: SettingWithCopyWarning: \n",
      "A value is trying to be set on a copy of a slice from a DataFrame.\n",
      "Try using .loc[row_indexer,col_indexer] = value instead\n",
      "\n",
      "See the caveats in the documentation: https://pandas.pydata.org/pandas-docs/stable/user_guide/indexing.html#returning-a-view-versus-a-copy\n",
      "  df_new['lag_6'] = df_new[houshold_id].shift(6).fillna(method=\"backfill\")\n",
      "/var/folders/s9/8xxpssjj6k1g7crmj4658z5h0000gn/T/ipykernel_47001/3561779689.py:11: SettingWithCopyWarning: \n",
      "A value is trying to be set on a copy of a slice from a DataFrame.\n",
      "Try using .loc[row_indexer,col_indexer] = value instead\n",
      "\n",
      "See the caveats in the documentation: https://pandas.pydata.org/pandas-docs/stable/user_guide/indexing.html#returning-a-view-versus-a-copy\n",
      "  df_new['lag_7'] = df_new[houshold_id].shift(7).fillna(method=\"backfill\")\n",
      "/var/folders/s9/8xxpssjj6k1g7crmj4658z5h0000gn/T/ipykernel_47001/3561779689.py:3: SettingWithCopyWarning: \n",
      "A value is trying to be set on a copy of a slice from a DataFrame.\n",
      "Try using .loc[row_indexer,col_indexer] = value instead\n",
      "\n",
      "See the caveats in the documentation: https://pandas.pydata.org/pandas-docs/stable/user_guide/indexing.html#returning-a-view-versus-a-copy\n",
      "  df_new['std'] = df_new[houshold_id].rolling(7).std().fillna(method=\"backfill\")\n",
      "/var/folders/s9/8xxpssjj6k1g7crmj4658z5h0000gn/T/ipykernel_47001/3561779689.py:4: SettingWithCopyWarning: \n",
      "A value is trying to be set on a copy of a slice from a DataFrame.\n",
      "Try using .loc[row_indexer,col_indexer] = value instead\n",
      "\n",
      "See the caveats in the documentation: https://pandas.pydata.org/pandas-docs/stable/user_guide/indexing.html#returning-a-view-versus-a-copy\n",
      "  df_new['mean'] = df_new[houshold_id].rolling(7).mean().fillna(method=\"backfill\")\n",
      "/var/folders/s9/8xxpssjj6k1g7crmj4658z5h0000gn/T/ipykernel_47001/3561779689.py:5: SettingWithCopyWarning: \n",
      "A value is trying to be set on a copy of a slice from a DataFrame.\n",
      "Try using .loc[row_indexer,col_indexer] = value instead\n",
      "\n",
      "See the caveats in the documentation: https://pandas.pydata.org/pandas-docs/stable/user_guide/indexing.html#returning-a-view-versus-a-copy\n",
      "  df_new['lag_1'] = df[houshold_id].shift(1).fillna(method=\"backfill\")\n",
      "/var/folders/s9/8xxpssjj6k1g7crmj4658z5h0000gn/T/ipykernel_47001/3561779689.py:6: SettingWithCopyWarning: \n",
      "A value is trying to be set on a copy of a slice from a DataFrame.\n",
      "Try using .loc[row_indexer,col_indexer] = value instead\n",
      "\n",
      "See the caveats in the documentation: https://pandas.pydata.org/pandas-docs/stable/user_guide/indexing.html#returning-a-view-versus-a-copy\n",
      "  df_new['lag_2'] = df[houshold_id].shift(2).fillna(method=\"backfill\")\n",
      "/var/folders/s9/8xxpssjj6k1g7crmj4658z5h0000gn/T/ipykernel_47001/3561779689.py:7: SettingWithCopyWarning: \n",
      "A value is trying to be set on a copy of a slice from a DataFrame.\n",
      "Try using .loc[row_indexer,col_indexer] = value instead\n",
      "\n",
      "See the caveats in the documentation: https://pandas.pydata.org/pandas-docs/stable/user_guide/indexing.html#returning-a-view-versus-a-copy\n",
      "  df_new['lag_3'] = df_new[houshold_id].shift(3).fillna(method=\"backfill\")\n",
      "/var/folders/s9/8xxpssjj6k1g7crmj4658z5h0000gn/T/ipykernel_47001/3561779689.py:8: SettingWithCopyWarning: \n",
      "A value is trying to be set on a copy of a slice from a DataFrame.\n",
      "Try using .loc[row_indexer,col_indexer] = value instead\n",
      "\n",
      "See the caveats in the documentation: https://pandas.pydata.org/pandas-docs/stable/user_guide/indexing.html#returning-a-view-versus-a-copy\n",
      "  df_new['lag_4'] = df_new[houshold_id].shift(4).fillna(method=\"backfill\")\n"
     ]
    },
    {
     "name": "stdout",
     "output_type": "stream",
     "text": [
      "[Timestamp('2017-02-08 00:00:00'), Timestamp('2017-02-09 00:00:00'), Timestamp('2017-02-10 00:00:00'), Timestamp('2017-02-11 00:00:00'), Timestamp('2017-02-12 00:00:00'), Timestamp('2017-02-13 00:00:00'), Timestamp('2017-02-14 00:00:00')]\n",
      "target:  2017-01-01    1673.8655\n",
      "2017-01-02    1463.3230\n",
      "2017-01-03    1132.2910\n",
      "2017-01-04    1183.8085\n",
      "2017-01-05    1125.2870\n",
      "2017-01-06     960.3085\n",
      "2017-01-07    1206.6970\n",
      "2017-01-08    1434.7410\n",
      "2017-01-09    1691.1110\n",
      "2017-01-10    1364.7680\n",
      "2017-01-11    1205.7855\n",
      "2017-01-12    1255.7920\n",
      "2017-01-13     984.8050\n",
      "2017-01-14    1230.0850\n",
      "2017-01-15    1577.9875\n",
      "2017-01-16    1662.5150\n",
      "2017-01-17    1477.8875\n",
      "2017-01-18    1259.0465\n",
      "2017-01-19    1164.7385\n",
      "2017-01-20    1211.8320\n",
      "2017-01-21    1837.0090\n",
      "2017-01-22    2078.1550\n",
      "2017-01-23    1751.2935\n",
      "2017-01-24    1362.2485\n",
      "2017-01-25    1371.5805\n",
      "2017-01-26    1296.3925\n",
      "2017-01-27    1348.1640\n",
      "2017-01-28    1723.7790\n",
      "2017-01-29    2166.1485\n",
      "2017-01-30    2080.0100\n",
      "2017-01-31    1519.7760\n",
      "2017-02-01    1372.3825\n",
      "2017-02-02    1056.1095\n",
      "2017-02-03    1290.8265\n",
      "2017-02-04    1737.6175\n",
      "2017-02-05    1935.3125\n",
      "2017-02-06    1807.4465\n",
      "2017-02-07    1468.2410\n",
      "Freq: D, Name: 1, dtype: float64\n",
      "trained on 0\n",
      "=============================================\n",
      "[1294.31769872 1357.8797549  1363.06768157 1719.75348144 1679.0284309\n",
      " 1633.70328912 1533.37413802]\n",
      "2017-02-08    1294.317699\n",
      "2017-02-09    1357.879755\n",
      "2017-02-10    1363.067682\n",
      "2017-02-11    1719.753481\n",
      "2017-02-12    1679.028431\n",
      "2017-02-13    1633.703289\n",
      "2017-02-14    1533.374138\n",
      "Freq: D, Name: 1, dtype: float64\n",
      "=============================================\n",
      "week 1 splitting started\n"
     ]
    },
    {
     "name": "stderr",
     "output_type": "stream",
     "text": [
      "/var/folders/s9/8xxpssjj6k1g7crmj4658z5h0000gn/T/ipykernel_47001/3561779689.py:9: SettingWithCopyWarning: \n",
      "A value is trying to be set on a copy of a slice from a DataFrame.\n",
      "Try using .loc[row_indexer,col_indexer] = value instead\n",
      "\n",
      "See the caveats in the documentation: https://pandas.pydata.org/pandas-docs/stable/user_guide/indexing.html#returning-a-view-versus-a-copy\n",
      "  df_new['lag_5'] = df_new[houshold_id].shift(5).fillna(method=\"backfill\")\n",
      "/var/folders/s9/8xxpssjj6k1g7crmj4658z5h0000gn/T/ipykernel_47001/3561779689.py:10: SettingWithCopyWarning: \n",
      "A value is trying to be set on a copy of a slice from a DataFrame.\n",
      "Try using .loc[row_indexer,col_indexer] = value instead\n",
      "\n",
      "See the caveats in the documentation: https://pandas.pydata.org/pandas-docs/stable/user_guide/indexing.html#returning-a-view-versus-a-copy\n",
      "  df_new['lag_6'] = df_new[houshold_id].shift(6).fillna(method=\"backfill\")\n",
      "/var/folders/s9/8xxpssjj6k1g7crmj4658z5h0000gn/T/ipykernel_47001/3561779689.py:11: SettingWithCopyWarning: \n",
      "A value is trying to be set on a copy of a slice from a DataFrame.\n",
      "Try using .loc[row_indexer,col_indexer] = value instead\n",
      "\n",
      "See the caveats in the documentation: https://pandas.pydata.org/pandas-docs/stable/user_guide/indexing.html#returning-a-view-versus-a-copy\n",
      "  df_new['lag_7'] = df_new[houshold_id].shift(7).fillna(method=\"backfill\")\n",
      "/var/folders/s9/8xxpssjj6k1g7crmj4658z5h0000gn/T/ipykernel_47001/3561779689.py:3: SettingWithCopyWarning: \n",
      "A value is trying to be set on a copy of a slice from a DataFrame.\n",
      "Try using .loc[row_indexer,col_indexer] = value instead\n",
      "\n",
      "See the caveats in the documentation: https://pandas.pydata.org/pandas-docs/stable/user_guide/indexing.html#returning-a-view-versus-a-copy\n",
      "  df_new['std'] = df_new[houshold_id].rolling(7).std().fillna(method=\"backfill\")\n",
      "/var/folders/s9/8xxpssjj6k1g7crmj4658z5h0000gn/T/ipykernel_47001/3561779689.py:4: SettingWithCopyWarning: \n",
      "A value is trying to be set on a copy of a slice from a DataFrame.\n",
      "Try using .loc[row_indexer,col_indexer] = value instead\n",
      "\n",
      "See the caveats in the documentation: https://pandas.pydata.org/pandas-docs/stable/user_guide/indexing.html#returning-a-view-versus-a-copy\n",
      "  df_new['mean'] = df_new[houshold_id].rolling(7).mean().fillna(method=\"backfill\")\n"
     ]
    },
    {
     "name": "stdout",
     "output_type": "stream",
     "text": [
      "[Timestamp('2017-03-25 00:00:00'), Timestamp('2017-03-26 00:00:00'), Timestamp('2017-03-27 00:00:00'), Timestamp('2017-03-28 00:00:00'), Timestamp('2017-03-29 00:00:00'), Timestamp('2017-03-30 00:00:00'), Timestamp('2017-03-31 00:00:00')]\n",
      "target:  2017-01-01    1673.8655\n",
      "2017-01-02    1463.3230\n",
      "2017-01-03    1132.2910\n",
      "2017-01-04    1183.8085\n",
      "2017-01-05    1125.2870\n",
      "                ...    \n",
      "2017-03-20    1253.7345\n",
      "2017-03-21    1090.8350\n",
      "2017-03-22    1094.7495\n",
      "2017-03-23    1545.9775\n",
      "2017-03-24    1822.8095\n",
      "Freq: D, Name: 1, Length: 83, dtype: float64\n",
      "trained on 1\n",
      "=============================================\n",
      "[1770.85414841 1611.8661904  1495.03730964 1571.85726706 1809.82681897\n",
      " 2033.31191674 2103.06877628]\n",
      "2017-03-25    1770.854148\n",
      "2017-03-26    1611.866190\n",
      "2017-03-27    1495.037310\n",
      "2017-03-28    1571.857267\n",
      "2017-03-29    1809.826819\n",
      "2017-03-30    2033.311917\n",
      "2017-03-31    2103.068776\n",
      "Freq: D, Name: 1, dtype: float64\n",
      "=============================================\n",
      "week 2 splitting started\n"
     ]
    },
    {
     "name": "stderr",
     "output_type": "stream",
     "text": [
      "/var/folders/s9/8xxpssjj6k1g7crmj4658z5h0000gn/T/ipykernel_47001/3561779689.py:5: SettingWithCopyWarning: \n",
      "A value is trying to be set on a copy of a slice from a DataFrame.\n",
      "Try using .loc[row_indexer,col_indexer] = value instead\n",
      "\n",
      "See the caveats in the documentation: https://pandas.pydata.org/pandas-docs/stable/user_guide/indexing.html#returning-a-view-versus-a-copy\n",
      "  df_new['lag_1'] = df[houshold_id].shift(1).fillna(method=\"backfill\")\n",
      "/var/folders/s9/8xxpssjj6k1g7crmj4658z5h0000gn/T/ipykernel_47001/3561779689.py:6: SettingWithCopyWarning: \n",
      "A value is trying to be set on a copy of a slice from a DataFrame.\n",
      "Try using .loc[row_indexer,col_indexer] = value instead\n",
      "\n",
      "See the caveats in the documentation: https://pandas.pydata.org/pandas-docs/stable/user_guide/indexing.html#returning-a-view-versus-a-copy\n",
      "  df_new['lag_2'] = df[houshold_id].shift(2).fillna(method=\"backfill\")\n",
      "/var/folders/s9/8xxpssjj6k1g7crmj4658z5h0000gn/T/ipykernel_47001/3561779689.py:7: SettingWithCopyWarning: \n",
      "A value is trying to be set on a copy of a slice from a DataFrame.\n",
      "Try using .loc[row_indexer,col_indexer] = value instead\n",
      "\n",
      "See the caveats in the documentation: https://pandas.pydata.org/pandas-docs/stable/user_guide/indexing.html#returning-a-view-versus-a-copy\n",
      "  df_new['lag_3'] = df_new[houshold_id].shift(3).fillna(method=\"backfill\")\n",
      "/var/folders/s9/8xxpssjj6k1g7crmj4658z5h0000gn/T/ipykernel_47001/3561779689.py:8: SettingWithCopyWarning: \n",
      "A value is trying to be set on a copy of a slice from a DataFrame.\n",
      "Try using .loc[row_indexer,col_indexer] = value instead\n",
      "\n",
      "See the caveats in the documentation: https://pandas.pydata.org/pandas-docs/stable/user_guide/indexing.html#returning-a-view-versus-a-copy\n",
      "  df_new['lag_4'] = df_new[houshold_id].shift(4).fillna(method=\"backfill\")\n",
      "/var/folders/s9/8xxpssjj6k1g7crmj4658z5h0000gn/T/ipykernel_47001/3561779689.py:9: SettingWithCopyWarning: \n",
      "A value is trying to be set on a copy of a slice from a DataFrame.\n",
      "Try using .loc[row_indexer,col_indexer] = value instead\n",
      "\n",
      "See the caveats in the documentation: https://pandas.pydata.org/pandas-docs/stable/user_guide/indexing.html#returning-a-view-versus-a-copy\n",
      "  df_new['lag_5'] = df_new[houshold_id].shift(5).fillna(method=\"backfill\")\n",
      "/var/folders/s9/8xxpssjj6k1g7crmj4658z5h0000gn/T/ipykernel_47001/3561779689.py:10: SettingWithCopyWarning: \n",
      "A value is trying to be set on a copy of a slice from a DataFrame.\n",
      "Try using .loc[row_indexer,col_indexer] = value instead\n",
      "\n",
      "See the caveats in the documentation: https://pandas.pydata.org/pandas-docs/stable/user_guide/indexing.html#returning-a-view-versus-a-copy\n",
      "  df_new['lag_6'] = df_new[houshold_id].shift(6).fillna(method=\"backfill\")\n",
      "/var/folders/s9/8xxpssjj6k1g7crmj4658z5h0000gn/T/ipykernel_47001/3561779689.py:11: SettingWithCopyWarning: \n",
      "A value is trying to be set on a copy of a slice from a DataFrame.\n",
      "Try using .loc[row_indexer,col_indexer] = value instead\n",
      "\n",
      "See the caveats in the documentation: https://pandas.pydata.org/pandas-docs/stable/user_guide/indexing.html#returning-a-view-versus-a-copy\n",
      "  df_new['lag_7'] = df_new[houshold_id].shift(7).fillna(method=\"backfill\")\n"
     ]
    },
    {
     "name": "stdout",
     "output_type": "stream",
     "text": [
      "[Timestamp('2017-05-09 00:00:00'), Timestamp('2017-05-10 00:00:00'), Timestamp('2017-05-11 00:00:00'), Timestamp('2017-05-12 00:00:00'), Timestamp('2017-05-13 00:00:00'), Timestamp('2017-05-14 00:00:00'), Timestamp('2017-05-15 00:00:00')]\n",
      "target:  2017-01-01    1673.8655\n",
      "2017-01-02    1463.3230\n",
      "2017-01-03    1132.2910\n",
      "2017-01-04    1183.8085\n",
      "2017-01-05    1125.2870\n",
      "                ...    \n",
      "2017-05-04    1570.3975\n",
      "2017-05-05    1373.8285\n",
      "2017-05-06    1147.0650\n",
      "2017-05-07    1136.1875\n",
      "2017-05-08    1023.5425\n",
      "Freq: D, Name: 1, Length: 128, dtype: float64\n",
      "trained on 2\n",
      "=============================================\n",
      "[1185.98518646 1430.77907108 1368.54972441 1303.00921251 1282.01853942\n",
      " 1278.70174762 1355.699309  ]\n",
      "2017-05-09    1185.985186\n",
      "2017-05-10    1430.779071\n",
      "2017-05-11    1368.549724\n",
      "2017-05-12    1303.009213\n",
      "2017-05-13    1282.018539\n",
      "2017-05-14    1278.701748\n",
      "2017-05-15    1355.699309\n",
      "Freq: D, Name: 1, dtype: float64\n",
      "=============================================\n",
      "week 3 splitting started\n"
     ]
    },
    {
     "name": "stderr",
     "output_type": "stream",
     "text": [
      "/var/folders/s9/8xxpssjj6k1g7crmj4658z5h0000gn/T/ipykernel_47001/3561779689.py:3: SettingWithCopyWarning: \n",
      "A value is trying to be set on a copy of a slice from a DataFrame.\n",
      "Try using .loc[row_indexer,col_indexer] = value instead\n",
      "\n",
      "See the caveats in the documentation: https://pandas.pydata.org/pandas-docs/stable/user_guide/indexing.html#returning-a-view-versus-a-copy\n",
      "  df_new['std'] = df_new[houshold_id].rolling(7).std().fillna(method=\"backfill\")\n",
      "/var/folders/s9/8xxpssjj6k1g7crmj4658z5h0000gn/T/ipykernel_47001/3561779689.py:4: SettingWithCopyWarning: \n",
      "A value is trying to be set on a copy of a slice from a DataFrame.\n",
      "Try using .loc[row_indexer,col_indexer] = value instead\n",
      "\n",
      "See the caveats in the documentation: https://pandas.pydata.org/pandas-docs/stable/user_guide/indexing.html#returning-a-view-versus-a-copy\n",
      "  df_new['mean'] = df_new[houshold_id].rolling(7).mean().fillna(method=\"backfill\")\n",
      "/var/folders/s9/8xxpssjj6k1g7crmj4658z5h0000gn/T/ipykernel_47001/3561779689.py:5: SettingWithCopyWarning: \n",
      "A value is trying to be set on a copy of a slice from a DataFrame.\n",
      "Try using .loc[row_indexer,col_indexer] = value instead\n",
      "\n",
      "See the caveats in the documentation: https://pandas.pydata.org/pandas-docs/stable/user_guide/indexing.html#returning-a-view-versus-a-copy\n",
      "  df_new['lag_1'] = df[houshold_id].shift(1).fillna(method=\"backfill\")\n",
      "/var/folders/s9/8xxpssjj6k1g7crmj4658z5h0000gn/T/ipykernel_47001/3561779689.py:6: SettingWithCopyWarning: \n",
      "A value is trying to be set on a copy of a slice from a DataFrame.\n",
      "Try using .loc[row_indexer,col_indexer] = value instead\n",
      "\n",
      "See the caveats in the documentation: https://pandas.pydata.org/pandas-docs/stable/user_guide/indexing.html#returning-a-view-versus-a-copy\n",
      "  df_new['lag_2'] = df[houshold_id].shift(2).fillna(method=\"backfill\")\n",
      "/var/folders/s9/8xxpssjj6k1g7crmj4658z5h0000gn/T/ipykernel_47001/3561779689.py:7: SettingWithCopyWarning: \n",
      "A value is trying to be set on a copy of a slice from a DataFrame.\n",
      "Try using .loc[row_indexer,col_indexer] = value instead\n",
      "\n",
      "See the caveats in the documentation: https://pandas.pydata.org/pandas-docs/stable/user_guide/indexing.html#returning-a-view-versus-a-copy\n",
      "  df_new['lag_3'] = df_new[houshold_id].shift(3).fillna(method=\"backfill\")\n",
      "/var/folders/s9/8xxpssjj6k1g7crmj4658z5h0000gn/T/ipykernel_47001/3561779689.py:8: SettingWithCopyWarning: \n",
      "A value is trying to be set on a copy of a slice from a DataFrame.\n",
      "Try using .loc[row_indexer,col_indexer] = value instead\n",
      "\n",
      "See the caveats in the documentation: https://pandas.pydata.org/pandas-docs/stable/user_guide/indexing.html#returning-a-view-versus-a-copy\n",
      "  df_new['lag_4'] = df_new[houshold_id].shift(4).fillna(method=\"backfill\")\n",
      "/var/folders/s9/8xxpssjj6k1g7crmj4658z5h0000gn/T/ipykernel_47001/3561779689.py:9: SettingWithCopyWarning: \n",
      "A value is trying to be set on a copy of a slice from a DataFrame.\n",
      "Try using .loc[row_indexer,col_indexer] = value instead\n",
      "\n",
      "See the caveats in the documentation: https://pandas.pydata.org/pandas-docs/stable/user_guide/indexing.html#returning-a-view-versus-a-copy\n",
      "  df_new['lag_5'] = df_new[houshold_id].shift(5).fillna(method=\"backfill\")\n",
      "/var/folders/s9/8xxpssjj6k1g7crmj4658z5h0000gn/T/ipykernel_47001/3561779689.py:10: SettingWithCopyWarning: \n",
      "A value is trying to be set on a copy of a slice from a DataFrame.\n",
      "Try using .loc[row_indexer,col_indexer] = value instead\n",
      "\n",
      "See the caveats in the documentation: https://pandas.pydata.org/pandas-docs/stable/user_guide/indexing.html#returning-a-view-versus-a-copy\n",
      "  df_new['lag_6'] = df_new[houshold_id].shift(6).fillna(method=\"backfill\")\n",
      "/var/folders/s9/8xxpssjj6k1g7crmj4658z5h0000gn/T/ipykernel_47001/3561779689.py:11: SettingWithCopyWarning: \n",
      "A value is trying to be set on a copy of a slice from a DataFrame.\n",
      "Try using .loc[row_indexer,col_indexer] = value instead\n",
      "\n",
      "See the caveats in the documentation: https://pandas.pydata.org/pandas-docs/stable/user_guide/indexing.html#returning-a-view-versus-a-copy\n",
      "  df_new['lag_7'] = df_new[houshold_id].shift(7).fillna(method=\"backfill\")\n",
      "/var/folders/s9/8xxpssjj6k1g7crmj4658z5h0000gn/T/ipykernel_47001/3561779689.py:3: SettingWithCopyWarning: \n",
      "A value is trying to be set on a copy of a slice from a DataFrame.\n",
      "Try using .loc[row_indexer,col_indexer] = value instead\n",
      "\n",
      "See the caveats in the documentation: https://pandas.pydata.org/pandas-docs/stable/user_guide/indexing.html#returning-a-view-versus-a-copy\n",
      "  df_new['std'] = df_new[houshold_id].rolling(7).std().fillna(method=\"backfill\")\n"
     ]
    },
    {
     "name": "stdout",
     "output_type": "stream",
     "text": [
      "[Timestamp('2017-06-23 00:00:00'), Timestamp('2017-06-24 00:00:00'), Timestamp('2017-06-25 00:00:00'), Timestamp('2017-06-26 00:00:00'), Timestamp('2017-06-27 00:00:00'), Timestamp('2017-06-28 00:00:00'), Timestamp('2017-06-29 00:00:00')]\n",
      "target:  2017-01-01    1673.8655\n",
      "2017-01-02    1463.3230\n",
      "2017-01-03    1132.2910\n",
      "2017-01-04    1183.8085\n",
      "2017-01-05    1125.2870\n",
      "                ...    \n",
      "2017-06-18    1030.8480\n",
      "2017-06-19    1239.2365\n",
      "2017-06-20    1582.8925\n",
      "2017-06-21    1880.3180\n",
      "2017-06-22    1649.5310\n",
      "Freq: D, Name: 1, Length: 173, dtype: float64\n",
      "trained on 3\n",
      "=============================================\n",
      "[1327.90750365 1290.793351   1387.83054566 1561.37801933 1663.53659728\n",
      " 1727.9305153  1688.0067937 ]\n",
      "2017-06-23    1327.907504\n",
      "2017-06-24    1290.793351\n",
      "2017-06-25    1387.830546\n",
      "2017-06-26    1561.378019\n",
      "2017-06-27    1663.536597\n",
      "2017-06-28    1727.930515\n",
      "2017-06-29    1688.006794\n",
      "Freq: D, Name: 1, dtype: float64\n",
      "=============================================\n",
      "week 4 splitting started\n"
     ]
    },
    {
     "name": "stderr",
     "output_type": "stream",
     "text": [
      "/var/folders/s9/8xxpssjj6k1g7crmj4658z5h0000gn/T/ipykernel_47001/3561779689.py:4: SettingWithCopyWarning: \n",
      "A value is trying to be set on a copy of a slice from a DataFrame.\n",
      "Try using .loc[row_indexer,col_indexer] = value instead\n",
      "\n",
      "See the caveats in the documentation: https://pandas.pydata.org/pandas-docs/stable/user_guide/indexing.html#returning-a-view-versus-a-copy\n",
      "  df_new['mean'] = df_new[houshold_id].rolling(7).mean().fillna(method=\"backfill\")\n",
      "/var/folders/s9/8xxpssjj6k1g7crmj4658z5h0000gn/T/ipykernel_47001/3561779689.py:5: SettingWithCopyWarning: \n",
      "A value is trying to be set on a copy of a slice from a DataFrame.\n",
      "Try using .loc[row_indexer,col_indexer] = value instead\n",
      "\n",
      "See the caveats in the documentation: https://pandas.pydata.org/pandas-docs/stable/user_guide/indexing.html#returning-a-view-versus-a-copy\n",
      "  df_new['lag_1'] = df[houshold_id].shift(1).fillna(method=\"backfill\")\n",
      "/var/folders/s9/8xxpssjj6k1g7crmj4658z5h0000gn/T/ipykernel_47001/3561779689.py:6: SettingWithCopyWarning: \n",
      "A value is trying to be set on a copy of a slice from a DataFrame.\n",
      "Try using .loc[row_indexer,col_indexer] = value instead\n",
      "\n",
      "See the caveats in the documentation: https://pandas.pydata.org/pandas-docs/stable/user_guide/indexing.html#returning-a-view-versus-a-copy\n",
      "  df_new['lag_2'] = df[houshold_id].shift(2).fillna(method=\"backfill\")\n",
      "/var/folders/s9/8xxpssjj6k1g7crmj4658z5h0000gn/T/ipykernel_47001/3561779689.py:7: SettingWithCopyWarning: \n",
      "A value is trying to be set on a copy of a slice from a DataFrame.\n",
      "Try using .loc[row_indexer,col_indexer] = value instead\n",
      "\n",
      "See the caveats in the documentation: https://pandas.pydata.org/pandas-docs/stable/user_guide/indexing.html#returning-a-view-versus-a-copy\n",
      "  df_new['lag_3'] = df_new[houshold_id].shift(3).fillna(method=\"backfill\")\n",
      "/var/folders/s9/8xxpssjj6k1g7crmj4658z5h0000gn/T/ipykernel_47001/3561779689.py:8: SettingWithCopyWarning: \n",
      "A value is trying to be set on a copy of a slice from a DataFrame.\n",
      "Try using .loc[row_indexer,col_indexer] = value instead\n",
      "\n",
      "See the caveats in the documentation: https://pandas.pydata.org/pandas-docs/stable/user_guide/indexing.html#returning-a-view-versus-a-copy\n",
      "  df_new['lag_4'] = df_new[houshold_id].shift(4).fillna(method=\"backfill\")\n",
      "/var/folders/s9/8xxpssjj6k1g7crmj4658z5h0000gn/T/ipykernel_47001/3561779689.py:9: SettingWithCopyWarning: \n",
      "A value is trying to be set on a copy of a slice from a DataFrame.\n",
      "Try using .loc[row_indexer,col_indexer] = value instead\n",
      "\n",
      "See the caveats in the documentation: https://pandas.pydata.org/pandas-docs/stable/user_guide/indexing.html#returning-a-view-versus-a-copy\n",
      "  df_new['lag_5'] = df_new[houshold_id].shift(5).fillna(method=\"backfill\")\n",
      "/var/folders/s9/8xxpssjj6k1g7crmj4658z5h0000gn/T/ipykernel_47001/3561779689.py:10: SettingWithCopyWarning: \n",
      "A value is trying to be set on a copy of a slice from a DataFrame.\n",
      "Try using .loc[row_indexer,col_indexer] = value instead\n",
      "\n",
      "See the caveats in the documentation: https://pandas.pydata.org/pandas-docs/stable/user_guide/indexing.html#returning-a-view-versus-a-copy\n",
      "  df_new['lag_6'] = df_new[houshold_id].shift(6).fillna(method=\"backfill\")\n",
      "/var/folders/s9/8xxpssjj6k1g7crmj4658z5h0000gn/T/ipykernel_47001/3561779689.py:11: SettingWithCopyWarning: \n",
      "A value is trying to be set on a copy of a slice from a DataFrame.\n",
      "Try using .loc[row_indexer,col_indexer] = value instead\n",
      "\n",
      "See the caveats in the documentation: https://pandas.pydata.org/pandas-docs/stable/user_guide/indexing.html#returning-a-view-versus-a-copy\n",
      "  df_new['lag_7'] = df_new[houshold_id].shift(7).fillna(method=\"backfill\")\n",
      "/var/folders/s9/8xxpssjj6k1g7crmj4658z5h0000gn/T/ipykernel_47001/3561779689.py:3: SettingWithCopyWarning: \n",
      "A value is trying to be set on a copy of a slice from a DataFrame.\n",
      "Try using .loc[row_indexer,col_indexer] = value instead\n",
      "\n",
      "See the caveats in the documentation: https://pandas.pydata.org/pandas-docs/stable/user_guide/indexing.html#returning-a-view-versus-a-copy\n",
      "  df_new['std'] = df_new[houshold_id].rolling(7).std().fillna(method=\"backfill\")\n",
      "/var/folders/s9/8xxpssjj6k1g7crmj4658z5h0000gn/T/ipykernel_47001/3561779689.py:4: SettingWithCopyWarning: \n",
      "A value is trying to be set on a copy of a slice from a DataFrame.\n",
      "Try using .loc[row_indexer,col_indexer] = value instead\n",
      "\n",
      "See the caveats in the documentation: https://pandas.pydata.org/pandas-docs/stable/user_guide/indexing.html#returning-a-view-versus-a-copy\n",
      "  df_new['mean'] = df_new[houshold_id].rolling(7).mean().fillna(method=\"backfill\")\n",
      "/var/folders/s9/8xxpssjj6k1g7crmj4658z5h0000gn/T/ipykernel_47001/3561779689.py:5: SettingWithCopyWarning: \n",
      "A value is trying to be set on a copy of a slice from a DataFrame.\n",
      "Try using .loc[row_indexer,col_indexer] = value instead\n",
      "\n",
      "See the caveats in the documentation: https://pandas.pydata.org/pandas-docs/stable/user_guide/indexing.html#returning-a-view-versus-a-copy\n",
      "  df_new['lag_1'] = df[houshold_id].shift(1).fillna(method=\"backfill\")\n",
      "/var/folders/s9/8xxpssjj6k1g7crmj4658z5h0000gn/T/ipykernel_47001/3561779689.py:6: SettingWithCopyWarning: \n",
      "A value is trying to be set on a copy of a slice from a DataFrame.\n",
      "Try using .loc[row_indexer,col_indexer] = value instead\n",
      "\n",
      "See the caveats in the documentation: https://pandas.pydata.org/pandas-docs/stable/user_guide/indexing.html#returning-a-view-versus-a-copy\n",
      "  df_new['lag_2'] = df[houshold_id].shift(2).fillna(method=\"backfill\")\n",
      "/var/folders/s9/8xxpssjj6k1g7crmj4658z5h0000gn/T/ipykernel_47001/3561779689.py:7: SettingWithCopyWarning: \n",
      "A value is trying to be set on a copy of a slice from a DataFrame.\n",
      "Try using .loc[row_indexer,col_indexer] = value instead\n",
      "\n",
      "See the caveats in the documentation: https://pandas.pydata.org/pandas-docs/stable/user_guide/indexing.html#returning-a-view-versus-a-copy\n",
      "  df_new['lag_3'] = df_new[houshold_id].shift(3).fillna(method=\"backfill\")\n",
      "/var/folders/s9/8xxpssjj6k1g7crmj4658z5h0000gn/T/ipykernel_47001/3561779689.py:8: SettingWithCopyWarning: \n",
      "A value is trying to be set on a copy of a slice from a DataFrame.\n",
      "Try using .loc[row_indexer,col_indexer] = value instead\n",
      "\n",
      "See the caveats in the documentation: https://pandas.pydata.org/pandas-docs/stable/user_guide/indexing.html#returning-a-view-versus-a-copy\n",
      "  df_new['lag_4'] = df_new[houshold_id].shift(4).fillna(method=\"backfill\")\n",
      "/var/folders/s9/8xxpssjj6k1g7crmj4658z5h0000gn/T/ipykernel_47001/3561779689.py:9: SettingWithCopyWarning: \n",
      "A value is trying to be set on a copy of a slice from a DataFrame.\n",
      "Try using .loc[row_indexer,col_indexer] = value instead\n",
      "\n",
      "See the caveats in the documentation: https://pandas.pydata.org/pandas-docs/stable/user_guide/indexing.html#returning-a-view-versus-a-copy\n",
      "  df_new['lag_5'] = df_new[houshold_id].shift(5).fillna(method=\"backfill\")\n"
     ]
    },
    {
     "name": "stdout",
     "output_type": "stream",
     "text": [
      "[Timestamp('2017-08-07 00:00:00'), Timestamp('2017-08-08 00:00:00'), Timestamp('2017-08-09 00:00:00'), Timestamp('2017-08-10 00:00:00'), Timestamp('2017-08-11 00:00:00'), Timestamp('2017-08-12 00:00:00'), Timestamp('2017-08-13 00:00:00')]\n",
      "target:  2017-01-01    1673.8655\n",
      "2017-01-02    1463.3230\n",
      "2017-01-03    1132.2910\n",
      "2017-01-04    1183.8085\n",
      "2017-01-05    1125.2870\n",
      "                ...    \n",
      "2017-08-02    1917.0405\n",
      "2017-08-03    1586.8450\n",
      "2017-08-04    1376.2370\n",
      "2017-08-05    1542.1670\n",
      "2017-08-06    1648.7845\n",
      "Freq: D, Name: 1, Length: 218, dtype: float64\n",
      "trained on 4\n",
      "=============================================\n",
      "[1827.8152537  1950.21887927 1801.51539661 1685.78764076 1726.93886378\n",
      " 1870.44840578 2027.63536054]\n",
      "2017-08-07    1827.815254\n",
      "2017-08-08    1950.218879\n",
      "2017-08-09    1801.515397\n",
      "2017-08-10    1685.787641\n",
      "2017-08-11    1726.938864\n",
      "2017-08-12    1870.448406\n",
      "2017-08-13    2027.635361\n",
      "Freq: D, Name: 1, dtype: float64\n",
      "=============================================\n",
      "week 5 splitting started\n"
     ]
    },
    {
     "name": "stderr",
     "output_type": "stream",
     "text": [
      "/var/folders/s9/8xxpssjj6k1g7crmj4658z5h0000gn/T/ipykernel_47001/3561779689.py:10: SettingWithCopyWarning: \n",
      "A value is trying to be set on a copy of a slice from a DataFrame.\n",
      "Try using .loc[row_indexer,col_indexer] = value instead\n",
      "\n",
      "See the caveats in the documentation: https://pandas.pydata.org/pandas-docs/stable/user_guide/indexing.html#returning-a-view-versus-a-copy\n",
      "  df_new['lag_6'] = df_new[houshold_id].shift(6).fillna(method=\"backfill\")\n",
      "/var/folders/s9/8xxpssjj6k1g7crmj4658z5h0000gn/T/ipykernel_47001/3561779689.py:11: SettingWithCopyWarning: \n",
      "A value is trying to be set on a copy of a slice from a DataFrame.\n",
      "Try using .loc[row_indexer,col_indexer] = value instead\n",
      "\n",
      "See the caveats in the documentation: https://pandas.pydata.org/pandas-docs/stable/user_guide/indexing.html#returning-a-view-versus-a-copy\n",
      "  df_new['lag_7'] = df_new[houshold_id].shift(7).fillna(method=\"backfill\")\n",
      "/var/folders/s9/8xxpssjj6k1g7crmj4658z5h0000gn/T/ipykernel_47001/3561779689.py:3: SettingWithCopyWarning: \n",
      "A value is trying to be set on a copy of a slice from a DataFrame.\n",
      "Try using .loc[row_indexer,col_indexer] = value instead\n",
      "\n",
      "See the caveats in the documentation: https://pandas.pydata.org/pandas-docs/stable/user_guide/indexing.html#returning-a-view-versus-a-copy\n",
      "  df_new['std'] = df_new[houshold_id].rolling(7).std().fillna(method=\"backfill\")\n",
      "/var/folders/s9/8xxpssjj6k1g7crmj4658z5h0000gn/T/ipykernel_47001/3561779689.py:4: SettingWithCopyWarning: \n",
      "A value is trying to be set on a copy of a slice from a DataFrame.\n",
      "Try using .loc[row_indexer,col_indexer] = value instead\n",
      "\n",
      "See the caveats in the documentation: https://pandas.pydata.org/pandas-docs/stable/user_guide/indexing.html#returning-a-view-versus-a-copy\n",
      "  df_new['mean'] = df_new[houshold_id].rolling(7).mean().fillna(method=\"backfill\")\n",
      "/var/folders/s9/8xxpssjj6k1g7crmj4658z5h0000gn/T/ipykernel_47001/3561779689.py:5: SettingWithCopyWarning: \n",
      "A value is trying to be set on a copy of a slice from a DataFrame.\n",
      "Try using .loc[row_indexer,col_indexer] = value instead\n",
      "\n",
      "See the caveats in the documentation: https://pandas.pydata.org/pandas-docs/stable/user_guide/indexing.html#returning-a-view-versus-a-copy\n",
      "  df_new['lag_1'] = df[houshold_id].shift(1).fillna(method=\"backfill\")\n",
      "/var/folders/s9/8xxpssjj6k1g7crmj4658z5h0000gn/T/ipykernel_47001/3561779689.py:6: SettingWithCopyWarning: \n",
      "A value is trying to be set on a copy of a slice from a DataFrame.\n",
      "Try using .loc[row_indexer,col_indexer] = value instead\n",
      "\n",
      "See the caveats in the documentation: https://pandas.pydata.org/pandas-docs/stable/user_guide/indexing.html#returning-a-view-versus-a-copy\n",
      "  df_new['lag_2'] = df[houshold_id].shift(2).fillna(method=\"backfill\")\n"
     ]
    },
    {
     "name": "stdout",
     "output_type": "stream",
     "text": [
      "[Timestamp('2017-09-21 00:00:00'), Timestamp('2017-09-22 00:00:00'), Timestamp('2017-09-23 00:00:00'), Timestamp('2017-09-24 00:00:00'), Timestamp('2017-09-25 00:00:00'), Timestamp('2017-09-26 00:00:00'), Timestamp('2017-09-27 00:00:00')]\n",
      "target:  2017-01-01    1673.8655\n",
      "2017-01-02    1463.3230\n",
      "2017-01-03    1132.2910\n",
      "2017-01-04    1183.8085\n",
      "2017-01-05    1125.2870\n",
      "                ...    \n",
      "2017-09-16    2069.3295\n",
      "2017-09-17    2160.7510\n",
      "2017-09-18    2075.6895\n",
      "2017-09-19    2333.4390\n",
      "2017-09-20    2285.4615\n",
      "Freq: D, Name: 1, Length: 263, dtype: float64\n",
      "trained on 5\n",
      "=============================================\n",
      "[2137.27683949 2197.65675838 2176.73183895 2219.06026236 2201.92528863\n",
      " 2267.22486074 2283.27234701]\n",
      "2017-09-21    2137.276839\n",
      "2017-09-22    2197.656758\n",
      "2017-09-23    2176.731839\n",
      "2017-09-24    2219.060262\n",
      "2017-09-25    2201.925289\n",
      "2017-09-26    2267.224861\n",
      "2017-09-27    2283.272347\n",
      "Freq: D, Name: 1, dtype: float64\n",
      "=============================================\n",
      "week 6 splitting started\n"
     ]
    },
    {
     "name": "stderr",
     "output_type": "stream",
     "text": [
      "/var/folders/s9/8xxpssjj6k1g7crmj4658z5h0000gn/T/ipykernel_47001/3561779689.py:7: SettingWithCopyWarning: \n",
      "A value is trying to be set on a copy of a slice from a DataFrame.\n",
      "Try using .loc[row_indexer,col_indexer] = value instead\n",
      "\n",
      "See the caveats in the documentation: https://pandas.pydata.org/pandas-docs/stable/user_guide/indexing.html#returning-a-view-versus-a-copy\n",
      "  df_new['lag_3'] = df_new[houshold_id].shift(3).fillna(method=\"backfill\")\n",
      "/var/folders/s9/8xxpssjj6k1g7crmj4658z5h0000gn/T/ipykernel_47001/3561779689.py:8: SettingWithCopyWarning: \n",
      "A value is trying to be set on a copy of a slice from a DataFrame.\n",
      "Try using .loc[row_indexer,col_indexer] = value instead\n",
      "\n",
      "See the caveats in the documentation: https://pandas.pydata.org/pandas-docs/stable/user_guide/indexing.html#returning-a-view-versus-a-copy\n",
      "  df_new['lag_4'] = df_new[houshold_id].shift(4).fillna(method=\"backfill\")\n",
      "/var/folders/s9/8xxpssjj6k1g7crmj4658z5h0000gn/T/ipykernel_47001/3561779689.py:9: SettingWithCopyWarning: \n",
      "A value is trying to be set on a copy of a slice from a DataFrame.\n",
      "Try using .loc[row_indexer,col_indexer] = value instead\n",
      "\n",
      "See the caveats in the documentation: https://pandas.pydata.org/pandas-docs/stable/user_guide/indexing.html#returning-a-view-versus-a-copy\n",
      "  df_new['lag_5'] = df_new[houshold_id].shift(5).fillna(method=\"backfill\")\n",
      "/var/folders/s9/8xxpssjj6k1g7crmj4658z5h0000gn/T/ipykernel_47001/3561779689.py:10: SettingWithCopyWarning: \n",
      "A value is trying to be set on a copy of a slice from a DataFrame.\n",
      "Try using .loc[row_indexer,col_indexer] = value instead\n",
      "\n",
      "See the caveats in the documentation: https://pandas.pydata.org/pandas-docs/stable/user_guide/indexing.html#returning-a-view-versus-a-copy\n",
      "  df_new['lag_6'] = df_new[houshold_id].shift(6).fillna(method=\"backfill\")\n",
      "/var/folders/s9/8xxpssjj6k1g7crmj4658z5h0000gn/T/ipykernel_47001/3561779689.py:11: SettingWithCopyWarning: \n",
      "A value is trying to be set on a copy of a slice from a DataFrame.\n",
      "Try using .loc[row_indexer,col_indexer] = value instead\n",
      "\n",
      "See the caveats in the documentation: https://pandas.pydata.org/pandas-docs/stable/user_guide/indexing.html#returning-a-view-versus-a-copy\n",
      "  df_new['lag_7'] = df_new[houshold_id].shift(7).fillna(method=\"backfill\")\n",
      "/var/folders/s9/8xxpssjj6k1g7crmj4658z5h0000gn/T/ipykernel_47001/3561779689.py:3: SettingWithCopyWarning: \n",
      "A value is trying to be set on a copy of a slice from a DataFrame.\n",
      "Try using .loc[row_indexer,col_indexer] = value instead\n",
      "\n",
      "See the caveats in the documentation: https://pandas.pydata.org/pandas-docs/stable/user_guide/indexing.html#returning-a-view-versus-a-copy\n",
      "  df_new['std'] = df_new[houshold_id].rolling(7).std().fillna(method=\"backfill\")\n",
      "/var/folders/s9/8xxpssjj6k1g7crmj4658z5h0000gn/T/ipykernel_47001/3561779689.py:4: SettingWithCopyWarning: \n",
      "A value is trying to be set on a copy of a slice from a DataFrame.\n",
      "Try using .loc[row_indexer,col_indexer] = value instead\n",
      "\n",
      "See the caveats in the documentation: https://pandas.pydata.org/pandas-docs/stable/user_guide/indexing.html#returning-a-view-versus-a-copy\n",
      "  df_new['mean'] = df_new[houshold_id].rolling(7).mean().fillna(method=\"backfill\")\n"
     ]
    },
    {
     "name": "stdout",
     "output_type": "stream",
     "text": [
      "[Timestamp('2017-11-05 00:00:00'), Timestamp('2017-11-06 00:00:00'), Timestamp('2017-11-07 00:00:00'), Timestamp('2017-11-08 00:00:00'), Timestamp('2017-11-09 00:00:00'), Timestamp('2017-11-10 00:00:00'), Timestamp('2017-11-11 00:00:00')]\n",
      "target:  2017-01-01    1673.8655\n",
      "2017-01-02    1463.3230\n",
      "2017-01-03    1132.2910\n",
      "2017-01-04    1183.8085\n",
      "2017-01-05    1125.2870\n",
      "                ...    \n",
      "2017-10-31    2237.9905\n",
      "2017-11-01    2158.4775\n",
      "2017-11-02    2831.4520\n",
      "2017-11-03    2994.9735\n",
      "2017-11-04    2711.6290\n",
      "Freq: D, Name: 1, Length: 308, dtype: float64\n",
      "trained on 6\n",
      "=============================================\n",
      "[2615.54925809 2564.44896373 2552.33701335 2627.14000634 2791.5412642\n",
      " 2840.52004213 2776.19363547]\n",
      "2017-11-05    2615.549258\n",
      "2017-11-06    2564.448964\n",
      "2017-11-07    2552.337013\n",
      "2017-11-08    2627.140006\n",
      "2017-11-09    2791.541264\n",
      "2017-11-10    2840.520042\n",
      "2017-11-11    2776.193635\n",
      "Freq: D, Name: 1, dtype: float64\n",
      "=============================================\n",
      "week 7 splitting started\n"
     ]
    },
    {
     "name": "stderr",
     "output_type": "stream",
     "text": [
      "/var/folders/s9/8xxpssjj6k1g7crmj4658z5h0000gn/T/ipykernel_47001/3561779689.py:5: SettingWithCopyWarning: \n",
      "A value is trying to be set on a copy of a slice from a DataFrame.\n",
      "Try using .loc[row_indexer,col_indexer] = value instead\n",
      "\n",
      "See the caveats in the documentation: https://pandas.pydata.org/pandas-docs/stable/user_guide/indexing.html#returning-a-view-versus-a-copy\n",
      "  df_new['lag_1'] = df[houshold_id].shift(1).fillna(method=\"backfill\")\n",
      "/var/folders/s9/8xxpssjj6k1g7crmj4658z5h0000gn/T/ipykernel_47001/3561779689.py:6: SettingWithCopyWarning: \n",
      "A value is trying to be set on a copy of a slice from a DataFrame.\n",
      "Try using .loc[row_indexer,col_indexer] = value instead\n",
      "\n",
      "See the caveats in the documentation: https://pandas.pydata.org/pandas-docs/stable/user_guide/indexing.html#returning-a-view-versus-a-copy\n",
      "  df_new['lag_2'] = df[houshold_id].shift(2).fillna(method=\"backfill\")\n",
      "/var/folders/s9/8xxpssjj6k1g7crmj4658z5h0000gn/T/ipykernel_47001/3561779689.py:7: SettingWithCopyWarning: \n",
      "A value is trying to be set on a copy of a slice from a DataFrame.\n",
      "Try using .loc[row_indexer,col_indexer] = value instead\n",
      "\n",
      "See the caveats in the documentation: https://pandas.pydata.org/pandas-docs/stable/user_guide/indexing.html#returning-a-view-versus-a-copy\n",
      "  df_new['lag_3'] = df_new[houshold_id].shift(3).fillna(method=\"backfill\")\n",
      "/var/folders/s9/8xxpssjj6k1g7crmj4658z5h0000gn/T/ipykernel_47001/3561779689.py:8: SettingWithCopyWarning: \n",
      "A value is trying to be set on a copy of a slice from a DataFrame.\n",
      "Try using .loc[row_indexer,col_indexer] = value instead\n",
      "\n",
      "See the caveats in the documentation: https://pandas.pydata.org/pandas-docs/stable/user_guide/indexing.html#returning-a-view-versus-a-copy\n",
      "  df_new['lag_4'] = df_new[houshold_id].shift(4).fillna(method=\"backfill\")\n",
      "/var/folders/s9/8xxpssjj6k1g7crmj4658z5h0000gn/T/ipykernel_47001/3561779689.py:9: SettingWithCopyWarning: \n",
      "A value is trying to be set on a copy of a slice from a DataFrame.\n",
      "Try using .loc[row_indexer,col_indexer] = value instead\n",
      "\n",
      "See the caveats in the documentation: https://pandas.pydata.org/pandas-docs/stable/user_guide/indexing.html#returning-a-view-versus-a-copy\n",
      "  df_new['lag_5'] = df_new[houshold_id].shift(5).fillna(method=\"backfill\")\n",
      "/var/folders/s9/8xxpssjj6k1g7crmj4658z5h0000gn/T/ipykernel_47001/3561779689.py:10: SettingWithCopyWarning: \n",
      "A value is trying to be set on a copy of a slice from a DataFrame.\n",
      "Try using .loc[row_indexer,col_indexer] = value instead\n",
      "\n",
      "See the caveats in the documentation: https://pandas.pydata.org/pandas-docs/stable/user_guide/indexing.html#returning-a-view-versus-a-copy\n",
      "  df_new['lag_6'] = df_new[houshold_id].shift(6).fillna(method=\"backfill\")\n",
      "/var/folders/s9/8xxpssjj6k1g7crmj4658z5h0000gn/T/ipykernel_47001/3561779689.py:11: SettingWithCopyWarning: \n",
      "A value is trying to be set on a copy of a slice from a DataFrame.\n",
      "Try using .loc[row_indexer,col_indexer] = value instead\n",
      "\n",
      "See the caveats in the documentation: https://pandas.pydata.org/pandas-docs/stable/user_guide/indexing.html#returning-a-view-versus-a-copy\n",
      "  df_new['lag_7'] = df_new[houshold_id].shift(7).fillna(method=\"backfill\")\n",
      "/var/folders/s9/8xxpssjj6k1g7crmj4658z5h0000gn/T/ipykernel_47001/3561779689.py:3: SettingWithCopyWarning: \n",
      "A value is trying to be set on a copy of a slice from a DataFrame.\n",
      "Try using .loc[row_indexer,col_indexer] = value instead\n",
      "\n",
      "See the caveats in the documentation: https://pandas.pydata.org/pandas-docs/stable/user_guide/indexing.html#returning-a-view-versus-a-copy\n",
      "  df_new['std'] = df_new[houshold_id].rolling(7).std().fillna(method=\"backfill\")\n"
     ]
    },
    {
     "name": "stdout",
     "output_type": "stream",
     "text": [
      "[Timestamp('2017-12-20 00:00:00'), Timestamp('2017-12-21 00:00:00'), Timestamp('2017-12-22 00:00:00'), Timestamp('2017-12-23 00:00:00'), Timestamp('2017-12-24 00:00:00'), Timestamp('2017-12-25 00:00:00'), Timestamp('2017-12-26 00:00:00')]\n",
      "target:  2017-01-01    1673.8655\n",
      "2017-01-02    1463.3230\n",
      "2017-01-03    1132.2910\n",
      "2017-01-04    1183.8085\n",
      "2017-01-05    1125.2870\n",
      "                ...    \n",
      "2017-12-15    2441.7520\n",
      "2017-12-16    2090.1230\n",
      "2017-12-17    2218.9690\n",
      "2017-12-18    2067.4530\n",
      "2017-12-19    2450.2975\n",
      "Freq: D, Name: 1, Length: 353, dtype: float64\n",
      "trained on 7\n",
      "=============================================\n",
      "[2856.55293729 2875.2579312  2664.25245044 2594.00142025 2680.28873061\n",
      " 2753.59344418 2949.19866398]\n",
      "2017-12-20    2856.552937\n",
      "2017-12-21    2875.257931\n",
      "2017-12-22    2664.252450\n",
      "2017-12-23    2594.001420\n",
      "2017-12-24    2680.288731\n",
      "2017-12-25    2753.593444\n",
      "2017-12-26    2949.198664\n",
      "Freq: D, Name: 1, dtype: float64\n",
      "=============================================\n",
      "week 8 splitting started\n"
     ]
    },
    {
     "name": "stderr",
     "output_type": "stream",
     "text": [
      "/var/folders/s9/8xxpssjj6k1g7crmj4658z5h0000gn/T/ipykernel_47001/3561779689.py:4: SettingWithCopyWarning: \n",
      "A value is trying to be set on a copy of a slice from a DataFrame.\n",
      "Try using .loc[row_indexer,col_indexer] = value instead\n",
      "\n",
      "See the caveats in the documentation: https://pandas.pydata.org/pandas-docs/stable/user_guide/indexing.html#returning-a-view-versus-a-copy\n",
      "  df_new['mean'] = df_new[houshold_id].rolling(7).mean().fillna(method=\"backfill\")\n",
      "/var/folders/s9/8xxpssjj6k1g7crmj4658z5h0000gn/T/ipykernel_47001/3561779689.py:5: SettingWithCopyWarning: \n",
      "A value is trying to be set on a copy of a slice from a DataFrame.\n",
      "Try using .loc[row_indexer,col_indexer] = value instead\n",
      "\n",
      "See the caveats in the documentation: https://pandas.pydata.org/pandas-docs/stable/user_guide/indexing.html#returning-a-view-versus-a-copy\n",
      "  df_new['lag_1'] = df[houshold_id].shift(1).fillna(method=\"backfill\")\n",
      "/var/folders/s9/8xxpssjj6k1g7crmj4658z5h0000gn/T/ipykernel_47001/3561779689.py:6: SettingWithCopyWarning: \n",
      "A value is trying to be set on a copy of a slice from a DataFrame.\n",
      "Try using .loc[row_indexer,col_indexer] = value instead\n",
      "\n",
      "See the caveats in the documentation: https://pandas.pydata.org/pandas-docs/stable/user_guide/indexing.html#returning-a-view-versus-a-copy\n",
      "  df_new['lag_2'] = df[houshold_id].shift(2).fillna(method=\"backfill\")\n",
      "/var/folders/s9/8xxpssjj6k1g7crmj4658z5h0000gn/T/ipykernel_47001/3561779689.py:7: SettingWithCopyWarning: \n",
      "A value is trying to be set on a copy of a slice from a DataFrame.\n",
      "Try using .loc[row_indexer,col_indexer] = value instead\n",
      "\n",
      "See the caveats in the documentation: https://pandas.pydata.org/pandas-docs/stable/user_guide/indexing.html#returning-a-view-versus-a-copy\n",
      "  df_new['lag_3'] = df_new[houshold_id].shift(3).fillna(method=\"backfill\")\n",
      "/var/folders/s9/8xxpssjj6k1g7crmj4658z5h0000gn/T/ipykernel_47001/3561779689.py:8: SettingWithCopyWarning: \n",
      "A value is trying to be set on a copy of a slice from a DataFrame.\n",
      "Try using .loc[row_indexer,col_indexer] = value instead\n",
      "\n",
      "See the caveats in the documentation: https://pandas.pydata.org/pandas-docs/stable/user_guide/indexing.html#returning-a-view-versus-a-copy\n",
      "  df_new['lag_4'] = df_new[houshold_id].shift(4).fillna(method=\"backfill\")\n",
      "/var/folders/s9/8xxpssjj6k1g7crmj4658z5h0000gn/T/ipykernel_47001/3561779689.py:9: SettingWithCopyWarning: \n",
      "A value is trying to be set on a copy of a slice from a DataFrame.\n",
      "Try using .loc[row_indexer,col_indexer] = value instead\n",
      "\n",
      "See the caveats in the documentation: https://pandas.pydata.org/pandas-docs/stable/user_guide/indexing.html#returning-a-view-versus-a-copy\n",
      "  df_new['lag_5'] = df_new[houshold_id].shift(5).fillna(method=\"backfill\")\n",
      "/var/folders/s9/8xxpssjj6k1g7crmj4658z5h0000gn/T/ipykernel_47001/3561779689.py:10: SettingWithCopyWarning: \n",
      "A value is trying to be set on a copy of a slice from a DataFrame.\n",
      "Try using .loc[row_indexer,col_indexer] = value instead\n",
      "\n",
      "See the caveats in the documentation: https://pandas.pydata.org/pandas-docs/stable/user_guide/indexing.html#returning-a-view-versus-a-copy\n",
      "  df_new['lag_6'] = df_new[houshold_id].shift(6).fillna(method=\"backfill\")\n",
      "/var/folders/s9/8xxpssjj6k1g7crmj4658z5h0000gn/T/ipykernel_47001/3561779689.py:11: SettingWithCopyWarning: \n",
      "A value is trying to be set on a copy of a slice from a DataFrame.\n",
      "Try using .loc[row_indexer,col_indexer] = value instead\n",
      "\n",
      "See the caveats in the documentation: https://pandas.pydata.org/pandas-docs/stable/user_guide/indexing.html#returning-a-view-versus-a-copy\n",
      "  df_new['lag_7'] = df_new[houshold_id].shift(7).fillna(method=\"backfill\")\n",
      "/var/folders/s9/8xxpssjj6k1g7crmj4658z5h0000gn/T/ipykernel_47001/3561779689.py:3: SettingWithCopyWarning: \n",
      "A value is trying to be set on a copy of a slice from a DataFrame.\n",
      "Try using .loc[row_indexer,col_indexer] = value instead\n",
      "\n",
      "See the caveats in the documentation: https://pandas.pydata.org/pandas-docs/stable/user_guide/indexing.html#returning-a-view-versus-a-copy\n",
      "  df_new['std'] = df_new[houshold_id].rolling(7).std().fillna(method=\"backfill\")\n",
      "/var/folders/s9/8xxpssjj6k1g7crmj4658z5h0000gn/T/ipykernel_47001/3561779689.py:4: SettingWithCopyWarning: \n",
      "A value is trying to be set on a copy of a slice from a DataFrame.\n",
      "Try using .loc[row_indexer,col_indexer] = value instead\n",
      "\n",
      "See the caveats in the documentation: https://pandas.pydata.org/pandas-docs/stable/user_guide/indexing.html#returning-a-view-versus-a-copy\n",
      "  df_new['mean'] = df_new[houshold_id].rolling(7).mean().fillna(method=\"backfill\")\n",
      "/var/folders/s9/8xxpssjj6k1g7crmj4658z5h0000gn/T/ipykernel_47001/3561779689.py:5: SettingWithCopyWarning: \n",
      "A value is trying to be set on a copy of a slice from a DataFrame.\n",
      "Try using .loc[row_indexer,col_indexer] = value instead\n",
      "\n",
      "See the caveats in the documentation: https://pandas.pydata.org/pandas-docs/stable/user_guide/indexing.html#returning-a-view-versus-a-copy\n",
      "  df_new['lag_1'] = df[houshold_id].shift(1).fillna(method=\"backfill\")\n",
      "/var/folders/s9/8xxpssjj6k1g7crmj4658z5h0000gn/T/ipykernel_47001/3561779689.py:6: SettingWithCopyWarning: \n",
      "A value is trying to be set on a copy of a slice from a DataFrame.\n",
      "Try using .loc[row_indexer,col_indexer] = value instead\n",
      "\n",
      "See the caveats in the documentation: https://pandas.pydata.org/pandas-docs/stable/user_guide/indexing.html#returning-a-view-versus-a-copy\n",
      "  df_new['lag_2'] = df[houshold_id].shift(2).fillna(method=\"backfill\")\n",
      "/var/folders/s9/8xxpssjj6k1g7crmj4658z5h0000gn/T/ipykernel_47001/3561779689.py:7: SettingWithCopyWarning: \n",
      "A value is trying to be set on a copy of a slice from a DataFrame.\n",
      "Try using .loc[row_indexer,col_indexer] = value instead\n",
      "\n",
      "See the caveats in the documentation: https://pandas.pydata.org/pandas-docs/stable/user_guide/indexing.html#returning-a-view-versus-a-copy\n",
      "  df_new['lag_3'] = df_new[houshold_id].shift(3).fillna(method=\"backfill\")\n",
      "/var/folders/s9/8xxpssjj6k1g7crmj4658z5h0000gn/T/ipykernel_47001/3561779689.py:8: SettingWithCopyWarning: \n",
      "A value is trying to be set on a copy of a slice from a DataFrame.\n",
      "Try using .loc[row_indexer,col_indexer] = value instead\n",
      "\n",
      "See the caveats in the documentation: https://pandas.pydata.org/pandas-docs/stable/user_guide/indexing.html#returning-a-view-versus-a-copy\n",
      "  df_new['lag_4'] = df_new[houshold_id].shift(4).fillna(method=\"backfill\")\n"
     ]
    },
    {
     "name": "stdout",
     "output_type": "stream",
     "text": [
      "[Timestamp('2018-02-03 00:00:00'), Timestamp('2018-02-04 00:00:00'), Timestamp('2018-02-05 00:00:00'), Timestamp('2018-02-06 00:00:00'), Timestamp('2018-02-07 00:00:00'), Timestamp('2018-02-08 00:00:00'), Timestamp('2018-02-09 00:00:00')]\n",
      "target:  2017-01-01    1673.8655\n",
      "2017-01-02    1463.3230\n",
      "2017-01-03    1132.2910\n",
      "2017-01-04    1183.8085\n",
      "2017-01-05    1125.2870\n",
      "                ...    \n",
      "2018-01-29    2408.1035\n",
      "2018-01-30    2935.6510\n",
      "2018-01-31    3200.5150\n",
      "2018-02-01    2553.8435\n",
      "2018-02-02    2099.7405\n",
      "Freq: D, Name: 1, Length: 398, dtype: float64\n",
      "trained on 8\n",
      "=============================================\n",
      "[2056.50118362 2158.9165569  2310.07132114 2400.53383239 2415.47542128\n",
      " 2264.084906   2168.66902805]\n",
      "2018-02-03    2056.501184\n",
      "2018-02-04    2158.916557\n",
      "2018-02-05    2310.071321\n",
      "2018-02-06    2400.533832\n",
      "2018-02-07    2415.475421\n",
      "2018-02-08    2264.084906\n",
      "2018-02-09    2168.669028\n",
      "Freq: D, Name: 1, dtype: float64\n",
      "=============================================\n",
      "week 9 splitting started\n"
     ]
    },
    {
     "name": "stderr",
     "output_type": "stream",
     "text": [
      "/var/folders/s9/8xxpssjj6k1g7crmj4658z5h0000gn/T/ipykernel_47001/3561779689.py:9: SettingWithCopyWarning: \n",
      "A value is trying to be set on a copy of a slice from a DataFrame.\n",
      "Try using .loc[row_indexer,col_indexer] = value instead\n",
      "\n",
      "See the caveats in the documentation: https://pandas.pydata.org/pandas-docs/stable/user_guide/indexing.html#returning-a-view-versus-a-copy\n",
      "  df_new['lag_5'] = df_new[houshold_id].shift(5).fillna(method=\"backfill\")\n",
      "/var/folders/s9/8xxpssjj6k1g7crmj4658z5h0000gn/T/ipykernel_47001/3561779689.py:10: SettingWithCopyWarning: \n",
      "A value is trying to be set on a copy of a slice from a DataFrame.\n",
      "Try using .loc[row_indexer,col_indexer] = value instead\n",
      "\n",
      "See the caveats in the documentation: https://pandas.pydata.org/pandas-docs/stable/user_guide/indexing.html#returning-a-view-versus-a-copy\n",
      "  df_new['lag_6'] = df_new[houshold_id].shift(6).fillna(method=\"backfill\")\n",
      "/var/folders/s9/8xxpssjj6k1g7crmj4658z5h0000gn/T/ipykernel_47001/3561779689.py:11: SettingWithCopyWarning: \n",
      "A value is trying to be set on a copy of a slice from a DataFrame.\n",
      "Try using .loc[row_indexer,col_indexer] = value instead\n",
      "\n",
      "See the caveats in the documentation: https://pandas.pydata.org/pandas-docs/stable/user_guide/indexing.html#returning-a-view-versus-a-copy\n",
      "  df_new['lag_7'] = df_new[houshold_id].shift(7).fillna(method=\"backfill\")\n",
      "/var/folders/s9/8xxpssjj6k1g7crmj4658z5h0000gn/T/ipykernel_47001/3561779689.py:3: SettingWithCopyWarning: \n",
      "A value is trying to be set on a copy of a slice from a DataFrame.\n",
      "Try using .loc[row_indexer,col_indexer] = value instead\n",
      "\n",
      "See the caveats in the documentation: https://pandas.pydata.org/pandas-docs/stable/user_guide/indexing.html#returning-a-view-versus-a-copy\n",
      "  df_new['std'] = df_new[houshold_id].rolling(7).std().fillna(method=\"backfill\")\n",
      "/var/folders/s9/8xxpssjj6k1g7crmj4658z5h0000gn/T/ipykernel_47001/3561779689.py:4: SettingWithCopyWarning: \n",
      "A value is trying to be set on a copy of a slice from a DataFrame.\n",
      "Try using .loc[row_indexer,col_indexer] = value instead\n",
      "\n",
      "See the caveats in the documentation: https://pandas.pydata.org/pandas-docs/stable/user_guide/indexing.html#returning-a-view-versus-a-copy\n",
      "  df_new['mean'] = df_new[houshold_id].rolling(7).mean().fillna(method=\"backfill\")\n"
     ]
    },
    {
     "name": "stdout",
     "output_type": "stream",
     "text": [
      "[Timestamp('2018-03-20 00:00:00'), Timestamp('2018-03-21 00:00:00'), Timestamp('2018-03-22 00:00:00'), Timestamp('2018-03-23 00:00:00'), Timestamp('2018-03-24 00:00:00'), Timestamp('2018-03-25 00:00:00'), Timestamp('2018-03-26 00:00:00')]\n",
      "target:  2017-01-01    1673.8655\n",
      "2017-01-02    1463.3230\n",
      "2017-01-03    1132.2910\n",
      "2017-01-04    1183.8085\n",
      "2017-01-05    1125.2870\n",
      "                ...    \n",
      "2018-03-15    2115.3200\n",
      "2018-03-16    1874.0660\n",
      "2018-03-17    2007.8955\n",
      "2018-03-18    2566.6250\n",
      "2018-03-19    2883.4560\n",
      "Freq: D, Name: 1, Length: 443, dtype: float64\n",
      "trained on 9\n",
      "=============================================\n",
      "[2530.05855693 2108.40118602 2131.14810581 2166.05482494 2205.68956952\n",
      " 2331.2266517  2357.97166997]\n",
      "2018-03-20    2530.058557\n",
      "2018-03-21    2108.401186\n",
      "2018-03-22    2131.148106\n",
      "2018-03-23    2166.054825\n",
      "2018-03-24    2205.689570\n",
      "2018-03-25    2331.226652\n",
      "2018-03-26    2357.971670\n",
      "Freq: D, Name: 1, dtype: float64\n",
      "=============================================\n",
      "week 10 splitting started\n"
     ]
    },
    {
     "name": "stderr",
     "output_type": "stream",
     "text": [
      "/var/folders/s9/8xxpssjj6k1g7crmj4658z5h0000gn/T/ipykernel_47001/3561779689.py:5: SettingWithCopyWarning: \n",
      "A value is trying to be set on a copy of a slice from a DataFrame.\n",
      "Try using .loc[row_indexer,col_indexer] = value instead\n",
      "\n",
      "See the caveats in the documentation: https://pandas.pydata.org/pandas-docs/stable/user_guide/indexing.html#returning-a-view-versus-a-copy\n",
      "  df_new['lag_1'] = df[houshold_id].shift(1).fillna(method=\"backfill\")\n",
      "/var/folders/s9/8xxpssjj6k1g7crmj4658z5h0000gn/T/ipykernel_47001/3561779689.py:6: SettingWithCopyWarning: \n",
      "A value is trying to be set on a copy of a slice from a DataFrame.\n",
      "Try using .loc[row_indexer,col_indexer] = value instead\n",
      "\n",
      "See the caveats in the documentation: https://pandas.pydata.org/pandas-docs/stable/user_guide/indexing.html#returning-a-view-versus-a-copy\n",
      "  df_new['lag_2'] = df[houshold_id].shift(2).fillna(method=\"backfill\")\n",
      "/var/folders/s9/8xxpssjj6k1g7crmj4658z5h0000gn/T/ipykernel_47001/3561779689.py:7: SettingWithCopyWarning: \n",
      "A value is trying to be set on a copy of a slice from a DataFrame.\n",
      "Try using .loc[row_indexer,col_indexer] = value instead\n",
      "\n",
      "See the caveats in the documentation: https://pandas.pydata.org/pandas-docs/stable/user_guide/indexing.html#returning-a-view-versus-a-copy\n",
      "  df_new['lag_3'] = df_new[houshold_id].shift(3).fillna(method=\"backfill\")\n",
      "/var/folders/s9/8xxpssjj6k1g7crmj4658z5h0000gn/T/ipykernel_47001/3561779689.py:8: SettingWithCopyWarning: \n",
      "A value is trying to be set on a copy of a slice from a DataFrame.\n",
      "Try using .loc[row_indexer,col_indexer] = value instead\n",
      "\n",
      "See the caveats in the documentation: https://pandas.pydata.org/pandas-docs/stable/user_guide/indexing.html#returning-a-view-versus-a-copy\n",
      "  df_new['lag_4'] = df_new[houshold_id].shift(4).fillna(method=\"backfill\")\n",
      "/var/folders/s9/8xxpssjj6k1g7crmj4658z5h0000gn/T/ipykernel_47001/3561779689.py:9: SettingWithCopyWarning: \n",
      "A value is trying to be set on a copy of a slice from a DataFrame.\n",
      "Try using .loc[row_indexer,col_indexer] = value instead\n",
      "\n",
      "See the caveats in the documentation: https://pandas.pydata.org/pandas-docs/stable/user_guide/indexing.html#returning-a-view-versus-a-copy\n",
      "  df_new['lag_5'] = df_new[houshold_id].shift(5).fillna(method=\"backfill\")\n",
      "/var/folders/s9/8xxpssjj6k1g7crmj4658z5h0000gn/T/ipykernel_47001/3561779689.py:10: SettingWithCopyWarning: \n",
      "A value is trying to be set on a copy of a slice from a DataFrame.\n",
      "Try using .loc[row_indexer,col_indexer] = value instead\n",
      "\n",
      "See the caveats in the documentation: https://pandas.pydata.org/pandas-docs/stable/user_guide/indexing.html#returning-a-view-versus-a-copy\n",
      "  df_new['lag_6'] = df_new[houshold_id].shift(6).fillna(method=\"backfill\")\n",
      "/var/folders/s9/8xxpssjj6k1g7crmj4658z5h0000gn/T/ipykernel_47001/3561779689.py:11: SettingWithCopyWarning: \n",
      "A value is trying to be set on a copy of a slice from a DataFrame.\n",
      "Try using .loc[row_indexer,col_indexer] = value instead\n",
      "\n",
      "See the caveats in the documentation: https://pandas.pydata.org/pandas-docs/stable/user_guide/indexing.html#returning-a-view-versus-a-copy\n",
      "  df_new['lag_7'] = df_new[houshold_id].shift(7).fillna(method=\"backfill\")\n"
     ]
    },
    {
     "name": "stdout",
     "output_type": "stream",
     "text": [
      "[Timestamp('2018-05-04 00:00:00'), Timestamp('2018-05-05 00:00:00'), Timestamp('2018-05-06 00:00:00'), Timestamp('2018-05-07 00:00:00'), Timestamp('2018-05-08 00:00:00'), Timestamp('2018-05-09 00:00:00'), Timestamp('2018-05-10 00:00:00')]\n",
      "target:  2017-01-01    1673.8655\n",
      "2017-01-02    1463.3230\n",
      "2017-01-03    1132.2910\n",
      "2017-01-04    1183.8085\n",
      "2017-01-05    1125.2870\n",
      "                ...    \n",
      "2018-04-29    3162.0090\n",
      "2018-04-30    2680.4410\n",
      "2018-05-01    2379.5370\n",
      "2018-05-02    2202.5090\n",
      "2018-05-03    2208.4635\n",
      "Freq: D, Name: 1, Length: 488, dtype: float64\n",
      "trained on 10\n",
      "=============================================\n",
      "[2560.73310831 2812.68009167 2787.23849771 2646.72800753 2606.98427703\n",
      " 2580.04429976 2639.12583577]\n",
      "2018-05-04    2560.733108\n",
      "2018-05-05    2812.680092\n",
      "2018-05-06    2787.238498\n",
      "2018-05-07    2646.728008\n",
      "2018-05-08    2606.984277\n",
      "2018-05-09    2580.044300\n",
      "2018-05-10    2639.125836\n",
      "Freq: D, Name: 1, dtype: float64\n",
      "=============================================\n",
      "week 11 splitting started\n"
     ]
    },
    {
     "name": "stderr",
     "output_type": "stream",
     "text": [
      "/var/folders/s9/8xxpssjj6k1g7crmj4658z5h0000gn/T/ipykernel_47001/3561779689.py:3: SettingWithCopyWarning: \n",
      "A value is trying to be set on a copy of a slice from a DataFrame.\n",
      "Try using .loc[row_indexer,col_indexer] = value instead\n",
      "\n",
      "See the caveats in the documentation: https://pandas.pydata.org/pandas-docs/stable/user_guide/indexing.html#returning-a-view-versus-a-copy\n",
      "  df_new['std'] = df_new[houshold_id].rolling(7).std().fillna(method=\"backfill\")\n",
      "/var/folders/s9/8xxpssjj6k1g7crmj4658z5h0000gn/T/ipykernel_47001/3561779689.py:4: SettingWithCopyWarning: \n",
      "A value is trying to be set on a copy of a slice from a DataFrame.\n",
      "Try using .loc[row_indexer,col_indexer] = value instead\n",
      "\n",
      "See the caveats in the documentation: https://pandas.pydata.org/pandas-docs/stable/user_guide/indexing.html#returning-a-view-versus-a-copy\n",
      "  df_new['mean'] = df_new[houshold_id].rolling(7).mean().fillna(method=\"backfill\")\n",
      "/var/folders/s9/8xxpssjj6k1g7crmj4658z5h0000gn/T/ipykernel_47001/3561779689.py:5: SettingWithCopyWarning: \n",
      "A value is trying to be set on a copy of a slice from a DataFrame.\n",
      "Try using .loc[row_indexer,col_indexer] = value instead\n",
      "\n",
      "See the caveats in the documentation: https://pandas.pydata.org/pandas-docs/stable/user_guide/indexing.html#returning-a-view-versus-a-copy\n",
      "  df_new['lag_1'] = df[houshold_id].shift(1).fillna(method=\"backfill\")\n",
      "/var/folders/s9/8xxpssjj6k1g7crmj4658z5h0000gn/T/ipykernel_47001/3561779689.py:6: SettingWithCopyWarning: \n",
      "A value is trying to be set on a copy of a slice from a DataFrame.\n",
      "Try using .loc[row_indexer,col_indexer] = value instead\n",
      "\n",
      "See the caveats in the documentation: https://pandas.pydata.org/pandas-docs/stable/user_guide/indexing.html#returning-a-view-versus-a-copy\n",
      "  df_new['lag_2'] = df[houshold_id].shift(2).fillna(method=\"backfill\")\n",
      "/var/folders/s9/8xxpssjj6k1g7crmj4658z5h0000gn/T/ipykernel_47001/3561779689.py:7: SettingWithCopyWarning: \n",
      "A value is trying to be set on a copy of a slice from a DataFrame.\n",
      "Try using .loc[row_indexer,col_indexer] = value instead\n",
      "\n",
      "See the caveats in the documentation: https://pandas.pydata.org/pandas-docs/stable/user_guide/indexing.html#returning-a-view-versus-a-copy\n",
      "  df_new['lag_3'] = df_new[houshold_id].shift(3).fillna(method=\"backfill\")\n",
      "/var/folders/s9/8xxpssjj6k1g7crmj4658z5h0000gn/T/ipykernel_47001/3561779689.py:8: SettingWithCopyWarning: \n",
      "A value is trying to be set on a copy of a slice from a DataFrame.\n",
      "Try using .loc[row_indexer,col_indexer] = value instead\n",
      "\n",
      "See the caveats in the documentation: https://pandas.pydata.org/pandas-docs/stable/user_guide/indexing.html#returning-a-view-versus-a-copy\n",
      "  df_new['lag_4'] = df_new[houshold_id].shift(4).fillna(method=\"backfill\")\n",
      "/var/folders/s9/8xxpssjj6k1g7crmj4658z5h0000gn/T/ipykernel_47001/3561779689.py:9: SettingWithCopyWarning: \n",
      "A value is trying to be set on a copy of a slice from a DataFrame.\n",
      "Try using .loc[row_indexer,col_indexer] = value instead\n",
      "\n",
      "See the caveats in the documentation: https://pandas.pydata.org/pandas-docs/stable/user_guide/indexing.html#returning-a-view-versus-a-copy\n",
      "  df_new['lag_5'] = df_new[houshold_id].shift(5).fillna(method=\"backfill\")\n",
      "/var/folders/s9/8xxpssjj6k1g7crmj4658z5h0000gn/T/ipykernel_47001/3561779689.py:10: SettingWithCopyWarning: \n",
      "A value is trying to be set on a copy of a slice from a DataFrame.\n",
      "Try using .loc[row_indexer,col_indexer] = value instead\n",
      "\n",
      "See the caveats in the documentation: https://pandas.pydata.org/pandas-docs/stable/user_guide/indexing.html#returning-a-view-versus-a-copy\n",
      "  df_new['lag_6'] = df_new[houshold_id].shift(6).fillna(method=\"backfill\")\n",
      "/var/folders/s9/8xxpssjj6k1g7crmj4658z5h0000gn/T/ipykernel_47001/3561779689.py:11: SettingWithCopyWarning: \n",
      "A value is trying to be set on a copy of a slice from a DataFrame.\n",
      "Try using .loc[row_indexer,col_indexer] = value instead\n",
      "\n",
      "See the caveats in the documentation: https://pandas.pydata.org/pandas-docs/stable/user_guide/indexing.html#returning-a-view-versus-a-copy\n",
      "  df_new['lag_7'] = df_new[houshold_id].shift(7).fillna(method=\"backfill\")\n",
      "/var/folders/s9/8xxpssjj6k1g7crmj4658z5h0000gn/T/ipykernel_47001/3561779689.py:3: SettingWithCopyWarning: \n",
      "A value is trying to be set on a copy of a slice from a DataFrame.\n",
      "Try using .loc[row_indexer,col_indexer] = value instead\n",
      "\n",
      "See the caveats in the documentation: https://pandas.pydata.org/pandas-docs/stable/user_guide/indexing.html#returning-a-view-versus-a-copy\n",
      "  df_new['std'] = df_new[houshold_id].rolling(7).std().fillna(method=\"backfill\")\n",
      "/var/folders/s9/8xxpssjj6k1g7crmj4658z5h0000gn/T/ipykernel_47001/3561779689.py:4: SettingWithCopyWarning: \n",
      "A value is trying to be set on a copy of a slice from a DataFrame.\n",
      "Try using .loc[row_indexer,col_indexer] = value instead\n",
      "\n",
      "See the caveats in the documentation: https://pandas.pydata.org/pandas-docs/stable/user_guide/indexing.html#returning-a-view-versus-a-copy\n",
      "  df_new['mean'] = df_new[houshold_id].rolling(7).mean().fillna(method=\"backfill\")\n",
      "/var/folders/s9/8xxpssjj6k1g7crmj4658z5h0000gn/T/ipykernel_47001/3561779689.py:5: SettingWithCopyWarning: \n",
      "A value is trying to be set on a copy of a slice from a DataFrame.\n",
      "Try using .loc[row_indexer,col_indexer] = value instead\n",
      "\n",
      "See the caveats in the documentation: https://pandas.pydata.org/pandas-docs/stable/user_guide/indexing.html#returning-a-view-versus-a-copy\n",
      "  df_new['lag_1'] = df[houshold_id].shift(1).fillna(method=\"backfill\")\n"
     ]
    },
    {
     "name": "stdout",
     "output_type": "stream",
     "text": [
      "[Timestamp('2018-06-18 00:00:00'), Timestamp('2018-06-19 00:00:00'), Timestamp('2018-06-20 00:00:00'), Timestamp('2018-06-21 00:00:00'), Timestamp('2018-06-22 00:00:00'), Timestamp('2018-06-23 00:00:00'), Timestamp('2018-06-24 00:00:00')]\n",
      "target:  2017-01-01    1673.8655\n",
      "2017-01-02    1463.3230\n",
      "2017-01-03    1132.2910\n",
      "2017-01-04    1183.8085\n",
      "2017-01-05    1125.2870\n",
      "                ...    \n",
      "2018-06-13    1944.5170\n",
      "2018-06-14    2878.2110\n",
      "2018-06-15    2680.7295\n",
      "2018-06-16    2158.2170\n",
      "2018-06-17    1753.3420\n",
      "Freq: D, Name: 1, Length: 533, dtype: float64\n",
      "trained on 11\n",
      "=============================================\n",
      "[1846.28594321 1893.44181069 1963.47037311 2060.27218514 1986.80452372\n",
      " 1876.66221745 1820.19176486]\n",
      "2018-06-18    1846.285943\n",
      "2018-06-19    1893.441811\n",
      "2018-06-20    1963.470373\n",
      "2018-06-21    2060.272185\n",
      "2018-06-22    1986.804524\n",
      "2018-06-23    1876.662217\n",
      "2018-06-24    1820.191765\n",
      "Freq: D, Name: 1, dtype: float64\n",
      "=============================================\n",
      "week 12 splitting started\n"
     ]
    },
    {
     "name": "stderr",
     "output_type": "stream",
     "text": [
      "/var/folders/s9/8xxpssjj6k1g7crmj4658z5h0000gn/T/ipykernel_47001/3561779689.py:6: SettingWithCopyWarning: \n",
      "A value is trying to be set on a copy of a slice from a DataFrame.\n",
      "Try using .loc[row_indexer,col_indexer] = value instead\n",
      "\n",
      "See the caveats in the documentation: https://pandas.pydata.org/pandas-docs/stable/user_guide/indexing.html#returning-a-view-versus-a-copy\n",
      "  df_new['lag_2'] = df[houshold_id].shift(2).fillna(method=\"backfill\")\n",
      "/var/folders/s9/8xxpssjj6k1g7crmj4658z5h0000gn/T/ipykernel_47001/3561779689.py:7: SettingWithCopyWarning: \n",
      "A value is trying to be set on a copy of a slice from a DataFrame.\n",
      "Try using .loc[row_indexer,col_indexer] = value instead\n",
      "\n",
      "See the caveats in the documentation: https://pandas.pydata.org/pandas-docs/stable/user_guide/indexing.html#returning-a-view-versus-a-copy\n",
      "  df_new['lag_3'] = df_new[houshold_id].shift(3).fillna(method=\"backfill\")\n",
      "/var/folders/s9/8xxpssjj6k1g7crmj4658z5h0000gn/T/ipykernel_47001/3561779689.py:8: SettingWithCopyWarning: \n",
      "A value is trying to be set on a copy of a slice from a DataFrame.\n",
      "Try using .loc[row_indexer,col_indexer] = value instead\n",
      "\n",
      "See the caveats in the documentation: https://pandas.pydata.org/pandas-docs/stable/user_guide/indexing.html#returning-a-view-versus-a-copy\n",
      "  df_new['lag_4'] = df_new[houshold_id].shift(4).fillna(method=\"backfill\")\n",
      "/var/folders/s9/8xxpssjj6k1g7crmj4658z5h0000gn/T/ipykernel_47001/3561779689.py:9: SettingWithCopyWarning: \n",
      "A value is trying to be set on a copy of a slice from a DataFrame.\n",
      "Try using .loc[row_indexer,col_indexer] = value instead\n",
      "\n",
      "See the caveats in the documentation: https://pandas.pydata.org/pandas-docs/stable/user_guide/indexing.html#returning-a-view-versus-a-copy\n",
      "  df_new['lag_5'] = df_new[houshold_id].shift(5).fillna(method=\"backfill\")\n",
      "/var/folders/s9/8xxpssjj6k1g7crmj4658z5h0000gn/T/ipykernel_47001/3561779689.py:10: SettingWithCopyWarning: \n",
      "A value is trying to be set on a copy of a slice from a DataFrame.\n",
      "Try using .loc[row_indexer,col_indexer] = value instead\n",
      "\n",
      "See the caveats in the documentation: https://pandas.pydata.org/pandas-docs/stable/user_guide/indexing.html#returning-a-view-versus-a-copy\n",
      "  df_new['lag_6'] = df_new[houshold_id].shift(6).fillna(method=\"backfill\")\n",
      "/var/folders/s9/8xxpssjj6k1g7crmj4658z5h0000gn/T/ipykernel_47001/3561779689.py:11: SettingWithCopyWarning: \n",
      "A value is trying to be set on a copy of a slice from a DataFrame.\n",
      "Try using .loc[row_indexer,col_indexer] = value instead\n",
      "\n",
      "See the caveats in the documentation: https://pandas.pydata.org/pandas-docs/stable/user_guide/indexing.html#returning-a-view-versus-a-copy\n",
      "  df_new['lag_7'] = df_new[houshold_id].shift(7).fillna(method=\"backfill\")\n",
      "/var/folders/s9/8xxpssjj6k1g7crmj4658z5h0000gn/T/ipykernel_47001/3561779689.py:3: SettingWithCopyWarning: \n",
      "A value is trying to be set on a copy of a slice from a DataFrame.\n",
      "Try using .loc[row_indexer,col_indexer] = value instead\n",
      "\n",
      "See the caveats in the documentation: https://pandas.pydata.org/pandas-docs/stable/user_guide/indexing.html#returning-a-view-versus-a-copy\n",
      "  df_new['std'] = df_new[houshold_id].rolling(7).std().fillna(method=\"backfill\")\n",
      "/var/folders/s9/8xxpssjj6k1g7crmj4658z5h0000gn/T/ipykernel_47001/3561779689.py:4: SettingWithCopyWarning: \n",
      "A value is trying to be set on a copy of a slice from a DataFrame.\n",
      "Try using .loc[row_indexer,col_indexer] = value instead\n",
      "\n",
      "See the caveats in the documentation: https://pandas.pydata.org/pandas-docs/stable/user_guide/indexing.html#returning-a-view-versus-a-copy\n",
      "  df_new['mean'] = df_new[houshold_id].rolling(7).mean().fillna(method=\"backfill\")\n",
      "/var/folders/s9/8xxpssjj6k1g7crmj4658z5h0000gn/T/ipykernel_47001/3561779689.py:5: SettingWithCopyWarning: \n",
      "A value is trying to be set on a copy of a slice from a DataFrame.\n",
      "Try using .loc[row_indexer,col_indexer] = value instead\n",
      "\n",
      "See the caveats in the documentation: https://pandas.pydata.org/pandas-docs/stable/user_guide/indexing.html#returning-a-view-versus-a-copy\n",
      "  df_new['lag_1'] = df[houshold_id].shift(1).fillna(method=\"backfill\")\n"
     ]
    },
    {
     "name": "stdout",
     "output_type": "stream",
     "text": [
      "[Timestamp('2018-08-02 00:00:00'), Timestamp('2018-08-03 00:00:00'), Timestamp('2018-08-04 00:00:00'), Timestamp('2018-08-05 00:00:00'), Timestamp('2018-08-06 00:00:00'), Timestamp('2018-08-07 00:00:00'), Timestamp('2018-08-08 00:00:00')]\n",
      "target:  2017-01-01    1673.8655\n",
      "2017-01-02    1463.3230\n",
      "2017-01-03    1132.2910\n",
      "2017-01-04    1183.8085\n",
      "2017-01-05    1125.2870\n",
      "                ...    \n",
      "2018-07-28    1982.4345\n",
      "2018-07-29    1950.6950\n",
      "2018-07-30    1860.5220\n",
      "2018-07-31    2097.1985\n",
      "2018-08-01    2640.2585\n",
      "Freq: D, Name: 1, Length: 578, dtype: float64\n",
      "trained on 12\n",
      "=============================================\n",
      "[2758.66426076 2726.12592464 2681.66886895 2684.59114586 2719.35393721\n",
      " 2813.84194278 2918.39391162]\n",
      "2018-08-02    2758.664261\n",
      "2018-08-03    2726.125925\n",
      "2018-08-04    2681.668869\n",
      "2018-08-05    2684.591146\n",
      "2018-08-06    2719.353937\n",
      "2018-08-07    2813.841943\n",
      "2018-08-08    2918.393912\n",
      "Freq: D, Name: 1, dtype: float64\n",
      "=============================================\n",
      "week 13 splitting started\n",
      "[Timestamp('2018-09-16 00:00:00'), Timestamp('2018-09-17 00:00:00'), Timestamp('2018-09-18 00:00:00'), Timestamp('2018-09-19 00:00:00'), Timestamp('2018-09-20 00:00:00'), Timestamp('2018-09-21 00:00:00'), Timestamp('2018-09-22 00:00:00')]\n",
      "target:  2017-01-01    1673.8655\n",
      "2017-01-02    1463.3230\n",
      "2017-01-03    1132.2910\n",
      "2017-01-04    1183.8085\n",
      "2017-01-05    1125.2870\n",
      "                ...    \n",
      "2018-09-11    2787.6870\n",
      "2018-09-12    2862.3005\n",
      "2018-09-13    2660.4695\n",
      "2018-09-14    2167.7610\n",
      "2018-09-15    2028.0365\n",
      "Freq: D, Name: 1, Length: 623, dtype: float64\n"
     ]
    },
    {
     "name": "stderr",
     "output_type": "stream",
     "text": [
      "/var/folders/s9/8xxpssjj6k1g7crmj4658z5h0000gn/T/ipykernel_47001/3561779689.py:6: SettingWithCopyWarning: \n",
      "A value is trying to be set on a copy of a slice from a DataFrame.\n",
      "Try using .loc[row_indexer,col_indexer] = value instead\n",
      "\n",
      "See the caveats in the documentation: https://pandas.pydata.org/pandas-docs/stable/user_guide/indexing.html#returning-a-view-versus-a-copy\n",
      "  df_new['lag_2'] = df[houshold_id].shift(2).fillna(method=\"backfill\")\n",
      "/var/folders/s9/8xxpssjj6k1g7crmj4658z5h0000gn/T/ipykernel_47001/3561779689.py:7: SettingWithCopyWarning: \n",
      "A value is trying to be set on a copy of a slice from a DataFrame.\n",
      "Try using .loc[row_indexer,col_indexer] = value instead\n",
      "\n",
      "See the caveats in the documentation: https://pandas.pydata.org/pandas-docs/stable/user_guide/indexing.html#returning-a-view-versus-a-copy\n",
      "  df_new['lag_3'] = df_new[houshold_id].shift(3).fillna(method=\"backfill\")\n",
      "/var/folders/s9/8xxpssjj6k1g7crmj4658z5h0000gn/T/ipykernel_47001/3561779689.py:8: SettingWithCopyWarning: \n",
      "A value is trying to be set on a copy of a slice from a DataFrame.\n",
      "Try using .loc[row_indexer,col_indexer] = value instead\n",
      "\n",
      "See the caveats in the documentation: https://pandas.pydata.org/pandas-docs/stable/user_guide/indexing.html#returning-a-view-versus-a-copy\n",
      "  df_new['lag_4'] = df_new[houshold_id].shift(4).fillna(method=\"backfill\")\n",
      "/var/folders/s9/8xxpssjj6k1g7crmj4658z5h0000gn/T/ipykernel_47001/3561779689.py:9: SettingWithCopyWarning: \n",
      "A value is trying to be set on a copy of a slice from a DataFrame.\n",
      "Try using .loc[row_indexer,col_indexer] = value instead\n",
      "\n",
      "See the caveats in the documentation: https://pandas.pydata.org/pandas-docs/stable/user_guide/indexing.html#returning-a-view-versus-a-copy\n",
      "  df_new['lag_5'] = df_new[houshold_id].shift(5).fillna(method=\"backfill\")\n",
      "/var/folders/s9/8xxpssjj6k1g7crmj4658z5h0000gn/T/ipykernel_47001/3561779689.py:10: SettingWithCopyWarning: \n",
      "A value is trying to be set on a copy of a slice from a DataFrame.\n",
      "Try using .loc[row_indexer,col_indexer] = value instead\n",
      "\n",
      "See the caveats in the documentation: https://pandas.pydata.org/pandas-docs/stable/user_guide/indexing.html#returning-a-view-versus-a-copy\n",
      "  df_new['lag_6'] = df_new[houshold_id].shift(6).fillna(method=\"backfill\")\n",
      "/var/folders/s9/8xxpssjj6k1g7crmj4658z5h0000gn/T/ipykernel_47001/3561779689.py:11: SettingWithCopyWarning: \n",
      "A value is trying to be set on a copy of a slice from a DataFrame.\n",
      "Try using .loc[row_indexer,col_indexer] = value instead\n",
      "\n",
      "See the caveats in the documentation: https://pandas.pydata.org/pandas-docs/stable/user_guide/indexing.html#returning-a-view-versus-a-copy\n",
      "  df_new['lag_7'] = df_new[houshold_id].shift(7).fillna(method=\"backfill\")\n"
     ]
    },
    {
     "name": "stdout",
     "output_type": "stream",
     "text": [
      "trained on 13\n",
      "=============================================\n",
      "[2120.02705702 2248.24499293 2255.35680011 2233.25992954 2162.59814101\n",
      " 2090.35194021 2083.34718852]\n",
      "2018-09-16    2120.027057\n",
      "2018-09-17    2248.244993\n",
      "2018-09-18    2255.356800\n",
      "2018-09-19    2233.259930\n",
      "2018-09-20    2162.598141\n",
      "2018-09-21    2090.351940\n",
      "2018-09-22    2083.347189\n",
      "Freq: D, Name: 1, dtype: float64\n",
      "=============================================\n",
      "week 14 splitting started\n"
     ]
    },
    {
     "name": "stderr",
     "output_type": "stream",
     "text": [
      "/var/folders/s9/8xxpssjj6k1g7crmj4658z5h0000gn/T/ipykernel_47001/3561779689.py:3: SettingWithCopyWarning: \n",
      "A value is trying to be set on a copy of a slice from a DataFrame.\n",
      "Try using .loc[row_indexer,col_indexer] = value instead\n",
      "\n",
      "See the caveats in the documentation: https://pandas.pydata.org/pandas-docs/stable/user_guide/indexing.html#returning-a-view-versus-a-copy\n",
      "  df_new['std'] = df_new[houshold_id].rolling(7).std().fillna(method=\"backfill\")\n",
      "/var/folders/s9/8xxpssjj6k1g7crmj4658z5h0000gn/T/ipykernel_47001/3561779689.py:4: SettingWithCopyWarning: \n",
      "A value is trying to be set on a copy of a slice from a DataFrame.\n",
      "Try using .loc[row_indexer,col_indexer] = value instead\n",
      "\n",
      "See the caveats in the documentation: https://pandas.pydata.org/pandas-docs/stable/user_guide/indexing.html#returning-a-view-versus-a-copy\n",
      "  df_new['mean'] = df_new[houshold_id].rolling(7).mean().fillna(method=\"backfill\")\n",
      "/var/folders/s9/8xxpssjj6k1g7crmj4658z5h0000gn/T/ipykernel_47001/3561779689.py:5: SettingWithCopyWarning: \n",
      "A value is trying to be set on a copy of a slice from a DataFrame.\n",
      "Try using .loc[row_indexer,col_indexer] = value instead\n",
      "\n",
      "See the caveats in the documentation: https://pandas.pydata.org/pandas-docs/stable/user_guide/indexing.html#returning-a-view-versus-a-copy\n",
      "  df_new['lag_1'] = df[houshold_id].shift(1).fillna(method=\"backfill\")\n",
      "/var/folders/s9/8xxpssjj6k1g7crmj4658z5h0000gn/T/ipykernel_47001/3561779689.py:6: SettingWithCopyWarning: \n",
      "A value is trying to be set on a copy of a slice from a DataFrame.\n",
      "Try using .loc[row_indexer,col_indexer] = value instead\n",
      "\n",
      "See the caveats in the documentation: https://pandas.pydata.org/pandas-docs/stable/user_guide/indexing.html#returning-a-view-versus-a-copy\n",
      "  df_new['lag_2'] = df[houshold_id].shift(2).fillna(method=\"backfill\")\n",
      "/var/folders/s9/8xxpssjj6k1g7crmj4658z5h0000gn/T/ipykernel_47001/3561779689.py:7: SettingWithCopyWarning: \n",
      "A value is trying to be set on a copy of a slice from a DataFrame.\n",
      "Try using .loc[row_indexer,col_indexer] = value instead\n",
      "\n",
      "See the caveats in the documentation: https://pandas.pydata.org/pandas-docs/stable/user_guide/indexing.html#returning-a-view-versus-a-copy\n",
      "  df_new['lag_3'] = df_new[houshold_id].shift(3).fillna(method=\"backfill\")\n",
      "/var/folders/s9/8xxpssjj6k1g7crmj4658z5h0000gn/T/ipykernel_47001/3561779689.py:8: SettingWithCopyWarning: \n",
      "A value is trying to be set on a copy of a slice from a DataFrame.\n",
      "Try using .loc[row_indexer,col_indexer] = value instead\n",
      "\n",
      "See the caveats in the documentation: https://pandas.pydata.org/pandas-docs/stable/user_guide/indexing.html#returning-a-view-versus-a-copy\n",
      "  df_new['lag_4'] = df_new[houshold_id].shift(4).fillna(method=\"backfill\")\n",
      "/var/folders/s9/8xxpssjj6k1g7crmj4658z5h0000gn/T/ipykernel_47001/3561779689.py:9: SettingWithCopyWarning: \n",
      "A value is trying to be set on a copy of a slice from a DataFrame.\n",
      "Try using .loc[row_indexer,col_indexer] = value instead\n",
      "\n",
      "See the caveats in the documentation: https://pandas.pydata.org/pandas-docs/stable/user_guide/indexing.html#returning-a-view-versus-a-copy\n",
      "  df_new['lag_5'] = df_new[houshold_id].shift(5).fillna(method=\"backfill\")\n",
      "/var/folders/s9/8xxpssjj6k1g7crmj4658z5h0000gn/T/ipykernel_47001/3561779689.py:10: SettingWithCopyWarning: \n",
      "A value is trying to be set on a copy of a slice from a DataFrame.\n",
      "Try using .loc[row_indexer,col_indexer] = value instead\n",
      "\n",
      "See the caveats in the documentation: https://pandas.pydata.org/pandas-docs/stable/user_guide/indexing.html#returning-a-view-versus-a-copy\n",
      "  df_new['lag_6'] = df_new[houshold_id].shift(6).fillna(method=\"backfill\")\n",
      "/var/folders/s9/8xxpssjj6k1g7crmj4658z5h0000gn/T/ipykernel_47001/3561779689.py:11: SettingWithCopyWarning: \n",
      "A value is trying to be set on a copy of a slice from a DataFrame.\n",
      "Try using .loc[row_indexer,col_indexer] = value instead\n",
      "\n",
      "See the caveats in the documentation: https://pandas.pydata.org/pandas-docs/stable/user_guide/indexing.html#returning-a-view-versus-a-copy\n",
      "  df_new['lag_7'] = df_new[houshold_id].shift(7).fillna(method=\"backfill\")\n",
      "/var/folders/s9/8xxpssjj6k1g7crmj4658z5h0000gn/T/ipykernel_47001/3561779689.py:3: SettingWithCopyWarning: \n",
      "A value is trying to be set on a copy of a slice from a DataFrame.\n",
      "Try using .loc[row_indexer,col_indexer] = value instead\n",
      "\n",
      "See the caveats in the documentation: https://pandas.pydata.org/pandas-docs/stable/user_guide/indexing.html#returning-a-view-versus-a-copy\n",
      "  df_new['std'] = df_new[houshold_id].rolling(7).std().fillna(method=\"backfill\")\n"
     ]
    },
    {
     "name": "stdout",
     "output_type": "stream",
     "text": [
      "[Timestamp('2018-10-31 00:00:00'), Timestamp('2018-11-01 00:00:00'), Timestamp('2018-11-02 00:00:00'), Timestamp('2018-11-03 00:00:00'), Timestamp('2018-11-04 00:00:00'), Timestamp('2018-11-05 00:00:00'), Timestamp('2018-11-06 00:00:00')]\n",
      "target:  2017-01-01    1673.8655\n",
      "2017-01-02    1463.3230\n",
      "2017-01-03    1132.2910\n",
      "2017-01-04    1183.8085\n",
      "2017-01-05    1125.2870\n",
      "                ...    \n",
      "2018-10-26    2146.0025\n",
      "2018-10-27    2966.3640\n",
      "2018-10-28    3464.0775\n",
      "2018-10-29    3885.9970\n",
      "2018-10-30    3151.7125\n",
      "Freq: D, Name: 1, Length: 668, dtype: float64\n",
      "trained on 14\n",
      "=============================================\n",
      "[2769.560398   2714.58772763 2809.51154139 2937.20660296 3010.49562833\n",
      " 2990.86250844 2876.12058065]\n",
      "2018-10-31    2769.560398\n",
      "2018-11-01    2714.587728\n",
      "2018-11-02    2809.511541\n",
      "2018-11-03    2937.206603\n",
      "2018-11-04    3010.495628\n",
      "2018-11-05    2990.862508\n",
      "2018-11-06    2876.120581\n",
      "Freq: D, Name: 1, dtype: float64\n",
      "=============================================\n",
      "week 15 splitting started\n"
     ]
    },
    {
     "name": "stderr",
     "output_type": "stream",
     "text": [
      "/var/folders/s9/8xxpssjj6k1g7crmj4658z5h0000gn/T/ipykernel_47001/3561779689.py:4: SettingWithCopyWarning: \n",
      "A value is trying to be set on a copy of a slice from a DataFrame.\n",
      "Try using .loc[row_indexer,col_indexer] = value instead\n",
      "\n",
      "See the caveats in the documentation: https://pandas.pydata.org/pandas-docs/stable/user_guide/indexing.html#returning-a-view-versus-a-copy\n",
      "  df_new['mean'] = df_new[houshold_id].rolling(7).mean().fillna(method=\"backfill\")\n",
      "/var/folders/s9/8xxpssjj6k1g7crmj4658z5h0000gn/T/ipykernel_47001/3561779689.py:5: SettingWithCopyWarning: \n",
      "A value is trying to be set on a copy of a slice from a DataFrame.\n",
      "Try using .loc[row_indexer,col_indexer] = value instead\n",
      "\n",
      "See the caveats in the documentation: https://pandas.pydata.org/pandas-docs/stable/user_guide/indexing.html#returning-a-view-versus-a-copy\n",
      "  df_new['lag_1'] = df[houshold_id].shift(1).fillna(method=\"backfill\")\n",
      "/var/folders/s9/8xxpssjj6k1g7crmj4658z5h0000gn/T/ipykernel_47001/3561779689.py:6: SettingWithCopyWarning: \n",
      "A value is trying to be set on a copy of a slice from a DataFrame.\n",
      "Try using .loc[row_indexer,col_indexer] = value instead\n",
      "\n",
      "See the caveats in the documentation: https://pandas.pydata.org/pandas-docs/stable/user_guide/indexing.html#returning-a-view-versus-a-copy\n",
      "  df_new['lag_2'] = df[houshold_id].shift(2).fillna(method=\"backfill\")\n",
      "/var/folders/s9/8xxpssjj6k1g7crmj4658z5h0000gn/T/ipykernel_47001/3561779689.py:7: SettingWithCopyWarning: \n",
      "A value is trying to be set on a copy of a slice from a DataFrame.\n",
      "Try using .loc[row_indexer,col_indexer] = value instead\n",
      "\n",
      "See the caveats in the documentation: https://pandas.pydata.org/pandas-docs/stable/user_guide/indexing.html#returning-a-view-versus-a-copy\n",
      "  df_new['lag_3'] = df_new[houshold_id].shift(3).fillna(method=\"backfill\")\n",
      "/var/folders/s9/8xxpssjj6k1g7crmj4658z5h0000gn/T/ipykernel_47001/3561779689.py:8: SettingWithCopyWarning: \n",
      "A value is trying to be set on a copy of a slice from a DataFrame.\n",
      "Try using .loc[row_indexer,col_indexer] = value instead\n",
      "\n",
      "See the caveats in the documentation: https://pandas.pydata.org/pandas-docs/stable/user_guide/indexing.html#returning-a-view-versus-a-copy\n",
      "  df_new['lag_4'] = df_new[houshold_id].shift(4).fillna(method=\"backfill\")\n",
      "/var/folders/s9/8xxpssjj6k1g7crmj4658z5h0000gn/T/ipykernel_47001/3561779689.py:9: SettingWithCopyWarning: \n",
      "A value is trying to be set on a copy of a slice from a DataFrame.\n",
      "Try using .loc[row_indexer,col_indexer] = value instead\n",
      "\n",
      "See the caveats in the documentation: https://pandas.pydata.org/pandas-docs/stable/user_guide/indexing.html#returning-a-view-versus-a-copy\n",
      "  df_new['lag_5'] = df_new[houshold_id].shift(5).fillna(method=\"backfill\")\n",
      "/var/folders/s9/8xxpssjj6k1g7crmj4658z5h0000gn/T/ipykernel_47001/3561779689.py:10: SettingWithCopyWarning: \n",
      "A value is trying to be set on a copy of a slice from a DataFrame.\n",
      "Try using .loc[row_indexer,col_indexer] = value instead\n",
      "\n",
      "See the caveats in the documentation: https://pandas.pydata.org/pandas-docs/stable/user_guide/indexing.html#returning-a-view-versus-a-copy\n",
      "  df_new['lag_6'] = df_new[houshold_id].shift(6).fillna(method=\"backfill\")\n",
      "/var/folders/s9/8xxpssjj6k1g7crmj4658z5h0000gn/T/ipykernel_47001/3561779689.py:11: SettingWithCopyWarning: \n",
      "A value is trying to be set on a copy of a slice from a DataFrame.\n",
      "Try using .loc[row_indexer,col_indexer] = value instead\n",
      "\n",
      "See the caveats in the documentation: https://pandas.pydata.org/pandas-docs/stable/user_guide/indexing.html#returning-a-view-versus-a-copy\n",
      "  df_new['lag_7'] = df_new[houshold_id].shift(7).fillna(method=\"backfill\")\n",
      "/var/folders/s9/8xxpssjj6k1g7crmj4658z5h0000gn/T/ipykernel_47001/3561779689.py:3: SettingWithCopyWarning: \n",
      "A value is trying to be set on a copy of a slice from a DataFrame.\n",
      "Try using .loc[row_indexer,col_indexer] = value instead\n",
      "\n",
      "See the caveats in the documentation: https://pandas.pydata.org/pandas-docs/stable/user_guide/indexing.html#returning-a-view-versus-a-copy\n",
      "  df_new['std'] = df_new[houshold_id].rolling(7).std().fillna(method=\"backfill\")\n",
      "/var/folders/s9/8xxpssjj6k1g7crmj4658z5h0000gn/T/ipykernel_47001/3561779689.py:4: SettingWithCopyWarning: \n",
      "A value is trying to be set on a copy of a slice from a DataFrame.\n",
      "Try using .loc[row_indexer,col_indexer] = value instead\n",
      "\n",
      "See the caveats in the documentation: https://pandas.pydata.org/pandas-docs/stable/user_guide/indexing.html#returning-a-view-versus-a-copy\n",
      "  df_new['mean'] = df_new[houshold_id].rolling(7).mean().fillna(method=\"backfill\")\n",
      "/var/folders/s9/8xxpssjj6k1g7crmj4658z5h0000gn/T/ipykernel_47001/3561779689.py:5: SettingWithCopyWarning: \n",
      "A value is trying to be set on a copy of a slice from a DataFrame.\n",
      "Try using .loc[row_indexer,col_indexer] = value instead\n",
      "\n",
      "See the caveats in the documentation: https://pandas.pydata.org/pandas-docs/stable/user_guide/indexing.html#returning-a-view-versus-a-copy\n",
      "  df_new['lag_1'] = df[houshold_id].shift(1).fillna(method=\"backfill\")\n"
     ]
    },
    {
     "name": "stdout",
     "output_type": "stream",
     "text": [
      "[Timestamp('2018-12-15 00:00:00'), Timestamp('2018-12-16 00:00:00'), Timestamp('2018-12-17 00:00:00'), Timestamp('2018-12-18 00:00:00'), Timestamp('2018-12-19 00:00:00'), Timestamp('2018-12-20 00:00:00'), Timestamp('2018-12-21 00:00:00')]\n",
      "target:  2017-01-01    1673.8655\n",
      "2017-01-02    1463.3230\n",
      "2017-01-03    1132.2910\n",
      "2017-01-04    1183.8085\n",
      "2017-01-05    1125.2870\n",
      "                ...    \n",
      "2018-12-10    3858.0250\n",
      "2018-12-11    3192.8155\n",
      "2018-12-12    2814.8325\n",
      "2018-12-13    2673.4610\n",
      "2018-12-14    4059.6005\n",
      "Freq: D, Name: 1, Length: 713, dtype: float64\n",
      "trained on 15\n",
      "=============================================\n",
      "[4813.12906588 4810.82750008 4561.75366736 4453.02988965 4428.66410278\n",
      " 4535.78596787 4734.32257139]\n",
      "2018-12-15    4813.129066\n",
      "2018-12-16    4810.827500\n",
      "2018-12-17    4561.753667\n",
      "2018-12-18    4453.029890\n",
      "2018-12-19    4428.664103\n",
      "2018-12-20    4535.785968\n",
      "2018-12-21    4734.322571\n",
      "Freq: D, Name: 1, dtype: float64\n",
      "=============================================\n",
      "week 16 splitting started\n"
     ]
    },
    {
     "name": "stderr",
     "output_type": "stream",
     "text": [
      "/var/folders/s9/8xxpssjj6k1g7crmj4658z5h0000gn/T/ipykernel_47001/3561779689.py:6: SettingWithCopyWarning: \n",
      "A value is trying to be set on a copy of a slice from a DataFrame.\n",
      "Try using .loc[row_indexer,col_indexer] = value instead\n",
      "\n",
      "See the caveats in the documentation: https://pandas.pydata.org/pandas-docs/stable/user_guide/indexing.html#returning-a-view-versus-a-copy\n",
      "  df_new['lag_2'] = df[houshold_id].shift(2).fillna(method=\"backfill\")\n",
      "/var/folders/s9/8xxpssjj6k1g7crmj4658z5h0000gn/T/ipykernel_47001/3561779689.py:7: SettingWithCopyWarning: \n",
      "A value is trying to be set on a copy of a slice from a DataFrame.\n",
      "Try using .loc[row_indexer,col_indexer] = value instead\n",
      "\n",
      "See the caveats in the documentation: https://pandas.pydata.org/pandas-docs/stable/user_guide/indexing.html#returning-a-view-versus-a-copy\n",
      "  df_new['lag_3'] = df_new[houshold_id].shift(3).fillna(method=\"backfill\")\n",
      "/var/folders/s9/8xxpssjj6k1g7crmj4658z5h0000gn/T/ipykernel_47001/3561779689.py:8: SettingWithCopyWarning: \n",
      "A value is trying to be set on a copy of a slice from a DataFrame.\n",
      "Try using .loc[row_indexer,col_indexer] = value instead\n",
      "\n",
      "See the caveats in the documentation: https://pandas.pydata.org/pandas-docs/stable/user_guide/indexing.html#returning-a-view-versus-a-copy\n",
      "  df_new['lag_4'] = df_new[houshold_id].shift(4).fillna(method=\"backfill\")\n",
      "/var/folders/s9/8xxpssjj6k1g7crmj4658z5h0000gn/T/ipykernel_47001/3561779689.py:9: SettingWithCopyWarning: \n",
      "A value is trying to be set on a copy of a slice from a DataFrame.\n",
      "Try using .loc[row_indexer,col_indexer] = value instead\n",
      "\n",
      "See the caveats in the documentation: https://pandas.pydata.org/pandas-docs/stable/user_guide/indexing.html#returning-a-view-versus-a-copy\n",
      "  df_new['lag_5'] = df_new[houshold_id].shift(5).fillna(method=\"backfill\")\n",
      "/var/folders/s9/8xxpssjj6k1g7crmj4658z5h0000gn/T/ipykernel_47001/3561779689.py:10: SettingWithCopyWarning: \n",
      "A value is trying to be set on a copy of a slice from a DataFrame.\n",
      "Try using .loc[row_indexer,col_indexer] = value instead\n",
      "\n",
      "See the caveats in the documentation: https://pandas.pydata.org/pandas-docs/stable/user_guide/indexing.html#returning-a-view-versus-a-copy\n",
      "  df_new['lag_6'] = df_new[houshold_id].shift(6).fillna(method=\"backfill\")\n",
      "/var/folders/s9/8xxpssjj6k1g7crmj4658z5h0000gn/T/ipykernel_47001/3561779689.py:11: SettingWithCopyWarning: \n",
      "A value is trying to be set on a copy of a slice from a DataFrame.\n",
      "Try using .loc[row_indexer,col_indexer] = value instead\n",
      "\n",
      "See the caveats in the documentation: https://pandas.pydata.org/pandas-docs/stable/user_guide/indexing.html#returning-a-view-versus-a-copy\n",
      "  df_new['lag_7'] = df_new[houshold_id].shift(7).fillna(method=\"backfill\")\n"
     ]
    },
    {
     "name": "stdout",
     "output_type": "stream",
     "text": [
      "[Timestamp('2019-01-29 00:00:00'), Timestamp('2019-01-30 00:00:00'), Timestamp('2019-01-31 00:00:00'), Timestamp('2019-02-01 00:00:00'), Timestamp('2019-02-02 00:00:00'), Timestamp('2019-02-03 00:00:00'), Timestamp('2019-02-04 00:00:00')]\n",
      "target:  2017-01-01    1673.8655\n",
      "2017-01-02    1463.3230\n",
      "2017-01-03    1132.2910\n",
      "2017-01-04    1183.8085\n",
      "2017-01-05    1125.2870\n",
      "                ...    \n",
      "2019-01-24    4546.7475\n",
      "2019-01-25    4282.3430\n",
      "2019-01-26    2920.5120\n",
      "2019-01-27    2406.4675\n",
      "2019-01-28    2520.2570\n",
      "Freq: D, Name: 1, Length: 758, dtype: float64\n",
      "trained on 16\n",
      "=============================================\n",
      "[2251.4456506  2304.56863373 2408.56297099 2335.59922021 2210.61497008\n",
      " 2172.08689171 2147.18041959]\n",
      "2019-01-29    2251.445651\n",
      "2019-01-30    2304.568634\n",
      "2019-01-31    2408.562971\n",
      "2019-02-01    2335.599220\n",
      "2019-02-02    2210.614970\n",
      "2019-02-03    2172.086892\n",
      "2019-02-04    2147.180420\n",
      "Freq: D, Name: 1, dtype: float64\n",
      "=============================================\n"
     ]
    }
   ],
   "source": [
    "all_predictions = []\n",
    "\n",
    "for houshold in data_.columns:\n",
    "    houshold_predictions = []\n",
    "    print(\"***** Houshold \" + str(houshold) + \" dataset created ****** \")\n",
    "    for week in range(len(weeks_test_date)):\n",
    "        #print(\"week \"+  str(week) + \" splitting started\")\n",
    "        result = create_features(houshold)\n",
    "        features, target, features_predict, target_predict = data_split_accumlated(result, weeks_test_date, week, houshold)\n",
    "        model_linear = LinearRegression()\n",
    "        model_linear.fit(features, target)\n",
    "        print(\"trained on \" + str(week))\n",
    "        prediction = model_linear.predict(features_predict)\n",
    "        houshold_predictions.append(prediction)\n",
    "        week_timestamps = weeks_test_date[week]\n",
    "        target_predict['predict'] = prediction\n",
    "        df.loc[week_timestamps[0]:week_timestamps[6],houshold] = target_predict['predict']\n",
    "        print(\"=============================================\")\n",
    "        print(prediction)\n",
    "        #print(df.loc[week_timestamps[0]:week_timestamps[6],houshold])\n",
    "        print(\"=============================================\")\n",
    "    all_predictions.append(houshold_predictions)"
   ],
   "metadata": {
    "collapsed": false,
    "pycharm": {
     "name": "#%%\n"
    }
   }
  },
  {
   "cell_type": "code",
   "execution_count": 22,
   "outputs": [
    {
     "ename": "TypeError",
     "evalue": "'int' object is not subscriptable",
     "output_type": "error",
     "traceback": [
      "\u001B[0;31m---------------------------------------------------------------------------\u001B[0m",
      "\u001B[0;31mTypeError\u001B[0m                                 Traceback (most recent call last)",
      "Input \u001B[0;32mIn [22]\u001B[0m, in \u001B[0;36m<cell line: 1>\u001B[0;34m()\u001B[0m\n\u001B[0;32m----> 1\u001B[0m df\u001B[38;5;241m.\u001B[39mloc[\u001B[43mweek\u001B[49m\u001B[43m[\u001B[49m\u001B[38;5;241;43m0\u001B[39;49m\u001B[43m]\u001B[49m:week[\u001B[38;5;241m6\u001B[39m],\u001B[38;5;241m1\u001B[39m]\n",
      "\u001B[0;31mTypeError\u001B[0m: 'int' object is not subscriptable"
     ]
    }
   ],
   "source": [
    "df.loc[week[0]:week[6],1]"
   ],
   "metadata": {
    "collapsed": false,
    "pycharm": {
     "name": "#%%\n"
    }
   }
  },
  {
   "cell_type": "code",
   "execution_count": 23,
   "outputs": [
    {
     "data": {
      "text/plain": "2017-02-08    1294.317699\n2017-02-09    1357.879755\n2017-02-10    1363.067682\n2017-02-11    1719.753481\n2017-02-12    1679.028431\n2017-02-13    1633.703289\n2017-02-14    1533.374138\nFreq: D, Name: 1, dtype: float64"
     },
     "execution_count": 23,
     "metadata": {},
     "output_type": "execute_result"
    }
   ],
   "source": [
    "df.loc[weeks_test_date[0][0]:weeks_test_date[0][6],1]"
   ],
   "metadata": {
    "collapsed": false,
    "pycharm": {
     "name": "#%%\n"
    }
   }
  },
  {
   "cell_type": "code",
   "execution_count": null,
   "outputs": [],
   "source": [],
   "metadata": {
    "collapsed": false,
    "pycharm": {
     "name": "#%%\n"
    }
   }
  }
 ],
 "metadata": {
  "kernelspec": {
   "display_name": "Python 3",
   "language": "python",
   "name": "python3"
  },
  "language_info": {
   "codemirror_mode": {
    "name": "ipython",
    "version": 2
   },
   "file_extension": ".py",
   "mimetype": "text/x-python",
   "name": "python",
   "nbconvert_exporter": "python",
   "pygments_lexer": "ipython2",
   "version": "2.7.6"
  }
 },
 "nbformat": 4,
 "nbformat_minor": 0
}