{
 "cells": [
  {
   "cell_type": "code",
   "execution_count": 1,
   "metadata": {
    "collapsed": true,
    "pycharm": {
     "name": "#%%\n"
    }
   },
   "outputs": [],
   "source": [
    "from merlion.utils import TimeSeries\n",
    "import pandas as pd\n",
    "from pandas import DataFrame\n",
    "import numpy as np\n",
    "import matplotlib.pyplot as plt\n",
    "from data.starting_kit.ts_split import GroupedTimeSeriesSplit\n",
    "from merlion.models.defaults import DefaultForecasterConfig, DefaultForecaster\n",
    "from datetime import datetime\n",
    "from merlion.evaluate.forecast import ForecastMetric\n",
    "from merlion.models.factory import ModelFactory\n",
    "from merlion.models.ensemble.combine import ModelSelector\n",
    "from merlion.evaluate.forecast import ForecastMetric"
   ]
  },
  {
   "cell_type": "code",
   "execution_count": 2,
   "outputs": [],
   "source": [
    "df = pd.read_csv('../data/starting_kit/train.csv')\n",
    "# drop index for feature preparation\n",
    "df_ = df.drop(columns='pseudo_id')\n",
    "# convert dates to pandas datetime\n",
    "df_.columns = [datetime.strptime(c, \"%Y-%m-%d %H:%M:%S\") for c in df_.columns]\n",
    "# Aggregate energy use values per day\n",
    "\n",
    "df_ = df_.T.resample(\"H\").sum()\n",
    "# Set dates for development phase\n",
    "new_date_range = pd.date_range(start=\"2017-01-01\", end=\"2019-03-31\", freq=\"H\")\n",
    "# Add test dates in the data frame\n",
    "df_ = df_.reindex(new_date_range, fill_value = 0) # using dummy values in test set\n",
    "# df_ = df_.T\n",
    "df_.index = pd.to_datetime(df_.index)"
   ],
   "metadata": {
    "collapsed": false,
    "pycharm": {
     "name": "#%%\n"
    }
   }
  },
  {
   "cell_type": "code",
   "execution_count": 3,
   "outputs": [
    {
     "data": {
      "text/plain": "                          0      1        2        3       4       5       6   \\\n2017-01-01 00:00:00  85.0080  4.572  23.6665  104.853  55.043  21.670   8.517   \n2017-01-01 01:00:00  71.3175  4.533  24.5725   90.228  53.691  20.802   9.665   \n2017-01-01 02:00:00  74.4110  5.788  24.7250   94.137  50.388  20.309  10.970   \n2017-01-01 03:00:00  72.9065  5.674  24.8970   96.276  54.270  19.099   9.228   \n2017-01-01 04:00:00  32.8025  2.528  11.5560   42.680  23.174   8.557   3.721   \n\n                          7        8       9   ...     51      52     53  \\\n2017-01-01 00:00:00  50.1745  74.8950  22.242  ...  0.368  11.430  9.319   \n2017-01-01 01:00:00  47.1655  63.5045  21.320  ...  0.680  11.414  9.950   \n2017-01-01 02:00:00  51.7245  62.5770  23.942  ...  1.400  14.907  8.828   \n2017-01-01 03:00:00  49.3040  64.9425  21.885  ...  0.803  12.920  8.203   \n2017-01-01 04:00:00  23.9510  26.9285  10.102  ...  0.205   6.317  3.524   \n\n                        54     55     56     57      58      59     60  \n2017-01-01 00:00:00  1.745  5.848  1.232  3.041  6.9575  2.0065  6.693  \n2017-01-01 01:00:00  1.807  8.823  0.669  2.868  5.6150  1.4100  5.698  \n2017-01-01 02:00:00  1.650  8.535  0.645  2.892  6.6505  1.5015  5.953  \n2017-01-01 03:00:00  1.362  5.721  1.418  3.190  7.4195  1.2500  6.856  \n2017-01-01 04:00:00  0.869  2.667  0.303  1.803  3.7660  0.7975  1.632  \n\n[5 rows x 61 columns]",
      "text/html": "<div>\n<style scoped>\n    .dataframe tbody tr th:only-of-type {\n        vertical-align: middle;\n    }\n\n    .dataframe tbody tr th {\n        vertical-align: top;\n    }\n\n    .dataframe thead th {\n        text-align: right;\n    }\n</style>\n<table border=\"1\" class=\"dataframe\">\n  <thead>\n    <tr style=\"text-align: right;\">\n      <th></th>\n      <th>0</th>\n      <th>1</th>\n      <th>2</th>\n      <th>3</th>\n      <th>4</th>\n      <th>5</th>\n      <th>6</th>\n      <th>7</th>\n      <th>8</th>\n      <th>9</th>\n      <th>...</th>\n      <th>51</th>\n      <th>52</th>\n      <th>53</th>\n      <th>54</th>\n      <th>55</th>\n      <th>56</th>\n      <th>57</th>\n      <th>58</th>\n      <th>59</th>\n      <th>60</th>\n    </tr>\n  </thead>\n  <tbody>\n    <tr>\n      <th>2017-01-01 00:00:00</th>\n      <td>85.0080</td>\n      <td>4.572</td>\n      <td>23.6665</td>\n      <td>104.853</td>\n      <td>55.043</td>\n      <td>21.670</td>\n      <td>8.517</td>\n      <td>50.1745</td>\n      <td>74.8950</td>\n      <td>22.242</td>\n      <td>...</td>\n      <td>0.368</td>\n      <td>11.430</td>\n      <td>9.319</td>\n      <td>1.745</td>\n      <td>5.848</td>\n      <td>1.232</td>\n      <td>3.041</td>\n      <td>6.9575</td>\n      <td>2.0065</td>\n      <td>6.693</td>\n    </tr>\n    <tr>\n      <th>2017-01-01 01:00:00</th>\n      <td>71.3175</td>\n      <td>4.533</td>\n      <td>24.5725</td>\n      <td>90.228</td>\n      <td>53.691</td>\n      <td>20.802</td>\n      <td>9.665</td>\n      <td>47.1655</td>\n      <td>63.5045</td>\n      <td>21.320</td>\n      <td>...</td>\n      <td>0.680</td>\n      <td>11.414</td>\n      <td>9.950</td>\n      <td>1.807</td>\n      <td>8.823</td>\n      <td>0.669</td>\n      <td>2.868</td>\n      <td>5.6150</td>\n      <td>1.4100</td>\n      <td>5.698</td>\n    </tr>\n    <tr>\n      <th>2017-01-01 02:00:00</th>\n      <td>74.4110</td>\n      <td>5.788</td>\n      <td>24.7250</td>\n      <td>94.137</td>\n      <td>50.388</td>\n      <td>20.309</td>\n      <td>10.970</td>\n      <td>51.7245</td>\n      <td>62.5770</td>\n      <td>23.942</td>\n      <td>...</td>\n      <td>1.400</td>\n      <td>14.907</td>\n      <td>8.828</td>\n      <td>1.650</td>\n      <td>8.535</td>\n      <td>0.645</td>\n      <td>2.892</td>\n      <td>6.6505</td>\n      <td>1.5015</td>\n      <td>5.953</td>\n    </tr>\n    <tr>\n      <th>2017-01-01 03:00:00</th>\n      <td>72.9065</td>\n      <td>5.674</td>\n      <td>24.8970</td>\n      <td>96.276</td>\n      <td>54.270</td>\n      <td>19.099</td>\n      <td>9.228</td>\n      <td>49.3040</td>\n      <td>64.9425</td>\n      <td>21.885</td>\n      <td>...</td>\n      <td>0.803</td>\n      <td>12.920</td>\n      <td>8.203</td>\n      <td>1.362</td>\n      <td>5.721</td>\n      <td>1.418</td>\n      <td>3.190</td>\n      <td>7.4195</td>\n      <td>1.2500</td>\n      <td>6.856</td>\n    </tr>\n    <tr>\n      <th>2017-01-01 04:00:00</th>\n      <td>32.8025</td>\n      <td>2.528</td>\n      <td>11.5560</td>\n      <td>42.680</td>\n      <td>23.174</td>\n      <td>8.557</td>\n      <td>3.721</td>\n      <td>23.9510</td>\n      <td>26.9285</td>\n      <td>10.102</td>\n      <td>...</td>\n      <td>0.205</td>\n      <td>6.317</td>\n      <td>3.524</td>\n      <td>0.869</td>\n      <td>2.667</td>\n      <td>0.303</td>\n      <td>1.803</td>\n      <td>3.7660</td>\n      <td>0.7975</td>\n      <td>1.632</td>\n    </tr>\n  </tbody>\n</table>\n<p>5 rows × 61 columns</p>\n</div>"
     },
     "execution_count": 3,
     "metadata": {},
     "output_type": "execute_result"
    }
   ],
   "source": [
    "df_.head()"
   ],
   "metadata": {
    "collapsed": false,
    "pycharm": {
     "name": "#%%\n"
    }
   }
  },
  {
   "cell_type": "code",
   "execution_count": 4,
   "outputs": [],
   "source": [
    "tscv = GroupedTimeSeriesSplit(train_window= 912, test_window=168, train_gap = 0, freq=\"H\")"
   ],
   "metadata": {
    "collapsed": false,
    "pycharm": {
     "name": "#%%\n"
    }
   }
  },
  {
   "cell_type": "code",
   "execution_count": 5,
   "outputs": [],
   "source": [
    "### Define models to be used in the ensemble\n",
    "max_target_seq_index = 1 ##df_.shape[1]\n",
    "max_forecast_steps = 168\n",
    "models = []"
   ],
   "metadata": {
    "collapsed": false,
    "pycharm": {
     "name": "#%%\n"
    }
   }
  },
  {
   "cell_type": "code",
   "execution_count": null,
   "outputs": [
    {
     "name": "stdout",
     "output_type": "stream",
     "text": [
      "Dwelling: 0\n",
      "** Split: 0\n"
     ]
    }
   ],
   "source": [
    "for target_seq_index in range(0, max_target_seq_index):\n",
    "    print(\"Dwelling:\", target_seq_index)\n",
    "    kwargs = dict(max_forecast_steps=max_forecast_steps, target_seq_index=target_seq_index)\n",
    "\n",
    "    model1 = ModelFactory.create(\"DefaultForecaster\", **kwargs)\n",
    "\n",
    "    model2 = ModelFactory.create(\"Arima\", **kwargs)\n",
    "\n",
    "    # This ModelSelector combiner picks the best model based on sMAPE\n",
    "    model3 = ModelFactory.create(\"ForecasterEnsemble\", models=[model1, model2],\n",
    "                                     combiner=ModelSelector(metric=ForecastMetric.sMAPE))\n",
    "\n",
    "    localModels = [model1, model2, model3]\n",
    "    split = 0\n",
    "    for train_ind, test_ind in tscv.split(df_, y=df_, dates = df_.index):\n",
    "        print(\"** Split:\", split)\n",
    "        split += 1\n",
    "\n",
    "        ### Prepare data for training\n",
    "        train_ind_all = range(train_ind[-1]+1)\n",
    "        X_train_df = df_.iloc[train_ind_all].copy()\n",
    "        X_train = TimeSeries.from_pd(X_train_df)\n",
    "\n",
    "        ### Prepare data for testing\n",
    "        X_test_df = df_.iloc[test_ind].copy()\n",
    "        X_test = TimeSeries.from_pd(X_test_df)\n",
    "        target_univariate = X_test.univariates[X_test.names[target_seq_index]]\n",
    "        target = target_univariate.to_ts()\n",
    "\n",
    "        model = model3\n",
    "        train_pred, train_stderr = model.train(X_train)\n",
    "\n",
    "        forecast, stderr = model.forecast(target.time_stamps)\n",
    "        forecast = DataFrame(forecast.to_pd())\n",
    "        forecast = forecast.values.reshape(max_forecast_steps)\n",
    "        df_.iloc[test_ind,target_seq_index] = forecast"
   ],
   "metadata": {
    "collapsed": false,
    "pycharm": {
     "name": "#%%\n",
     "is_executing": true
    }
   }
  },
  {
   "cell_type": "code",
   "execution_count": null,
   "outputs": [],
   "source": [
    "df_.to_csv('out-hours.csv', index=False)"
   ],
   "metadata": {
    "collapsed": false,
    "pycharm": {
     "name": "#%%\n"
    }
   }
  },
  {
   "cell_type": "code",
   "execution_count": null,
   "outputs": [],
   "source": [
    "new_date_range = pd.date_range(start=\"2017-01-01\", end=\"2017-07-01\", freq=\"H\")\n",
    "df_year_17 = df_.reindex(new_date_range)\n",
    "df_year_17.loc[: , 47].plot(figsize=(12,6))"
   ],
   "metadata": {
    "collapsed": false,
    "pycharm": {
     "name": "#%%\n"
    }
   }
  }
 ],
 "metadata": {
  "kernelspec": {
   "display_name": "Python 3",
   "language": "python",
   "name": "python3"
  },
  "language_info": {
   "codemirror_mode": {
    "name": "ipython",
    "version": 2
   },
   "file_extension": ".py",
   "mimetype": "text/x-python",
   "name": "python",
   "nbconvert_exporter": "python",
   "pygments_lexer": "ipython2",
   "version": "2.7.6"
  }
 },
 "nbformat": 4,
 "nbformat_minor": 0
}